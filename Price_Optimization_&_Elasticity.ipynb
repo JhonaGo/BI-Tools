{
  "nbformat": 4,
  "nbformat_minor": 0,
  "metadata": {
    "colab": {
      "provenance": [],
      "collapsed_sections": [
        "ge6wZy0uuK_n",
        "ybxKDd7I__7u",
        "bXPC-CqKrBta"
      ],
      "include_colab_link": true
    },
    "kernelspec": {
      "name": "python3",
      "display_name": "Python 3"
    },
    "language_info": {
      "name": "python"
    }
  },
  "cells": [
    {
      "cell_type": "markdown",
      "metadata": {
        "id": "view-in-github",
        "colab_type": "text"
      },
      "source": [
        "<a href=\"https://colab.research.google.com/github/JhonaGo/BI-Tools/blob/main/Price_Optimization_%26_Elasticity.ipynb\" target=\"_parent\"><img src=\"https://colab.research.google.com/assets/colab-badge.svg\" alt=\"Open In Colab\"/></a>"
      ]
    },
    {
      "cell_type": "code",
      "execution_count": null,
      "metadata": {
        "id": "pCbheiDSS2bb"
      },
      "outputs": [],
      "source": [
        "import pandas as pd"
      ]
    },
    {
      "cell_type": "code",
      "source": [
        "#from google.colab import drive\n",
        "#drive.mount('/content/drive')"
      ],
      "metadata": {
        "id": "hcp78hnr8HPl"
      },
      "execution_count": null,
      "outputs": []
    },
    {
      "cell_type": "markdown",
      "source": [
        "##Motivacion"
      ],
      "metadata": {
        "id": "IDz0-5ndGEF2"
      }
    },
    {
      "cell_type": "markdown",
      "source": [
        "Con el objetivo de comprender la relacion que guarda el comportamiento de la demanda con respecto a los diferentes precios que se ofertan, se lleva adelante el analisis de optimizacion de la demanda. Para este ejercicio se utilizan las variables volumen e ingresos netos a nivel producto."
      ],
      "metadata": {
        "id": "c1MaU_1_Onxf"
      }
    },
    {
      "cell_type": "markdown",
      "source": [
        "**Construccion del Dataset**"
      ],
      "metadata": {
        "id": "wmMwD5T5dXtJ"
      }
    },
    {
      "cell_type": "code",
      "source": [
        "pd.options.display.float_format = '{:.2f}'.format"
      ],
      "metadata": {
        "id": "4Nsq0DlVVHM_"
      },
      "execution_count": null,
      "outputs": []
    },
    {
      "cell_type": "code",
      "source": [
        "df = pd.read_excel(\"/content/df26_BI.xlsx\")\n",
        "\n",
        "df.info()"
      ],
      "metadata": {
        "colab": {
          "base_uri": "https://localhost:8080/"
        },
        "id": "z8QK4pAZkkAU",
        "outputId": "b549560e-ce04-4bef-def8-90c5aa0965c8"
      },
      "execution_count": null,
      "outputs": [
        {
          "output_type": "stream",
          "name": "stdout",
          "text": [
            "<class 'pandas.core.frame.DataFrame'>\n",
            "RangeIndex: 719 entries, 0 to 718\n",
            "Data columns (total 6 columns):\n",
            " #   Column              Non-Null Count  Dtype         \n",
            "---  ------              --------------  -----         \n",
            " 0   Billing Date        719 non-null    datetime64[ns]\n",
            " 1   Descripcion         719 non-null    object        \n",
            " 2   UD                  719 non-null    int64         \n",
            " 3   VALOR               719 non-null    float64       \n",
            " 4   outlier_prediction  719 non-null    int64         \n",
            " 5   anomaly_score       719 non-null    float64       \n",
            "dtypes: datetime64[ns](1), float64(2), int64(2), object(1)\n",
            "memory usage: 33.8+ KB\n"
          ]
        }
      ]
    },
    {
      "cell_type": "markdown",
      "source": [
        "# Eficiencia de Pareto"
      ],
      "metadata": {
        "id": "ge6wZy0uuK_n"
      }
    },
    {
      "cell_type": "code",
      "source": [
        "import numpy as np\n",
        "\n",
        "pareto = pd.pivot_table(data=df,\n",
        "                           index=[\"Descripcion\"],\n",
        "                           values=[\"UD\"],\n",
        "                           aggfunc=np.sum,\n",
        "                           fill_value=0)\n",
        "\n",
        "pareto = pareto[~(pareto == 0).all(axis=1)]\n",
        "\n",
        "pareto = pareto.sort_values(by='UD', ascending=False)\n",
        "\n",
        "\n",
        "#add column to display cumulative percentage\n",
        "pareto['cumperc'] = pareto['UD'].cumsum()/pareto['UD'].sum()*100\n",
        "\n",
        "#view DataFrame\n",
        "pareto\n",
        "#pareto.to_excel(\"pareto.xlsx\")"
      ],
      "metadata": {
        "colab": {
          "base_uri": "https://localhost:8080/",
          "height": 981
        },
        "id": "m_Wn4oYrzbNp",
        "outputId": "b7306df9-9905-4672-e868-8473442f51c0"
      },
      "execution_count": null,
      "outputs": [
        {
          "output_type": "stream",
          "name": "stderr",
          "text": [
            "/tmp/ipython-input-4071752332.py:3: FutureWarning: The provided callable <function sum at 0x7cc52c719620> is currently using DataFrameGroupBy.sum. In a future version of pandas, the provided callable will be used directly. To keep current behavior pass the string \"sum\" instead.\n",
            "  pareto = pd.pivot_table(data=df,\n"
          ]
        },
        {
          "output_type": "execute_result",
          "data": {
            "text/plain": [
              "                                                      UD  cumperc\n",
              "Descripcion                                                      \n",
              "Buenisan 400 mg 10 tabs                           184119    16.74\n",
              "Pasta Sanalite Avance 113 mg                      172828    32.45\n",
              "Buenisan 400 mg 20 tabs                           148253    45.92\n",
              "Pasta Sanalite Maximo Alivio y Blaqueador 100 mg  100483    55.06\n",
              "Pasta Sanalite Magico Alivio 100 mg                76402    62.00\n",
              "Buenisan 200 mg 12 tabs                            57717    67.25\n",
              "Pasta Sanalite Maximo Alivio 12 Hrs 100 mg         46681    71.49\n",
              "Pasta Sanalite Maxima Blaqueador 100 mg            37941    74.94\n",
              "Pasta Sanalite Antisarro 113 mg                    36431    78.25\n",
              "Pasta Sanalite Encias sensibles 100 mg             33853    81.33\n",
              "Trodinol 100 mg 20 Tabs                            31533    84.20\n",
              "Buenisan 600 mg 6 tabs                             24227    86.40\n",
              "Buenisan Plus 200 mg 20 tabs                       21415    88.35\n",
              "Buenisan 600 mg 12 tabs                            20883    90.25\n",
              "Trodinol 20 tabs + Jarabe Adul 100 ml              20696    92.13\n",
              "Buenisan 200 mg 24 tabs                            18446    93.80\n",
              "Pasta Sanalite Antisarro 50 mg                     14355    95.11\n",
              "Pasta Sanalite Magico Alivio Blanqueador 100 mg    12412    96.24\n",
              "Buenisan infantil 100 ml                            8073    96.97\n",
              "Buenisan Plus 200 mg 10 tabs                        6640    97.57\n",
              "Buenisan 200 mg 100 tabs                            6147    98.13\n",
              "Pasta Sanalite Max Prof 113 mg                      5826    98.66\n",
              "Pasta Sanalite Max Prof 50 mg                       5353    99.15\n",
              "Trodinol Jarabe Infantil 100 ML                     4608    99.57\n",
              "Pasta Sanalite Antisarro 113 mg 2 pack              3492    99.89\n",
              "Trodinol Jarabe adulto 100 ML                       1237   100.00\n",
              "Pasta Sanalite Super Fresh 113 mg                     19   100.00"
            ],
            "text/html": [
              "\n",
              "  <div id=\"df-82ab081c-7264-4235-95b4-a58cecef1ffd\" class=\"colab-df-container\">\n",
              "    <div>\n",
              "<style scoped>\n",
              "    .dataframe tbody tr th:only-of-type {\n",
              "        vertical-align: middle;\n",
              "    }\n",
              "\n",
              "    .dataframe tbody tr th {\n",
              "        vertical-align: top;\n",
              "    }\n",
              "\n",
              "    .dataframe thead th {\n",
              "        text-align: right;\n",
              "    }\n",
              "</style>\n",
              "<table border=\"1\" class=\"dataframe\">\n",
              "  <thead>\n",
              "    <tr style=\"text-align: right;\">\n",
              "      <th></th>\n",
              "      <th>UD</th>\n",
              "      <th>cumperc</th>\n",
              "    </tr>\n",
              "    <tr>\n",
              "      <th>Descripcion</th>\n",
              "      <th></th>\n",
              "      <th></th>\n",
              "    </tr>\n",
              "  </thead>\n",
              "  <tbody>\n",
              "    <tr>\n",
              "      <th>Buenisan 400 mg 10 tabs</th>\n",
              "      <td>184119</td>\n",
              "      <td>16.74</td>\n",
              "    </tr>\n",
              "    <tr>\n",
              "      <th>Pasta Sanalite Avance 113 mg</th>\n",
              "      <td>172828</td>\n",
              "      <td>32.45</td>\n",
              "    </tr>\n",
              "    <tr>\n",
              "      <th>Buenisan 400 mg 20 tabs</th>\n",
              "      <td>148253</td>\n",
              "      <td>45.92</td>\n",
              "    </tr>\n",
              "    <tr>\n",
              "      <th>Pasta Sanalite Maximo Alivio y Blaqueador 100 mg</th>\n",
              "      <td>100483</td>\n",
              "      <td>55.06</td>\n",
              "    </tr>\n",
              "    <tr>\n",
              "      <th>Pasta Sanalite Magico Alivio 100 mg</th>\n",
              "      <td>76402</td>\n",
              "      <td>62.00</td>\n",
              "    </tr>\n",
              "    <tr>\n",
              "      <th>Buenisan 200 mg 12 tabs</th>\n",
              "      <td>57717</td>\n",
              "      <td>67.25</td>\n",
              "    </tr>\n",
              "    <tr>\n",
              "      <th>Pasta Sanalite Maximo Alivio 12 Hrs 100 mg</th>\n",
              "      <td>46681</td>\n",
              "      <td>71.49</td>\n",
              "    </tr>\n",
              "    <tr>\n",
              "      <th>Pasta Sanalite Maxima Blaqueador 100 mg</th>\n",
              "      <td>37941</td>\n",
              "      <td>74.94</td>\n",
              "    </tr>\n",
              "    <tr>\n",
              "      <th>Pasta Sanalite Antisarro 113 mg</th>\n",
              "      <td>36431</td>\n",
              "      <td>78.25</td>\n",
              "    </tr>\n",
              "    <tr>\n",
              "      <th>Pasta Sanalite Encias sensibles 100 mg</th>\n",
              "      <td>33853</td>\n",
              "      <td>81.33</td>\n",
              "    </tr>\n",
              "    <tr>\n",
              "      <th>Trodinol 100 mg 20 Tabs</th>\n",
              "      <td>31533</td>\n",
              "      <td>84.20</td>\n",
              "    </tr>\n",
              "    <tr>\n",
              "      <th>Buenisan 600 mg 6 tabs</th>\n",
              "      <td>24227</td>\n",
              "      <td>86.40</td>\n",
              "    </tr>\n",
              "    <tr>\n",
              "      <th>Buenisan Plus 200 mg 20 tabs</th>\n",
              "      <td>21415</td>\n",
              "      <td>88.35</td>\n",
              "    </tr>\n",
              "    <tr>\n",
              "      <th>Buenisan 600 mg 12 tabs</th>\n",
              "      <td>20883</td>\n",
              "      <td>90.25</td>\n",
              "    </tr>\n",
              "    <tr>\n",
              "      <th>Trodinol 20 tabs + Jarabe Adul 100 ml</th>\n",
              "      <td>20696</td>\n",
              "      <td>92.13</td>\n",
              "    </tr>\n",
              "    <tr>\n",
              "      <th>Buenisan 200 mg 24 tabs</th>\n",
              "      <td>18446</td>\n",
              "      <td>93.80</td>\n",
              "    </tr>\n",
              "    <tr>\n",
              "      <th>Pasta Sanalite Antisarro 50 mg</th>\n",
              "      <td>14355</td>\n",
              "      <td>95.11</td>\n",
              "    </tr>\n",
              "    <tr>\n",
              "      <th>Pasta Sanalite Magico Alivio Blanqueador 100 mg</th>\n",
              "      <td>12412</td>\n",
              "      <td>96.24</td>\n",
              "    </tr>\n",
              "    <tr>\n",
              "      <th>Buenisan infantil 100 ml</th>\n",
              "      <td>8073</td>\n",
              "      <td>96.97</td>\n",
              "    </tr>\n",
              "    <tr>\n",
              "      <th>Buenisan Plus 200 mg 10 tabs</th>\n",
              "      <td>6640</td>\n",
              "      <td>97.57</td>\n",
              "    </tr>\n",
              "    <tr>\n",
              "      <th>Buenisan 200 mg 100 tabs</th>\n",
              "      <td>6147</td>\n",
              "      <td>98.13</td>\n",
              "    </tr>\n",
              "    <tr>\n",
              "      <th>Pasta Sanalite Max Prof 113 mg</th>\n",
              "      <td>5826</td>\n",
              "      <td>98.66</td>\n",
              "    </tr>\n",
              "    <tr>\n",
              "      <th>Pasta Sanalite Max Prof 50 mg</th>\n",
              "      <td>5353</td>\n",
              "      <td>99.15</td>\n",
              "    </tr>\n",
              "    <tr>\n",
              "      <th>Trodinol Jarabe Infantil 100 ML</th>\n",
              "      <td>4608</td>\n",
              "      <td>99.57</td>\n",
              "    </tr>\n",
              "    <tr>\n",
              "      <th>Pasta Sanalite Antisarro 113 mg 2 pack</th>\n",
              "      <td>3492</td>\n",
              "      <td>99.89</td>\n",
              "    </tr>\n",
              "    <tr>\n",
              "      <th>Trodinol Jarabe adulto 100 ML</th>\n",
              "      <td>1237</td>\n",
              "      <td>100.00</td>\n",
              "    </tr>\n",
              "    <tr>\n",
              "      <th>Pasta Sanalite Super Fresh 113 mg</th>\n",
              "      <td>19</td>\n",
              "      <td>100.00</td>\n",
              "    </tr>\n",
              "  </tbody>\n",
              "</table>\n",
              "</div>\n",
              "    <div class=\"colab-df-buttons\">\n",
              "\n",
              "  <div class=\"colab-df-container\">\n",
              "    <button class=\"colab-df-convert\" onclick=\"convertToInteractive('df-82ab081c-7264-4235-95b4-a58cecef1ffd')\"\n",
              "            title=\"Convert this dataframe to an interactive table.\"\n",
              "            style=\"display:none;\">\n",
              "\n",
              "  <svg xmlns=\"http://www.w3.org/2000/svg\" height=\"24px\" viewBox=\"0 -960 960 960\">\n",
              "    <path d=\"M120-120v-720h720v720H120Zm60-500h600v-160H180v160Zm220 220h160v-160H400v160Zm0 220h160v-160H400v160ZM180-400h160v-160H180v160Zm440 0h160v-160H620v160ZM180-180h160v-160H180v160Zm440 0h160v-160H620v160Z\"/>\n",
              "  </svg>\n",
              "    </button>\n",
              "\n",
              "  <style>\n",
              "    .colab-df-container {\n",
              "      display:flex;\n",
              "      gap: 12px;\n",
              "    }\n",
              "\n",
              "    .colab-df-convert {\n",
              "      background-color: #E8F0FE;\n",
              "      border: none;\n",
              "      border-radius: 50%;\n",
              "      cursor: pointer;\n",
              "      display: none;\n",
              "      fill: #1967D2;\n",
              "      height: 32px;\n",
              "      padding: 0 0 0 0;\n",
              "      width: 32px;\n",
              "    }\n",
              "\n",
              "    .colab-df-convert:hover {\n",
              "      background-color: #E2EBFA;\n",
              "      box-shadow: 0px 1px 2px rgba(60, 64, 67, 0.3), 0px 1px 3px 1px rgba(60, 64, 67, 0.15);\n",
              "      fill: #174EA6;\n",
              "    }\n",
              "\n",
              "    .colab-df-buttons div {\n",
              "      margin-bottom: 4px;\n",
              "    }\n",
              "\n",
              "    [theme=dark] .colab-df-convert {\n",
              "      background-color: #3B4455;\n",
              "      fill: #D2E3FC;\n",
              "    }\n",
              "\n",
              "    [theme=dark] .colab-df-convert:hover {\n",
              "      background-color: #434B5C;\n",
              "      box-shadow: 0px 1px 3px 1px rgba(0, 0, 0, 0.15);\n",
              "      filter: drop-shadow(0px 1px 2px rgba(0, 0, 0, 0.3));\n",
              "      fill: #FFFFFF;\n",
              "    }\n",
              "  </style>\n",
              "\n",
              "    <script>\n",
              "      const buttonEl =\n",
              "        document.querySelector('#df-82ab081c-7264-4235-95b4-a58cecef1ffd button.colab-df-convert');\n",
              "      buttonEl.style.display =\n",
              "        google.colab.kernel.accessAllowed ? 'block' : 'none';\n",
              "\n",
              "      async function convertToInteractive(key) {\n",
              "        const element = document.querySelector('#df-82ab081c-7264-4235-95b4-a58cecef1ffd');\n",
              "        const dataTable =\n",
              "          await google.colab.kernel.invokeFunction('convertToInteractive',\n",
              "                                                    [key], {});\n",
              "        if (!dataTable) return;\n",
              "\n",
              "        const docLinkHtml = 'Like what you see? Visit the ' +\n",
              "          '<a target=\"_blank\" href=https://colab.research.google.com/notebooks/data_table.ipynb>data table notebook</a>'\n",
              "          + ' to learn more about interactive tables.';\n",
              "        element.innerHTML = '';\n",
              "        dataTable['output_type'] = 'display_data';\n",
              "        await google.colab.output.renderOutput(dataTable, element);\n",
              "        const docLink = document.createElement('div');\n",
              "        docLink.innerHTML = docLinkHtml;\n",
              "        element.appendChild(docLink);\n",
              "      }\n",
              "    </script>\n",
              "  </div>\n",
              "\n",
              "\n",
              "    <div id=\"df-714bee3b-e5b3-49d6-9467-91ead78b9ebf\">\n",
              "      <button class=\"colab-df-quickchart\" onclick=\"quickchart('df-714bee3b-e5b3-49d6-9467-91ead78b9ebf')\"\n",
              "                title=\"Suggest charts\"\n",
              "                style=\"display:none;\">\n",
              "\n",
              "<svg xmlns=\"http://www.w3.org/2000/svg\" height=\"24px\"viewBox=\"0 0 24 24\"\n",
              "     width=\"24px\">\n",
              "    <g>\n",
              "        <path d=\"M19 3H5c-1.1 0-2 .9-2 2v14c0 1.1.9 2 2 2h14c1.1 0 2-.9 2-2V5c0-1.1-.9-2-2-2zM9 17H7v-7h2v7zm4 0h-2V7h2v10zm4 0h-2v-4h2v4z\"/>\n",
              "    </g>\n",
              "</svg>\n",
              "      </button>\n",
              "\n",
              "<style>\n",
              "  .colab-df-quickchart {\n",
              "      --bg-color: #E8F0FE;\n",
              "      --fill-color: #1967D2;\n",
              "      --hover-bg-color: #E2EBFA;\n",
              "      --hover-fill-color: #174EA6;\n",
              "      --disabled-fill-color: #AAA;\n",
              "      --disabled-bg-color: #DDD;\n",
              "  }\n",
              "\n",
              "  [theme=dark] .colab-df-quickchart {\n",
              "      --bg-color: #3B4455;\n",
              "      --fill-color: #D2E3FC;\n",
              "      --hover-bg-color: #434B5C;\n",
              "      --hover-fill-color: #FFFFFF;\n",
              "      --disabled-bg-color: #3B4455;\n",
              "      --disabled-fill-color: #666;\n",
              "  }\n",
              "\n",
              "  .colab-df-quickchart {\n",
              "    background-color: var(--bg-color);\n",
              "    border: none;\n",
              "    border-radius: 50%;\n",
              "    cursor: pointer;\n",
              "    display: none;\n",
              "    fill: var(--fill-color);\n",
              "    height: 32px;\n",
              "    padding: 0;\n",
              "    width: 32px;\n",
              "  }\n",
              "\n",
              "  .colab-df-quickchart:hover {\n",
              "    background-color: var(--hover-bg-color);\n",
              "    box-shadow: 0 1px 2px rgba(60, 64, 67, 0.3), 0 1px 3px 1px rgba(60, 64, 67, 0.15);\n",
              "    fill: var(--button-hover-fill-color);\n",
              "  }\n",
              "\n",
              "  .colab-df-quickchart-complete:disabled,\n",
              "  .colab-df-quickchart-complete:disabled:hover {\n",
              "    background-color: var(--disabled-bg-color);\n",
              "    fill: var(--disabled-fill-color);\n",
              "    box-shadow: none;\n",
              "  }\n",
              "\n",
              "  .colab-df-spinner {\n",
              "    border: 2px solid var(--fill-color);\n",
              "    border-color: transparent;\n",
              "    border-bottom-color: var(--fill-color);\n",
              "    animation:\n",
              "      spin 1s steps(1) infinite;\n",
              "  }\n",
              "\n",
              "  @keyframes spin {\n",
              "    0% {\n",
              "      border-color: transparent;\n",
              "      border-bottom-color: var(--fill-color);\n",
              "      border-left-color: var(--fill-color);\n",
              "    }\n",
              "    20% {\n",
              "      border-color: transparent;\n",
              "      border-left-color: var(--fill-color);\n",
              "      border-top-color: var(--fill-color);\n",
              "    }\n",
              "    30% {\n",
              "      border-color: transparent;\n",
              "      border-left-color: var(--fill-color);\n",
              "      border-top-color: var(--fill-color);\n",
              "      border-right-color: var(--fill-color);\n",
              "    }\n",
              "    40% {\n",
              "      border-color: transparent;\n",
              "      border-right-color: var(--fill-color);\n",
              "      border-top-color: var(--fill-color);\n",
              "    }\n",
              "    60% {\n",
              "      border-color: transparent;\n",
              "      border-right-color: var(--fill-color);\n",
              "    }\n",
              "    80% {\n",
              "      border-color: transparent;\n",
              "      border-right-color: var(--fill-color);\n",
              "      border-bottom-color: var(--fill-color);\n",
              "    }\n",
              "    90% {\n",
              "      border-color: transparent;\n",
              "      border-bottom-color: var(--fill-color);\n",
              "    }\n",
              "  }\n",
              "</style>\n",
              "\n",
              "      <script>\n",
              "        async function quickchart(key) {\n",
              "          const quickchartButtonEl =\n",
              "            document.querySelector('#' + key + ' button');\n",
              "          quickchartButtonEl.disabled = true;  // To prevent multiple clicks.\n",
              "          quickchartButtonEl.classList.add('colab-df-spinner');\n",
              "          try {\n",
              "            const charts = await google.colab.kernel.invokeFunction(\n",
              "                'suggestCharts', [key], {});\n",
              "          } catch (error) {\n",
              "            console.error('Error during call to suggestCharts:', error);\n",
              "          }\n",
              "          quickchartButtonEl.classList.remove('colab-df-spinner');\n",
              "          quickchartButtonEl.classList.add('colab-df-quickchart-complete');\n",
              "        }\n",
              "        (() => {\n",
              "          let quickchartButtonEl =\n",
              "            document.querySelector('#df-714bee3b-e5b3-49d6-9467-91ead78b9ebf button');\n",
              "          quickchartButtonEl.style.display =\n",
              "            google.colab.kernel.accessAllowed ? 'block' : 'none';\n",
              "        })();\n",
              "      </script>\n",
              "    </div>\n",
              "\n",
              "  <div id=\"id_24edfd65-ef05-4cdb-ae99-edf792d75f89\">\n",
              "    <style>\n",
              "      .colab-df-generate {\n",
              "        background-color: #E8F0FE;\n",
              "        border: none;\n",
              "        border-radius: 50%;\n",
              "        cursor: pointer;\n",
              "        display: none;\n",
              "        fill: #1967D2;\n",
              "        height: 32px;\n",
              "        padding: 0 0 0 0;\n",
              "        width: 32px;\n",
              "      }\n",
              "\n",
              "      .colab-df-generate:hover {\n",
              "        background-color: #E2EBFA;\n",
              "        box-shadow: 0px 1px 2px rgba(60, 64, 67, 0.3), 0px 1px 3px 1px rgba(60, 64, 67, 0.15);\n",
              "        fill: #174EA6;\n",
              "      }\n",
              "\n",
              "      [theme=dark] .colab-df-generate {\n",
              "        background-color: #3B4455;\n",
              "        fill: #D2E3FC;\n",
              "      }\n",
              "\n",
              "      [theme=dark] .colab-df-generate:hover {\n",
              "        background-color: #434B5C;\n",
              "        box-shadow: 0px 1px 3px 1px rgba(0, 0, 0, 0.15);\n",
              "        filter: drop-shadow(0px 1px 2px rgba(0, 0, 0, 0.3));\n",
              "        fill: #FFFFFF;\n",
              "      }\n",
              "    </style>\n",
              "    <button class=\"colab-df-generate\" onclick=\"generateWithVariable('pareto')\"\n",
              "            title=\"Generate code using this dataframe.\"\n",
              "            style=\"display:none;\">\n",
              "\n",
              "  <svg xmlns=\"http://www.w3.org/2000/svg\" height=\"24px\"viewBox=\"0 0 24 24\"\n",
              "       width=\"24px\">\n",
              "    <path d=\"M7,19H8.4L18.45,9,17,7.55,7,17.6ZM5,21V16.75L18.45,3.32a2,2,0,0,1,2.83,0l1.4,1.43a1.91,1.91,0,0,1,.58,1.4,1.91,1.91,0,0,1-.58,1.4L9.25,21ZM18.45,9,17,7.55Zm-12,3A5.31,5.31,0,0,0,4.9,8.1,5.31,5.31,0,0,0,1,6.5,5.31,5.31,0,0,0,4.9,4.9,5.31,5.31,0,0,0,6.5,1,5.31,5.31,0,0,0,8.1,4.9,5.31,5.31,0,0,0,12,6.5,5.46,5.46,0,0,0,6.5,12Z\"/>\n",
              "  </svg>\n",
              "    </button>\n",
              "    <script>\n",
              "      (() => {\n",
              "      const buttonEl =\n",
              "        document.querySelector('#id_24edfd65-ef05-4cdb-ae99-edf792d75f89 button.colab-df-generate');\n",
              "      buttonEl.style.display =\n",
              "        google.colab.kernel.accessAllowed ? 'block' : 'none';\n",
              "\n",
              "      buttonEl.onclick = () => {\n",
              "        google.colab.notebook.generateWithVariable('pareto');\n",
              "      }\n",
              "      })();\n",
              "    </script>\n",
              "  </div>\n",
              "\n",
              "    </div>\n",
              "  </div>\n"
            ],
            "application/vnd.google.colaboratory.intrinsic+json": {
              "type": "dataframe",
              "variable_name": "pareto",
              "summary": "{\n  \"name\": \"pareto\",\n  \"rows\": 27,\n  \"fields\": [\n    {\n      \"column\": \"Descripcion\",\n      \"properties\": {\n        \"dtype\": \"string\",\n        \"num_unique_values\": 27,\n        \"samples\": [\n          \"Pasta Sanalite Antisarro 113 mg\",\n          \"Buenisan 600 mg 12 tabs\",\n          \"Pasta Sanalite Encias sensibles 100 mg\"\n        ],\n        \"semantic_type\": \"\",\n        \"description\": \"\"\n      }\n    },\n    {\n      \"column\": \"UD\",\n      \"properties\": {\n        \"dtype\": \"number\",\n        \"std\": 51937,\n        \"min\": 19,\n        \"max\": 184119,\n        \"num_unique_values\": 27,\n        \"samples\": [\n          36431,\n          20883,\n          33853\n        ],\n        \"semantic_type\": \"\",\n        \"description\": \"\"\n      }\n    },\n    {\n      \"column\": \"cumperc\",\n      \"properties\": {\n        \"dtype\": \"number\",\n        \"std\": 22.233637897445238,\n        \"min\": 16.737025825629278,\n        \"max\": 100.0,\n        \"num_unique_values\": 27,\n        \"samples\": [\n          78.25456561855154,\n          90.24571163653222,\n          81.33191524175734\n        ],\n        \"semantic_type\": \"\",\n        \"description\": \"\"\n      }\n    }\n  ]\n}"
            }
          },
          "metadata": {},
          "execution_count": 56
        }
      ]
    },
    {
      "cell_type": "code",
      "source": [
        "import matplotlib.pyplot as plt\n",
        "from matplotlib.ticker import PercentFormatter\n",
        "\n",
        "#define aesthetics for plot\n",
        "color1 = 'steelblue'\n",
        "color2 = 'red'\n",
        "line_size = 4\n",
        "\n",
        "#create basic bar plot\n",
        "fig, ax = plt.subplots()\n",
        "ax.bar(pareto.index, pareto['UD'], color=color1)\n",
        "\n",
        "#add cumulative percentage line to plot\n",
        "ax2 = ax.twinx()\n",
        "ax2.plot(pareto.index, pareto['cumperc'], color=color2, marker=\"D\", ms=line_size)\n",
        "ax2.yaxis.set_major_formatter(PercentFormatter())\n",
        "\n",
        "#specify axis colors\n",
        "ax.tick_params(axis='y', colors=color1)\n",
        "ax2.tick_params(axis='y', colors=color2)"
      ],
      "metadata": {
        "colab": {
          "base_uri": "https://localhost:8080/",
          "height": 430
        },
        "id": "Zh-wPQBf0G7h",
        "outputId": "197ac8da-8a21-4655-aec0-d89f8d19af85"
      },
      "execution_count": null,
      "outputs": [
        {
          "output_type": "display_data",
          "data": {
            "text/plain": [
              "<Figure size 640x480 with 2 Axes>"
            ],
            "image/png": "[encoded data removed]"
          },
          "metadata": {}
        }
      ]
    },
    {
      "cell_type": "code",
      "source": [
        "dff = df.loc[df['Descripcion']== \"Buenisan 400 mg 10 tabs\"]\n",
        "\n",
        "import numpy as np\n",
        "pivot_table = pd.pivot_table(data=dff,\n",
        "                           index=[\"Billing Date\", \"Descripcion\"],\n",
        "                           values=[\"UD\", \"VALOR\"],\n",
        "                           aggfunc=np.sum,\n",
        "                           fill_value=0)\n",
        "\n",
        "pivot_table = pivot_table[~(pivot_table == 0).all(axis=1)]\n",
        "\n",
        "dff = pivot_table.reset_index()"
      ],
      "metadata": {
        "colab": {
          "base_uri": "https://localhost:8080/"
        },
        "id": "xUFB5AmzuM2t",
        "outputId": "5667229c-29e5-48d7-cdf0-ae85774937fb"
      },
      "execution_count": null,
      "outputs": [
        {
          "output_type": "stream",
          "name": "stderr",
          "text": [
            "/tmp/ipython-input-3441703307.py:4: FutureWarning: The provided callable <function sum at 0x7cc52c719620> is currently using DataFrameGroupBy.sum. In a future version of pandas, the provided callable will be used directly. To keep current behavior pass the string \"sum\" instead.\n",
            "  pivot_table = pd.pivot_table(data=dff,\n"
          ]
        }
      ]
    },
    {
      "cell_type": "code",
      "source": [
        "dff[\"precio\"] = dff['VALOR']/dff[\"UD\"]\n",
        "display(dff.describe())"
      ],
      "metadata": {
        "colab": {
          "base_uri": "https://localhost:8080/",
          "height": 300
        },
        "id": "VQxCyHRUCFwj",
        "outputId": "0b664c5b-cc90-4d9e-cc46-2d0cae27fccc"
      },
      "execution_count": null,
      "outputs": [
        {
          "output_type": "display_data",
          "data": {
            "text/plain": [
              "              Billing Date      UD     VALOR  precio\n",
              "count                   18   18.00     18.00   18.00\n",
              "mean   2024-01-26 04:00:00 1880.72 151494.41   81.12\n",
              "min    2023-01-01 00:00:00 1016.00  77742.72   73.62\n",
              "25%    2023-07-08 18:00:00 1523.50 126736.04   80.25\n",
              "50%    2024-01-01 00:00:00 1794.00 148279.80   80.25\n",
              "75%    2024-08-24 06:00:00 1978.00 166666.28   84.26\n",
              "max    2025-03-01 00:00:00 3243.00 238749.66   87.67\n",
              "std                    NaN  635.63  46805.53    4.10"
            ],
            "text/html": [
              "\n",
              "  <div id=\"df-d872c050-7e5e-4cad-aa7d-e0b8828a092f\" class=\"colab-df-container\">\n",
              "    <div>\n",
              "<style scoped>\n",
              "    .dataframe tbody tr th:only-of-type {\n",
              "        vertical-align: middle;\n",
              "    }\n",
              "\n",
              "    .dataframe tbody tr th {\n",
              "        vertical-align: top;\n",
              "    }\n",
              "\n",
              "    .dataframe thead th {\n",
              "        text-align: right;\n",
              "    }\n",
              "</style>\n",
              "<table border=\"1\" class=\"dataframe\">\n",
              "  <thead>\n",
              "    <tr style=\"text-align: right;\">\n",
              "      <th></th>\n",
              "      <th>Billing Date</th>\n",
              "      <th>UD</th>\n",
              "      <th>VALOR</th>\n",
              "      <th>precio</th>\n",
              "    </tr>\n",
              "  </thead>\n",
              "  <tbody>\n",
              "    <tr>\n",
              "      <th>count</th>\n",
              "      <td>18</td>\n",
              "      <td>18.00</td>\n",
              "      <td>18.00</td>\n",
              "      <td>18.00</td>\n",
              "    </tr>\n",
              "    <tr>\n",
              "      <th>mean</th>\n",
              "      <td>2024-01-26 04:00:00</td>\n",
              "      <td>1880.72</td>\n",
              "      <td>151494.41</td>\n",
              "      <td>81.12</td>\n",
              "    </tr>\n",
              "    <tr>\n",
              "      <th>min</th>\n",
              "      <td>2023-01-01 00:00:00</td>\n",
              "      <td>1016.00</td>\n",
              "      <td>77742.72</td>\n",
              "      <td>73.62</td>\n",
              "    </tr>\n",
              "    <tr>\n",
              "      <th>25%</th>\n",
              "      <td>2023-07-08 18:00:00</td>\n",
              "      <td>1523.50</td>\n",
              "      <td>126736.04</td>\n",
              "      <td>80.25</td>\n",
              "    </tr>\n",
              "    <tr>\n",
              "      <th>50%</th>\n",
              "      <td>2024-01-01 00:00:00</td>\n",
              "      <td>1794.00</td>\n",
              "      <td>148279.80</td>\n",
              "      <td>80.25</td>\n",
              "    </tr>\n",
              "    <tr>\n",
              "      <th>75%</th>\n",
              "      <td>2024-08-24 06:00:00</td>\n",
              "      <td>1978.00</td>\n",
              "      <td>166666.28</td>\n",
              "      <td>84.26</td>\n",
              "    </tr>\n",
              "    <tr>\n",
              "      <th>max</th>\n",
              "      <td>2025-03-01 00:00:00</td>\n",
              "      <td>3243.00</td>\n",
              "      <td>238749.66</td>\n",
              "      <td>87.67</td>\n",
              "    </tr>\n",
              "    <tr>\n",
              "      <th>std</th>\n",
              "      <td>NaN</td>\n",
              "      <td>635.63</td>\n",
              "      <td>46805.53</td>\n",
              "      <td>4.10</td>\n",
              "    </tr>\n",
              "  </tbody>\n",
              "</table>\n",
              "</div>\n",
              "    <div class=\"colab-df-buttons\">\n",
              "\n",
              "  <div class=\"colab-df-container\">\n",
              "    <button class=\"colab-df-convert\" onclick=\"convertToInteractive('df-d872c050-7e5e-4cad-aa7d-e0b8828a092f')\"\n",
              "            title=\"Convert this dataframe to an interactive table.\"\n",
              "            style=\"display:none;\">\n",
              "\n",
              "  <svg xmlns=\"http://www.w3.org/2000/svg\" height=\"24px\" viewBox=\"0 -960 960 960\">\n",
              "    <path d=\"M120-120v-720h720v720H120Zm60-500h600v-160H180v160Zm220 220h160v-160H400v160Zm0 220h160v-160H400v160ZM180-400h160v-160H180v160Zm440 0h160v-160H620v160ZM180-180h160v-160H180v160Zm440 0h160v-160H620v160Z\"/>\n",
              "  </svg>\n",
              "    </button>\n",
              "\n",
              "  <style>\n",
              "    .colab-df-container {\n",
              "      display:flex;\n",
              "      gap: 12px;\n",
              "    }\n",
              "\n",
              "    .colab-df-convert {\n",
              "      background-color: #E8F0FE;\n",
              "      border: none;\n",
              "      border-radius: 50%;\n",
              "      cursor: pointer;\n",
              "      display: none;\n",
              "      fill: #1967D2;\n",
              "      height: 32px;\n",
              "      padding: 0 0 0 0;\n",
              "      width: 32px;\n",
              "    }\n",
              "\n",
              "    .colab-df-convert:hover {\n",
              "      background-color: #E2EBFA;\n",
              "      box-shadow: 0px 1px 2px rgba(60, 64, 67, 0.3), 0px 1px 3px 1px rgba(60, 64, 67, 0.15);\n",
              "      fill: #174EA6;\n",
              "    }\n",
              "\n",
              "    .colab-df-buttons div {\n",
              "      margin-bottom: 4px;\n",
              "    }\n",
              "\n",
              "    [theme=dark] .colab-df-convert {\n",
              "      background-color: #3B4455;\n",
              "      fill: #D2E3FC;\n",
              "    }\n",
              "\n",
              "    [theme=dark] .colab-df-convert:hover {\n",
              "      background-color: #434B5C;\n",
              "      box-shadow: 0px 1px 3px 1px rgba(0, 0, 0, 0.15);\n",
              "      filter: drop-shadow(0px 1px 2px rgba(0, 0, 0, 0.3));\n",
              "      fill: #FFFFFF;\n",
              "    }\n",
              "  </style>\n",
              "\n",
              "    <script>\n",
              "      const buttonEl =\n",
              "        document.querySelector('#df-d872c050-7e5e-4cad-aa7d-e0b8828a092f button.colab-df-convert');\n",
              "      buttonEl.style.display =\n",
              "        google.colab.kernel.accessAllowed ? 'block' : 'none';\n",
              "\n",
              "      async function convertToInteractive(key) {\n",
              "        const element = document.querySelector('#df-d872c050-7e5e-4cad-aa7d-e0b8828a092f');\n",
              "        const dataTable =\n",
              "          await google.colab.kernel.invokeFunction('convertToInteractive',\n",
              "                                                    [key], {});\n",
              "        if (!dataTable) return;\n",
              "\n",
              "        const docLinkHtml = 'Like what you see? Visit the ' +\n",
              "          '<a target=\"_blank\" href=https://colab.research.google.com/notebooks/data_table.ipynb>data table notebook</a>'\n",
              "          + ' to learn more about interactive tables.';\n",
              "        element.innerHTML = '';\n",
              "        dataTable['output_type'] = 'display_data';\n",
              "        await google.colab.output.renderOutput(dataTable, element);\n",
              "        const docLink = document.createElement('div');\n",
              "        docLink.innerHTML = docLinkHtml;\n",
              "        element.appendChild(docLink);\n",
              "      }\n",
              "    </script>\n",
              "  </div>\n",
              "\n",
              "\n",
              "    <div id=\"df-e5445e13-564a-414c-8c7c-d30eccdd868a\">\n",
              "      <button class=\"colab-df-quickchart\" onclick=\"quickchart('df-e5445e13-564a-414c-8c7c-d30eccdd868a')\"\n",
              "                title=\"Suggest charts\"\n",
              "                style=\"display:none;\">\n",
              "\n",
              "<svg xmlns=\"http://www.w3.org/2000/svg\" height=\"24px\"viewBox=\"0 0 24 24\"\n",
              "     width=\"24px\">\n",
              "    <g>\n",
              "        <path d=\"M19 3H5c-1.1 0-2 .9-2 2v14c0 1.1.9 2 2 2h14c1.1 0 2-.9 2-2V5c0-1.1-.9-2-2-2zM9 17H7v-7h2v7zm4 0h-2V7h2v10zm4 0h-2v-4h2v4z\"/>\n",
              "    </g>\n",
              "</svg>\n",
              "      </button>\n",
              "\n",
              "<style>\n",
              "  .colab-df-quickchart {\n",
              "      --bg-color: #E8F0FE;\n",
              "      --fill-color: #1967D2;\n",
              "      --hover-bg-color: #E2EBFA;\n",
              "      --hover-fill-color: #174EA6;\n",
              "      --disabled-fill-color: #AAA;\n",
              "      --disabled-bg-color: #DDD;\n",
              "  }\n",
              "\n",
              "  [theme=dark] .colab-df-quickchart {\n",
              "      --bg-color: #3B4455;\n",
              "      --fill-color: #D2E3FC;\n",
              "      --hover-bg-color: #434B5C;\n",
              "      --hover-fill-color: #FFFFFF;\n",
              "      --disabled-bg-color: #3B4455;\n",
              "      --disabled-fill-color: #666;\n",
              "  }\n",
              "\n",
              "  .colab-df-quickchart {\n",
              "    background-color: var(--bg-color);\n",
              "    border: none;\n",
              "    border-radius: 50%;\n",
              "    cursor: pointer;\n",
              "    display: none;\n",
              "    fill: var(--fill-color);\n",
              "    height: 32px;\n",
              "    padding: 0;\n",
              "    width: 32px;\n",
              "  }\n",
              "\n",
              "  .colab-df-quickchart:hover {\n",
              "    background-color: var(--hover-bg-color);\n",
              "    box-shadow: 0 1px 2px rgba(60, 64, 67, 0.3), 0 1px 3px 1px rgba(60, 64, 67, 0.15);\n",
              "    fill: var(--button-hover-fill-color);\n",
              "  }\n",
              "\n",
              "  .colab-df-quickchart-complete:disabled,\n",
              "  .colab-df-quickchart-complete:disabled:hover {\n",
              "    background-color: var(--disabled-bg-color);\n",
              "    fill: var(--disabled-fill-color);\n",
              "    box-shadow: none;\n",
              "  }\n",
              "\n",
              "  .colab-df-spinner {\n",
              "    border: 2px solid var(--fill-color);\n",
              "    border-color: transparent;\n",
              "    border-bottom-color: var(--fill-color);\n",
              "    animation:\n",
              "      spin 1s steps(1) infinite;\n",
              "  }\n",
              "\n",
              "  @keyframes spin {\n",
              "    0% {\n",
              "      border-color: transparent;\n",
              "      border-bottom-color: var(--fill-color);\n",
              "      border-left-color: var(--fill-color);\n",
              "    }\n",
              "    20% {\n",
              "      border-color: transparent;\n",
              "      border-left-color: var(--fill-color);\n",
              "      border-top-color: var(--fill-color);\n",
              "    }\n",
              "    30% {\n",
              "      border-color: transparent;\n",
              "      border-left-color: var(--fill-color);\n",
              "      border-top-color: var(--fill-color);\n",
              "      border-right-color: var(--fill-color);\n",
              "    }\n",
              "    40% {\n",
              "      border-color: transparent;\n",
              "      border-right-color: var(--fill-color);\n",
              "      border-top-color: var(--fill-color);\n",
              "    }\n",
              "    60% {\n",
              "      border-color: transparent;\n",
              "      border-right-color: var(--fill-color);\n",
              "    }\n",
              "    80% {\n",
              "      border-color: transparent;\n",
              "      border-right-color: var(--fill-color);\n",
              "      border-bottom-color: var(--fill-color);\n",
              "    }\n",
              "    90% {\n",
              "      border-color: transparent;\n",
              "      border-bottom-color: var(--fill-color);\n",
              "    }\n",
              "  }\n",
              "</style>\n",
              "\n",
              "      <script>\n",
              "        async function quickchart(key) {\n",
              "          const quickchartButtonEl =\n",
              "            document.querySelector('#' + key + ' button');\n",
              "          quickchartButtonEl.disabled = true;  // To prevent multiple clicks.\n",
              "          quickchartButtonEl.classList.add('colab-df-spinner');\n",
              "          try {\n",
              "            const charts = await google.colab.kernel.invokeFunction(\n",
              "                'suggestCharts', [key], {});\n",
              "          } catch (error) {\n",
              "            console.error('Error during call to suggestCharts:', error);\n",
              "          }\n",
              "          quickchartButtonEl.classList.remove('colab-df-spinner');\n",
              "          quickchartButtonEl.classList.add('colab-df-quickchart-complete');\n",
              "        }\n",
              "        (() => {\n",
              "          let quickchartButtonEl =\n",
              "            document.querySelector('#df-e5445e13-564a-414c-8c7c-d30eccdd868a button');\n",
              "          quickchartButtonEl.style.display =\n",
              "            google.colab.kernel.accessAllowed ? 'block' : 'none';\n",
              "        })();\n",
              "      </script>\n",
              "    </div>\n",
              "\n",
              "    </div>\n",
              "  </div>\n"
            ],
            "application/vnd.google.colaboratory.intrinsic+json": {
              "type": "dataframe",
              "summary": "{\n  \"name\": \"display(dff\",\n  \"rows\": 8,\n  \"fields\": [\n    {\n      \"column\": \"Billing Date\",\n      \"properties\": {\n        \"dtype\": \"date\",\n        \"min\": \"1970-01-01 00:00:00.000000018\",\n        \"max\": \"2025-03-01 00:00:00\",\n        \"num_unique_values\": 7,\n        \"samples\": [\n          \"18\",\n          \"2024-01-26 04:00:00\",\n          \"2024-08-24 06:00:00\"\n        ],\n        \"semantic_type\": \"\",\n        \"description\": \"\"\n      }\n    },\n    {\n      \"column\": \"UD\",\n      \"properties\": {\n        \"dtype\": \"number\",\n        \"std\": 976.5240191033212,\n        \"min\": 18.0,\n        \"max\": 3243.0,\n        \"num_unique_values\": 8,\n        \"samples\": [\n          1880.7222222222222,\n          1978.0,\n          18.0\n        ],\n        \"semantic_type\": \"\",\n        \"description\": \"\"\n      }\n    },\n    {\n      \"column\": \"VALOR\",\n      \"properties\": {\n        \"dtype\": \"number\",\n        \"std\": 75264.76357320146,\n        \"min\": 18.0,\n        \"max\": 238749.66,\n        \"num_unique_values\": 8,\n        \"samples\": [\n          151494.4088888889,\n          166666.28,\n          18.0\n        ],\n        \"semantic_type\": \"\",\n        \"description\": \"\"\n      }\n    },\n    {\n      \"column\": \"precio\",\n      \"properties\": {\n        \"dtype\": \"number\",\n        \"std\": 32.92234890272672,\n        \"min\": 4.101195415952289,\n        \"max\": 87.6671009174312,\n        \"num_unique_values\": 7,\n        \"samples\": [\n          18.0,\n          81.11628633705764,\n          87.6671009174312\n        ],\n        \"semantic_type\": \"\",\n        \"description\": \"\"\n      }\n    }\n  ]\n}"
            }
          },
          "metadata": {}
        }
      ]
    },
    {
      "cell_type": "markdown",
      "source": [
        "# Frontera de Pareto"
      ],
      "metadata": {
        "id": "ybxKDd7I__7u"
      }
    },
    {
      "cell_type": "code",
      "source": [
        "! pip install paretoset"
      ],
      "metadata": {
        "collapsed": true,
        "id": "5ks6kWq2wk_O",
        "colab": {
          "base_uri": "https://localhost:8080/"
        },
        "outputId": "1101085c-16e1-49a3-8965-272cfe4b32d1"
      },
      "execution_count": null,
      "outputs": [
        {
          "output_type": "stream",
          "name": "stdout",
          "text": [
            "Collecting paretoset\n",
            "  Downloading paretoset-1.2.5-py3-none-any.whl.metadata (6.0 kB)\n",
            "Requirement already satisfied: numba in /usr/local/lib/python3.11/dist-packages (from paretoset) (0.60.0)\n",
            "Requirement already satisfied: numpy in /usr/local/lib/python3.11/dist-packages (from paretoset) (2.0.2)\n",
            "Requirement already satisfied: pandas in /usr/local/lib/python3.11/dist-packages (from paretoset) (2.2.2)\n",
            "Requirement already satisfied: llvmlite<0.44,>=0.43.0dev0 in /usr/local/lib/python3.11/dist-packages (from numba->paretoset) (0.43.0)\n",
            "Requirement already satisfied: python-dateutil>=2.8.2 in /usr/local/lib/python3.11/dist-packages (from pandas->paretoset) (2.9.0.post0)\n",
            "Requirement already satisfied: pytz>=2020.1 in /usr/local/lib/python3.11/dist-packages (from pandas->paretoset) (2025.2)\n",
            "Requirement already satisfied: tzdata>=2022.7 in /usr/local/lib/python3.11/dist-packages (from pandas->paretoset) (2025.2)\n",
            "Requirement already satisfied: six>=1.5 in /usr/local/lib/python3.11/dist-packages (from python-dateutil>=2.8.2->pandas->paretoset) (1.17.0)\n",
            "Downloading paretoset-1.2.5-py3-none-any.whl (18 kB)\n",
            "Installing collected packages: paretoset\n",
            "Successfully installed paretoset-1.2.5\n"
          ]
        }
      ]
    },
    {
      "cell_type": "markdown",
      "source": [
        "Problema de optimización:\n",
        "\n",
        "-objetivo 1: minimizar unidades\n",
        "\n",
        "-objetivo2: maximizar valor"
      ],
      "metadata": {
        "id": "JD5uyanR4J6P"
      }
    },
    {
      "cell_type": "code",
      "source": [
        "from paretoset import paretoset\n",
        "import pandas as pd\n",
        "\n",
        "s1 = dff.copy()\n",
        "s1 = s1[[\"UD\", \"VALOR\"]]\n",
        "\n",
        "mask = paretoset(s1, sense=[\"min\", \"max\"], distinct=False)\n",
        "perfomance = s1[mask]\n",
        "\n",
        "# grafico\n",
        "perfomance.plot.scatter(x=\"UD\", y=\"VALOR\", title=\"Pareto front\")\n",
        "\n",
        "# data frame perfomance\n",
        "efficient_dff = dff[mask]\n",
        "\n",
        "efficient_dff.to_excel(\"efficient.xlsx\")"
      ],
      "metadata": {
        "colab": {
          "base_uri": "https://localhost:8080/",
          "height": 472
        },
        "id": "ZYtfontMwirr",
        "outputId": "74f6571d-7c1d-48e8-9e64-abe77dfd02fb"
      },
      "execution_count": null,
      "outputs": [
        {
          "output_type": "display_data",
          "data": {
            "text/plain": [
              "<Figure size 640x480 with 1 Axes>"
            ],
            "image/png": "[encoded data removed]"
          },
          "metadata": {}
        }
      ]
    },
    {
      "cell_type": "code",
      "source": [
        "from paretoset import paretoset\n",
        "import numpy as np\n",
        "from collections import namedtuple\n",
        "import matplotlib.pyplot as plt\n",
        "\n",
        "# Create Solution objects holding the problem solution and objective values\n",
        "Solution = namedtuple(\"Solution\", [\"solution\", \"obj_value\"])\n",
        "solutions = [Solution(solution=object, obj_value=np.random.randn(2)) for _ in range(999)]\n",
        "\n",
        "# Create an array of shape (solutions, objectives) and compute the non-dominated set\n",
        "objective_values_array = np.vstack([s.obj_value for s in solutions])\n",
        "mask = paretoset(objective_values_array, sense=[\"min\", \"max\"])\n",
        "\n",
        "# Filter the list of solutions, keeping only the non-dominated solutions\n",
        "efficient_solutions = [solution for (solution, m) in zip(solutions, mask) if m]\n",
        "\n",
        "# Extract the objective values from the namedtuples for plotting\n",
        "efficient_obj_values = np.vstack([s.obj_value for s in efficient_solutions])\n",
        "\n",
        "# plot efficient_obj_values with original values\n",
        "plt.plot(efficient_obj_values[:, 0], efficient_obj_values[:, 1], 'o', label='Pareto Front')\n",
        "plt.plot(objective_values_array[:, 0], objective_values_array[:, 1], 'x', label='Original Solutions')"
      ],
      "metadata": {
        "colab": {
          "base_uri": "https://localhost:8080/",
          "height": 447
        },
        "id": "IVuBufwT3kVO",
        "outputId": "dbf7c650-27f4-4e88-c272-728ab8c9fbfb"
      },
      "execution_count": null,
      "outputs": [
        {
          "output_type": "execute_result",
          "data": {
            "text/plain": [
              "[<matplotlib.lines.Line2D at 0x7cc4eed7c450>]"
            ]
          },
          "metadata": {},
          "execution_count": 38
        },
        {
          "output_type": "display_data",
          "data": {
            "text/plain": [
              "<Figure size 640x480 with 1 Axes>"
            ],
            "image/png": "[encoded data removed]"
          },
          "metadata": {}
        }
      ]
    },
    {
      "cell_type": "markdown",
      "source": [
        "#Elasticidades"
      ],
      "metadata": {
        "id": "rFvJnENVSC3K"
      }
    },
    {
      "cell_type": "markdown",
      "source": [
        "## Linear Price Elasticity Model"
      ],
      "metadata": {
        "id": "m25mUkbeaIRx"
      }
    },
    {
      "cell_type": "code",
      "source": [
        "#df['VALOR'] = np.log(df['VALOR'].astype(float))\n",
        "#df['UD'] = np.log(df['UD'].astype(float))"
      ],
      "metadata": {
        "id": "HmkrxHrL_9yc"
      },
      "execution_count": null,
      "outputs": []
    },
    {
      "cell_type": "code",
      "source": [
        "# Replace zero and negative values with a small positive number to avoid issues with np.log\n",
        "\n",
        "#df['VALOR'] = df['VALOR'].replace(0, 1e-10)  # Replace 0 with a small positive number\n",
        "#df.loc[df['VALOR'] < 0, 'VALOR'] = 1e-10 # Replace negative with a small positive number\n",
        "\n",
        "#df['UD'] = df['UD'].replace(0, 1e-10)  # Replace 0 with a small positive number\n",
        "#df.loc[df['UD'] < 0, 'UD'] = 1e-10 # Replace negative with a small positive number"
      ],
      "metadata": {
        "id": "3cGghdGr67PI"
      },
      "execution_count": null,
      "outputs": []
    },
    {
      "cell_type": "code",
      "source": [
        "import statsmodels.api as sm\n",
        "from statsmodels.tools.tools import add_constant"
      ],
      "metadata": {
        "id": "QGSmi13aVLvX"
      },
      "execution_count": null,
      "outputs": []
    },
    {
      "cell_type": "code",
      "source": [
        "#construccion del modelo OLS\n",
        "x_value = dff['VALOR']\n",
        "y_value = dff['UD']\n",
        "X = add_constant(x_value)\n",
        "model = sm.OLS(y_value, X)\n",
        "result = model.fit()\n",
        "\n",
        "print(result.summary())"
      ],
      "metadata": {
        "id": "n42X3UpDaKeo",
        "colab": {
          "base_uri": "https://localhost:8080/"
        },
        "outputId": "4e7e8c1a-3b2d-4aef-ce24-2987e5d61e6e"
      },
      "execution_count": null,
      "outputs": [
        {
          "output_type": "stream",
          "name": "stdout",
          "text": [
            "                            OLS Regression Results                            \n",
            "==============================================================================\n",
            "Dep. Variable:                     UD   R-squared:                       0.976\n",
            "Model:                            OLS   Adj. R-squared:                  0.975\n",
            "Method:                 Least Squares   F-statistic:                     662.9\n",
            "Date:                Mon, 11 Aug 2025   Prob (F-statistic):           1.89e-14\n",
            "Time:                        00:30:22   Log-Likelihood:                -107.48\n",
            "No. Observations:                  18   AIC:                             219.0\n",
            "Df Residuals:                      16   BIC:                             220.7\n",
            "Df Model:                           1                                         \n",
            "Covariance Type:            nonrobust                                         \n",
            "==============================================================================\n",
            "                 coef    std err          t      P>|t|      [0.025      0.975]\n",
            "------------------------------------------------------------------------------\n",
            "const       -152.2298     82.440     -1.847      0.083    -326.995      22.535\n",
            "VALOR          0.0134      0.001     25.747      0.000       0.012       0.015\n",
            "==============================================================================\n",
            "Omnibus:                        3.133   Durbin-Watson:                   0.509\n",
            "Prob(Omnibus):                  0.209   Jarque-Bera (JB):                2.375\n",
            "Skew:                           0.867   Prob(JB):                        0.305\n",
            "Kurtosis:                       2.599   Cond. No.                     5.50e+05\n",
            "==============================================================================\n",
            "\n",
            "Notes:\n",
            "[1] Standard Errors assume that the covariance matrix of the errors is correctly specified.\n",
            "[2] The condition number is large, 5.5e+05. This might indicate that there are\n",
            "strong multicollinearity or other numerical problems.\n"
          ]
        }
      ]
    },
    {
      "cell_type": "markdown",
      "source": [
        "Coeficientes de la funcion lineal"
      ],
      "metadata": {
        "id": "cHrleJUhpLEz"
      }
    },
    {
      "cell_type": "code",
      "source": [
        "coefficient_pvalue = result.f_pvalue\n",
        "intercept,slope = result.params\n",
        "\n",
        "mean_price=dff['VALOR'].mean()\n",
        "mean_quantity=dff['UD'].mean()\n",
        "\n",
        "#Linear Price elasticity Formula\n",
        "price_elasticity = round((slope)*(mean_price/mean_quantity),2)\n",
        "\n",
        "print('Linear Price Elasticity {} with pvalue {}'\\\n",
        ".format(price_elasticity, coefficient_pvalue))"
      ],
      "metadata": {
        "id": "RSZcTc_xkSxT",
        "colab": {
          "base_uri": "https://localhost:8080/"
        },
        "outputId": "a278d1dd-9432-4c50-9e53-8663d558576d"
      },
      "execution_count": null,
      "outputs": [
        {
          "output_type": "stream",
          "name": "stdout",
          "text": [
            "Linear Price Elasticity 1.08 with pvalue 1.888295964761286e-14\n"
          ]
        }
      ]
    },
    {
      "cell_type": "markdown",
      "source": [
        "## Funcion No lineal de la elasticidad"
      ],
      "metadata": {
        "id": "OJyJa2rIqQfi"
      }
    },
    {
      "cell_type": "code",
      "source": [
        "import statsmodels.api as sm\n",
        "from statsmodels.tools.tools import add_constant\n",
        "import numpy as np"
      ],
      "metadata": {
        "id": "jLSjpfjmYWVv"
      },
      "execution_count": null,
      "outputs": []
    },
    {
      "cell_type": "code",
      "source": [
        "# regresión por logaritmo\n",
        "\n",
        "x_value = np.log(dff['VALOR'])\n",
        "y_value = np.log(dff['UD'])\n",
        "X = add_constant(x_value)\n",
        "model = sm.OLS(y_value, X)\n",
        "result = model.fit()\n",
        "\n",
        "print(result.summary())"
      ],
      "metadata": {
        "id": "BhvSAV4oqVFx",
        "colab": {
          "base_uri": "https://localhost:8080/"
        },
        "outputId": "daa226d0-ebf9-4271-f43c-f8ed9e888251"
      },
      "execution_count": null,
      "outputs": [
        {
          "output_type": "stream",
          "name": "stdout",
          "text": [
            "                            OLS Regression Results                            \n",
            "==============================================================================\n",
            "Dep. Variable:                     UD   R-squared:                       0.977\n",
            "Model:                            OLS   Adj. R-squared:                  0.976\n",
            "Method:                 Least Squares   F-statistic:                     694.9\n",
            "Date:                Mon, 11 Aug 2025   Prob (F-statistic):           1.31e-14\n",
            "Time:                        00:30:22   Log-Likelihood:                 28.680\n",
            "No. Observations:                  18   AIC:                            -53.36\n",
            "Df Residuals:                      16   BIC:                            -51.58\n",
            "Df Model:                           1                                         \n",
            "Covariance Type:            nonrobust                                         \n",
            "==============================================================================\n",
            "                 coef    std err          t      P>|t|      [0.025      0.975]\n",
            "------------------------------------------------------------------------------\n",
            "const         -4.7513      0.464    -10.231      0.000      -5.736      -3.767\n",
            "VALOR          1.0300      0.039     26.361      0.000       0.947       1.113\n",
            "==============================================================================\n",
            "Omnibus:                        3.567   Durbin-Watson:                   0.396\n",
            "Prob(Omnibus):                  0.168   Jarque-Bera (JB):                2.420\n",
            "Skew:                           0.896   Prob(JB):                        0.298\n",
            "Kurtosis:                       2.890   Cond. No.                         452.\n",
            "==============================================================================\n",
            "\n",
            "Notes:\n",
            "[1] Standard Errors assume that the covariance matrix of the errors is correctly specified.\n"
          ]
        }
      ]
    },
    {
      "cell_type": "markdown",
      "source": [
        "Coeficientes de la funcion no-lineal"
      ],
      "metadata": {
        "id": "C55pa9Lsqnvd"
      }
    },
    {
      "cell_type": "code",
      "source": [
        "coefficient_pvalue = result.f_pvalue\n",
        "intercept,slope = result.params\n",
        "\n",
        "#Non_linear Price elasticity Formula\n",
        "price_elasticity = round((slope),2)\n",
        "print('Non_linear Price Elasticity  {} with pvalue {}'.format(price_elasticity, coefficient_pvalue))"
      ],
      "metadata": {
        "id": "OyHGgYBsqf_4",
        "colab": {
          "base_uri": "https://localhost:8080/"
        },
        "outputId": "6fb2621a-6984-4b44-e138-04068a0a0c05"
      },
      "execution_count": null,
      "outputs": [
        {
          "output_type": "stream",
          "name": "stdout",
          "text": [
            "Non_linear Price Elasticity  1.03 with pvalue 1.3063040693197897e-14\n"
          ]
        }
      ]
    },
    {
      "cell_type": "code",
      "source": [
        "import math\n",
        "#recordar que calculamos el logaritmo de la constante\n",
        "const=round(math.exp(result.params[0]), 3)\n",
        "const"
      ],
      "metadata": {
        "colab": {
          "base_uri": "https://localhost:8080/"
        },
        "id": "RVD-DvcWBTll",
        "outputId": "f66b8934-587e-4619-e72f-916896d8d454"
      },
      "execution_count": null,
      "outputs": [
        {
          "output_type": "stream",
          "name": "stderr",
          "text": [
            "/tmp/ipython-input-3970113421.py:3: FutureWarning: Series.__getitem__ treating keys as positions is deprecated. In a future version, integer keys will always be treated as labels (consistent with DataFrame behavior). To access a value by position, use `ser.iloc[pos]`\n",
            "  const=round(math.exp(result.params[0]), 3)\n"
          ]
        },
        {
          "output_type": "execute_result",
          "data": {
            "text/plain": [
              "0.009"
            ]
          },
          "metadata": {},
          "execution_count": 47
        }
      ]
    },
    {
      "cell_type": "markdown",
      "source": [
        "#Optimizacion de precios utilizando elasticidades"
      ],
      "metadata": {
        "id": "bXPC-CqKrBta"
      }
    },
    {
      "cell_type": "code",
      "source": [
        "import numpy as np\n",
        "import pandas as pd\n",
        "import matplotlib.pyplot as plt"
      ],
      "metadata": {
        "id": "HO0lvFe-rRxM"
      },
      "execution_count": null,
      "outputs": []
    },
    {
      "cell_type": "markdown",
      "source": [
        "Construccion de la funcion <<Elasticidad & Precios>>"
      ],
      "metadata": {
        "id": "oZVBDsNkcFEP"
      }
    },
    {
      "cell_type": "code",
      "source": [
        "# Set price elasticity range\n",
        "elasticity = 1.03\n",
        "\n",
        "\n",
        "# Set price range\n",
        "price = list(np.linspace(63,70, num=100))\n",
        "demand = const * np.power(price,elasticity)\n",
        "revenue = price  * demand\n",
        "max_revenue = np.max(revenue)\n",
        "max_index = np.argmax(revenue)\n",
        "price[max_index]"
      ],
      "metadata": {
        "id": "H2yiiPlirER_",
        "colab": {
          "base_uri": "https://localhost:8080/"
        },
        "outputId": "6aa3b0e4-f0e9-4d42-bc32-ce62aa688252"
      },
      "execution_count": null,
      "outputs": [
        {
          "output_type": "execute_result",
          "data": {
            "text/plain": [
              "np.float64(70.0)"
            ]
          },
          "metadata": {},
          "execution_count": 49
        }
      ]
    },
    {
      "cell_type": "markdown",
      "source": [
        "Dataset de los resultados"
      ],
      "metadata": {
        "id": "u7l7sSDRciLj"
      }
    },
    {
      "cell_type": "code",
      "source": [
        "df = pd.DataFrame({'Price': price, 'Revenue': revenue})\n",
        "\n",
        "df.plot(x='Price', y='Revenue')\n",
        "\n",
        "# exportar\n",
        "df.to_excel('revenue.xlsx')"
      ],
      "metadata": {
        "id": "d0aDTBsdr85S",
        "colab": {
          "base_uri": "https://localhost:8080/",
          "height": 449
        },
        "outputId": "316d17d1-faec-4dfd-b053-a4732cb750cb"
      },
      "execution_count": null,
      "outputs": [
        {
          "output_type": "display_data",
          "data": {
            "text/plain": [
              "<Figure size 640x480 with 1 Axes>"
            ],
            "image/png": "[encoded data removed]"
          },
          "metadata": {}
        }
      ]
    }
  ]
}