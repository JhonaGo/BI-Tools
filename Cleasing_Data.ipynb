{
  "nbformat": 4,
  "nbformat_minor": 0,
  "metadata": {
    "colab": {
      "provenance": [],
      "collapsed_sections": [
        "ZH4-VrV7akM9",
        "dqHh7mEptRzr",
        "dX0l4YUoNCUK",
        "OYf917FLhpmH",
        "V-6-hl73DzvD"
      ],
      "mount_file_id": "18uD1Gaz8Qv8x0Tyf7127gZLsqBm4mADb",
      "authorship_tag": "ABX9TyN8YVEj1q35sa31JUV0a6xn",
      "include_colab_link": true
    },
    "kernelspec": {
      "name": "python3",
      "display_name": "Python 3"
    },
    "language_info": {
      "name": "python"
    }
  },
  "cells": [
    {
      "cell_type": "markdown",
      "metadata": {
        "id": "view-in-github",
        "colab_type": "text"
      },
      "source": [
        "<a href=\"https://colab.research.google.com/github/JhonaGo/BI-Tools/blob/main/Cleasing_Data.ipynb\" target=\"_parent\"><img src=\"https://colab.research.google.com/assets/colab-badge.svg\" alt=\"Open In Colab\"/></a>"
      ]
    },
    {
      "cell_type": "code",
      "source": [
        "!pip install --upgrade openpyxl"
      ],
      "metadata": {
        "id": "3XWr9Fq1jDuw",
        "colab": {
          "base_uri": "https://localhost:8080/"
        },
        "outputId": "ddb1fd99-7fdc-4ca2-89c2-c12a99dfb8ab"
      },
      "execution_count": 1,
      "outputs": [
        {
          "output_type": "stream",
          "name": "stdout",
          "text": [
            "Requirement already satisfied: openpyxl in /usr/local/lib/python3.11/dist-packages (3.1.5)\n",
            "Requirement already satisfied: et-xmlfile in /usr/local/lib/python3.11/dist-packages (from openpyxl) (2.0.0)\n"
          ]
        }
      ]
    },
    {
      "cell_type": "code",
      "execution_count": 2,
      "metadata": {
        "id": "n_b-OsTHaSv_"
      },
      "outputs": [],
      "source": [
        "import pandas as pd\n",
        "import numpy as np\n",
        "from datetime import datetime"
      ]
    },
    {
      "cell_type": "code",
      "source": [
        "from google.colab import drive\n",
        "drive.mount('/content/drive')"
      ],
      "metadata": {
        "colab": {
          "base_uri": "https://localhost:8080/"
        },
        "id": "YwGHgSzoCbJJ",
        "outputId": "e469609d-8b0f-44f7-bbc5-8f4baf2d2a32"
      },
      "execution_count": 3,
      "outputs": [
        {
          "output_type": "stream",
          "name": "stdout",
          "text": [
            "Drive already mounted at /content/drive; to attempt to forcibly remount, call drive.mount(\"/content/drive\", force_remount=True).\n"
          ]
        }
      ]
    },
    {
      "cell_type": "markdown",
      "source": [
        "#Catalogos"
      ],
      "metadata": {
        "id": "ZH4-VrV7akM9"
      }
    },
    {
      "cell_type": "markdown",
      "source": [
        "## Tiendas-BI"
      ],
      "metadata": {
        "id": "no3Qhvy6g90R"
      }
    },
    {
      "cell_type": "markdown",
      "source": [
        "Dado que el catalogo de tiendas se encuentra fragmentado, es necesario unificarlo."
      ],
      "metadata": {
        "id": "ypE-_2GB9Y_Q"
      }
    },
    {
      "cell_type": "code",
      "source": [
        "cagsa= pd.read_excel(\"/content/drive/Shareddrives/Catalogos_SO/Tda CAGSA.xlsx\", engine=\"openpyxl\")\n",
        "\n",
        "vargas= pd.read_excel(\"/content/drive/Shareddrives/Catalogos_SO/Tda Casa Vargas.xlsx\", engine=\"openpyxl\")\n",
        "\n",
        "coma= pd.read_excel(\"/content/drive/Shareddrives/Catalogos_SO/Tda Coma.xlsx\", engine=\"openpyxl\")\n",
        "\n",
        "decasa= pd.read_excel(\"/content/drive/Shareddrives/Catalogos_SO/Tda Decasa.xlsx\", engine=\"openpyxl\")\n",
        "\n",
        "duero= pd.read_excel(\"/content/drive/Shareddrives/Catalogos_SO/Tda Duero.xlsx\", engine=\"openpyxl\")\n",
        "\n",
        "garis= pd.read_excel(\"/content/drive/Shareddrives/Catalogos_SO/Tda Garis.xlsx\", engine=\"openpyxl\")\n",
        "\n",
        "rivera= pd.read_excel(\"/content/drive/Shareddrives/Catalogos_SO/Tda Gran Bodega.xlsx\", engine=\"openpyxl\")\n",
        "\n",
        "soledad= pd.read_excel(\"/content/drive/Shareddrives/Catalogos_SO/Tda La Soledad.xlsx\", engine=\"openpyxl\")\n",
        "\n",
        "masbodega= pd.read_excel(\"/content/drive/Shareddrives/Catalogos_SO/Tda Mas Bodega.xlsx\", engine=\"openpyxl\")\n",
        "\n",
        "miniabastos= pd.read_excel(\"/content/drive/Shareddrives/Catalogos_SO/Tda Mini Abastos.xlsx\", engine=\"openpyxl\")\n",
        "\n",
        "z= pd.read_excel(\"/content/drive/Shareddrives/Catalogos_SO/Tda PCZ.xlsx\", engine=\"openpyxl\")\n",
        "\n",
        "promotora= pd.read_excel(\"/content/drive/Shareddrives/Catalogos_SO/Tda Promotora del Norte.xlsx\", engine=\"openpyxl\")\n",
        "\n",
        "propasa= pd.read_excel(\"/content/drive/Shareddrives/Catalogos_SO/Tda Propasa.xlsx\", engine=\"openpyxl\")\n",
        "\n",
        "sahuayo= pd.read_excel(\"/content/drive/Shareddrives/Catalogos_SO/Tda Sahuayo.xlsx\", engine=\"openpyxl\")\n",
        "\n",
        "sanchez= pd.read_excel(\"/content/drive/Shareddrives/Catalogos_SO/Tda Sanchez.xlsx\", engine=\"openpyxl\")\n",
        "\n",
        "lugo= pd.read_excel(\"/content/drive/Shareddrives/Catalogos_SO/Tda Santos Lugo.xlsx\", engine=\"openpyxl\")\n",
        "\n",
        "super= pd.read_excel(\"/content/drive/Shareddrives/Catalogos_SO/Tda Su Super.xlsx\", engine=\"openpyxl\")\n",
        "\n",
        "aki= pd.read_excel(\"/content/drive/Shareddrives/Catalogos_SO/Tda Super Aki.xlsx\", engine=\"openpyxl\")\n",
        "\n",
        "toscano= pd.read_excel(\"/content/drive/Shareddrives/Catalogos_SO/Tda Vigil Toscano.xlsx\", engine=\"openpyxl\")\n",
        "\n",
        "zorro= pd.read_excel(\"/content/drive/Shareddrives/Catalogos_SO/Tda Zorro Abarrotero.xlsx\", engine=\"openpyxl\")\n",
        "\n",
        "parral= pd.read_excel(\"/content/drive/Shareddrives/Catalogos_SO/Tda Parral.xlsx\", engine=\"openpyxl\")\n"
      ],
      "metadata": {
        "colab": {
          "base_uri": "https://localhost:8080/"
        },
        "id": "cOFvWXz3g868",
        "outputId": "9b7b0b6a-87a1-48c0-ba45-4a30a67cab26",
        "collapsed": true
      },
      "execution_count": 145,
      "outputs": [
        {
          "output_type": "stream",
          "name": "stderr",
          "text": [
            "/usr/local/lib/python3.11/dist-packages/openpyxl/worksheet/_reader.py:329: UserWarning: Unknown extension is not supported and will be removed\n",
            "  warn(msg)\n",
            "/usr/local/lib/python3.11/dist-packages/openpyxl/worksheet/_reader.py:329: UserWarning: Unknown extension is not supported and will be removed\n",
            "  warn(msg)\n",
            "/usr/local/lib/python3.11/dist-packages/openpyxl/worksheet/_reader.py:329: UserWarning: Unknown extension is not supported and will be removed\n",
            "  warn(msg)\n",
            "/usr/local/lib/python3.11/dist-packages/openpyxl/worksheet/_reader.py:329: UserWarning: Unknown extension is not supported and will be removed\n",
            "  warn(msg)\n",
            "/usr/local/lib/python3.11/dist-packages/openpyxl/worksheet/_reader.py:329: UserWarning: Unknown extension is not supported and will be removed\n",
            "  warn(msg)\n",
            "/usr/local/lib/python3.11/dist-packages/openpyxl/worksheet/_reader.py:329: UserWarning: Unknown extension is not supported and will be removed\n",
            "  warn(msg)\n",
            "/usr/local/lib/python3.11/dist-packages/openpyxl/worksheet/_reader.py:329: UserWarning: Unknown extension is not supported and will be removed\n",
            "  warn(msg)\n",
            "/usr/local/lib/python3.11/dist-packages/openpyxl/worksheet/_reader.py:329: UserWarning: Unknown extension is not supported and will be removed\n",
            "  warn(msg)\n",
            "/usr/local/lib/python3.11/dist-packages/openpyxl/worksheet/_reader.py:329: UserWarning: Unknown extension is not supported and will be removed\n",
            "  warn(msg)\n",
            "/usr/local/lib/python3.11/dist-packages/openpyxl/worksheet/_reader.py:329: UserWarning: Unknown extension is not supported and will be removed\n",
            "  warn(msg)\n",
            "/usr/local/lib/python3.11/dist-packages/openpyxl/worksheet/_reader.py:329: UserWarning: Unknown extension is not supported and will be removed\n",
            "  warn(msg)\n",
            "/usr/local/lib/python3.11/dist-packages/openpyxl/worksheet/_reader.py:329: UserWarning: Unknown extension is not supported and will be removed\n",
            "  warn(msg)\n",
            "/usr/local/lib/python3.11/dist-packages/openpyxl/worksheet/_reader.py:329: UserWarning: Unknown extension is not supported and will be removed\n",
            "  warn(msg)\n"
          ]
        }
      ]
    },
    {
      "cell_type": "code",
      "source": [
        "tdas=pd.concat([cagsa,vargas,coma,decasa,duero,garis,rivera,soledad,miniabastos,parral,\n",
        "                z,promotora,propasa,sahuayo,sanchez,lugo,super,aki,toscano,zorro,masbodega])\n",
        "\n",
        "tdas = tdas.replace(r'\\s+', ' ', regex=True)\n",
        "\n",
        "tdas=tdas.iloc[:,[0,1,2]]"
      ],
      "metadata": {
        "colab": {
          "base_uri": "https://localhost:8080/"
        },
        "id": "nSWfQn3qq7CD",
        "outputId": "6187c689-b1a7-4313-c2fa-dda0c536e93d"
      },
      "execution_count": 146,
      "outputs": [
        {
          "output_type": "stream",
          "name": "stderr",
          "text": [
            "/tmp/ipython-input-3825371896.py:1: FutureWarning: The behavior of DataFrame concatenation with empty or all-NA entries is deprecated. In a future version, this will no longer exclude empty or all-NA columns when determining the result dtypes. To retain the old behavior, exclude the relevant entries before the concat operation.\n",
            "  tdas=pd.concat([cagsa,vargas,coma,decasa,duero,garis,rivera,soledad,miniabastos,parral,\n"
          ]
        }
      ]
    },
    {
      "cell_type": "code",
      "source": [
        "tdas.info()"
      ],
      "metadata": {
        "colab": {
          "base_uri": "https://localhost:8080/"
        },
        "id": "mmXHIaSfjz_j",
        "outputId": "adfa97b9-fd78-440f-f004-85ee1e70981d"
      },
      "execution_count": 147,
      "outputs": [
        {
          "output_type": "stream",
          "name": "stdout",
          "text": [
            "<class 'pandas.core.frame.DataFrame'>\n",
            "Index: 1672 entries, 0 to 78\n",
            "Data columns (total 3 columns):\n",
            " #   Column                        Non-Null Count  Dtype \n",
            "---  ------                        --------------  ----- \n",
            " 0   Holding                       1672 non-null   object\n",
            " 1   Código Punto de Venta Cadena  1672 non-null   object\n",
            " 2   Nombre de Tienda              1672 non-null   object\n",
            "dtypes: object(3)\n",
            "memory usage: 52.2+ KB\n"
          ]
        }
      ]
    },
    {
      "cell_type": "code",
      "source": [
        "tdas['Holding '].unique()"
      ],
      "metadata": {
        "colab": {
          "base_uri": "https://localhost:8080/"
        },
        "id": "5yP-m5SyfbCV",
        "outputId": "c5831df7-bada-46a1-b74a-2c4e83f365b9"
      },
      "execution_count": 148,
      "outputs": [
        {
          "output_type": "execute_result",
          "data": {
            "text/plain": [
              "array(['CAGSA', 'Casa Vargas', 'COMA', 'DECASA', 'Duero', 'Garis',\n",
              "       'Gran Bodega', 'La Soledad', 'Mini Abastos', 'Abastecedora Parral',\n",
              "       'PCZ', 'Promotora Abarrotera del Norte', 'PROPASA', 'Sahuayo',\n",
              "       'Grupo Sanchez', 'Casa Santos Lugo', 'Su Super', 'Super Aki',\n",
              "       'Vigil Toscano', 'Zorro', 'Más Bodega'], dtype=object)"
            ]
          },
          "metadata": {},
          "execution_count": 148
        }
      ]
    },
    {
      "cell_type": "markdown",
      "source": [
        "Dado que pueden existir identificadores que tengan repetición con otra cadena, se recurre a realizar una Key general: Cadena + Codigo"
      ],
      "metadata": {
        "id": "QEKdWaNu6m9n"
      }
    },
    {
      "cell_type": "code",
      "source": [
        "tdas['key_tda'] =tdas['Holding '].astype(str) + tdas['Código Punto de Venta Cadena'].astype(str)\n",
        "\n",
        "tdas=tdas.iloc[:,[3]]\n",
        "tdas.tail()"
      ],
      "metadata": {
        "id": "RnV9yfjjjHU4",
        "colab": {
          "base_uri": "https://localhost:8080/",
          "height": 0
        },
        "outputId": "1c825077-cd5c-4952-ccb9-683a80069b5f"
      },
      "execution_count": 149,
      "outputs": [
        {
          "output_type": "execute_result",
          "data": {
            "text/plain": [
              "          key_tda\n",
              "74   Más Bodega68\n",
              "75   Más Bodega31\n",
              "76   Más Bodega27\n",
              "77  Más Bodega168\n",
              "78  Más Bodega169"
            ],
            "text/html": [
              "\n",
              "  <div id=\"df-8fecacd4-750e-4e38-bbc3-1bde6f0d9d01\" class=\"colab-df-container\">\n",
              "    <div>\n",
              "<style scoped>\n",
              "    .dataframe tbody tr th:only-of-type {\n",
              "        vertical-align: middle;\n",
              "    }\n",
              "\n",
              "    .dataframe tbody tr th {\n",
              "        vertical-align: top;\n",
              "    }\n",
              "\n",
              "    .dataframe thead th {\n",
              "        text-align: right;\n",
              "    }\n",
              "</style>\n",
              "<table border=\"1\" class=\"dataframe\">\n",
              "  <thead>\n",
              "    <tr style=\"text-align: right;\">\n",
              "      <th></th>\n",
              "      <th>key_tda</th>\n",
              "    </tr>\n",
              "  </thead>\n",
              "  <tbody>\n",
              "    <tr>\n",
              "      <th>74</th>\n",
              "      <td>Más Bodega68</td>\n",
              "    </tr>\n",
              "    <tr>\n",
              "      <th>75</th>\n",
              "      <td>Más Bodega31</td>\n",
              "    </tr>\n",
              "    <tr>\n",
              "      <th>76</th>\n",
              "      <td>Más Bodega27</td>\n",
              "    </tr>\n",
              "    <tr>\n",
              "      <th>77</th>\n",
              "      <td>Más Bodega168</td>\n",
              "    </tr>\n",
              "    <tr>\n",
              "      <th>78</th>\n",
              "      <td>Más Bodega169</td>\n",
              "    </tr>\n",
              "  </tbody>\n",
              "</table>\n",
              "</div>\n",
              "    <div class=\"colab-df-buttons\">\n",
              "\n",
              "  <div class=\"colab-df-container\">\n",
              "    <button class=\"colab-df-convert\" onclick=\"convertToInteractive('df-8fecacd4-750e-4e38-bbc3-1bde6f0d9d01')\"\n",
              "            title=\"Convert this dataframe to an interactive table.\"\n",
              "            style=\"display:none;\">\n",
              "\n",
              "  <svg xmlns=\"http://www.w3.org/2000/svg\" height=\"24px\" viewBox=\"0 -960 960 960\">\n",
              "    <path d=\"M120-120v-720h720v720H120Zm60-500h600v-160H180v160Zm220 220h160v-160H400v160Zm0 220h160v-160H400v160ZM180-400h160v-160H180v160Zm440 0h160v-160H620v160ZM180-180h160v-160H180v160Zm440 0h160v-160H620v160Z\"/>\n",
              "  </svg>\n",
              "    </button>\n",
              "\n",
              "  <style>\n",
              "    .colab-df-container {\n",
              "      display:flex;\n",
              "      gap: 12px;\n",
              "    }\n",
              "\n",
              "    .colab-df-convert {\n",
              "      background-color: #E8F0FE;\n",
              "      border: none;\n",
              "      border-radius: 50%;\n",
              "      cursor: pointer;\n",
              "      display: none;\n",
              "      fill: #1967D2;\n",
              "      height: 32px;\n",
              "      padding: 0 0 0 0;\n",
              "      width: 32px;\n",
              "    }\n",
              "\n",
              "    .colab-df-convert:hover {\n",
              "      background-color: #E2EBFA;\n",
              "      box-shadow: 0px 1px 2px rgba(60, 64, 67, 0.3), 0px 1px 3px 1px rgba(60, 64, 67, 0.15);\n",
              "      fill: #174EA6;\n",
              "    }\n",
              "\n",
              "    .colab-df-buttons div {\n",
              "      margin-bottom: 4px;\n",
              "    }\n",
              "\n",
              "    [theme=dark] .colab-df-convert {\n",
              "      background-color: #3B4455;\n",
              "      fill: #D2E3FC;\n",
              "    }\n",
              "\n",
              "    [theme=dark] .colab-df-convert:hover {\n",
              "      background-color: #434B5C;\n",
              "      box-shadow: 0px 1px 3px 1px rgba(0, 0, 0, 0.15);\n",
              "      filter: drop-shadow(0px 1px 2px rgba(0, 0, 0, 0.3));\n",
              "      fill: #FFFFFF;\n",
              "    }\n",
              "  </style>\n",
              "\n",
              "    <script>\n",
              "      const buttonEl =\n",
              "        document.querySelector('#df-8fecacd4-750e-4e38-bbc3-1bde6f0d9d01 button.colab-df-convert');\n",
              "      buttonEl.style.display =\n",
              "        google.colab.kernel.accessAllowed ? 'block' : 'none';\n",
              "\n",
              "      async function convertToInteractive(key) {\n",
              "        const element = document.querySelector('#df-8fecacd4-750e-4e38-bbc3-1bde6f0d9d01');\n",
              "        const dataTable =\n",
              "          await google.colab.kernel.invokeFunction('convertToInteractive',\n",
              "                                                    [key], {});\n",
              "        if (!dataTable) return;\n",
              "\n",
              "        const docLinkHtml = 'Like what you see? Visit the ' +\n",
              "          '<a target=\"_blank\" href=https://colab.research.google.com/notebooks/data_table.ipynb>data table notebook</a>'\n",
              "          + ' to learn more about interactive tables.';\n",
              "        element.innerHTML = '';\n",
              "        dataTable['output_type'] = 'display_data';\n",
              "        await google.colab.output.renderOutput(dataTable, element);\n",
              "        const docLink = document.createElement('div');\n",
              "        docLink.innerHTML = docLinkHtml;\n",
              "        element.appendChild(docLink);\n",
              "      }\n",
              "    </script>\n",
              "  </div>\n",
              "\n",
              "\n",
              "    <div id=\"df-776f3343-1219-4cce-96f9-cc3f437e06be\">\n",
              "      <button class=\"colab-df-quickchart\" onclick=\"quickchart('df-776f3343-1219-4cce-96f9-cc3f437e06be')\"\n",
              "                title=\"Suggest charts\"\n",
              "                style=\"display:none;\">\n",
              "\n",
              "<svg xmlns=\"http://www.w3.org/2000/svg\" height=\"24px\"viewBox=\"0 0 24 24\"\n",
              "     width=\"24px\">\n",
              "    <g>\n",
              "        <path d=\"M19 3H5c-1.1 0-2 .9-2 2v14c0 1.1.9 2 2 2h14c1.1 0 2-.9 2-2V5c0-1.1-.9-2-2-2zM9 17H7v-7h2v7zm4 0h-2V7h2v10zm4 0h-2v-4h2v4z\"/>\n",
              "    </g>\n",
              "</svg>\n",
              "      </button>\n",
              "\n",
              "<style>\n",
              "  .colab-df-quickchart {\n",
              "      --bg-color: #E8F0FE;\n",
              "      --fill-color: #1967D2;\n",
              "      --hover-bg-color: #E2EBFA;\n",
              "      --hover-fill-color: #174EA6;\n",
              "      --disabled-fill-color: #AAA;\n",
              "      --disabled-bg-color: #DDD;\n",
              "  }\n",
              "\n",
              "  [theme=dark] .colab-df-quickchart {\n",
              "      --bg-color: #3B4455;\n",
              "      --fill-color: #D2E3FC;\n",
              "      --hover-bg-color: #434B5C;\n",
              "      --hover-fill-color: #FFFFFF;\n",
              "      --disabled-bg-color: #3B4455;\n",
              "      --disabled-fill-color: #666;\n",
              "  }\n",
              "\n",
              "  .colab-df-quickchart {\n",
              "    background-color: var(--bg-color);\n",
              "    border: none;\n",
              "    border-radius: 50%;\n",
              "    cursor: pointer;\n",
              "    display: none;\n",
              "    fill: var(--fill-color);\n",
              "    height: 32px;\n",
              "    padding: 0;\n",
              "    width: 32px;\n",
              "  }\n",
              "\n",
              "  .colab-df-quickchart:hover {\n",
              "    background-color: var(--hover-bg-color);\n",
              "    box-shadow: 0 1px 2px rgba(60, 64, 67, 0.3), 0 1px 3px 1px rgba(60, 64, 67, 0.15);\n",
              "    fill: var(--button-hover-fill-color);\n",
              "  }\n",
              "\n",
              "  .colab-df-quickchart-complete:disabled,\n",
              "  .colab-df-quickchart-complete:disabled:hover {\n",
              "    background-color: var(--disabled-bg-color);\n",
              "    fill: var(--disabled-fill-color);\n",
              "    box-shadow: none;\n",
              "  }\n",
              "\n",
              "  .colab-df-spinner {\n",
              "    border: 2px solid var(--fill-color);\n",
              "    border-color: transparent;\n",
              "    border-bottom-color: var(--fill-color);\n",
              "    animation:\n",
              "      spin 1s steps(1) infinite;\n",
              "  }\n",
              "\n",
              "  @keyframes spin {\n",
              "    0% {\n",
              "      border-color: transparent;\n",
              "      border-bottom-color: var(--fill-color);\n",
              "      border-left-color: var(--fill-color);\n",
              "    }\n",
              "    20% {\n",
              "      border-color: transparent;\n",
              "      border-left-color: var(--fill-color);\n",
              "      border-top-color: var(--fill-color);\n",
              "    }\n",
              "    30% {\n",
              "      border-color: transparent;\n",
              "      border-left-color: var(--fill-color);\n",
              "      border-top-color: var(--fill-color);\n",
              "      border-right-color: var(--fill-color);\n",
              "    }\n",
              "    40% {\n",
              "      border-color: transparent;\n",
              "      border-right-color: var(--fill-color);\n",
              "      border-top-color: var(--fill-color);\n",
              "    }\n",
              "    60% {\n",
              "      border-color: transparent;\n",
              "      border-right-color: var(--fill-color);\n",
              "    }\n",
              "    80% {\n",
              "      border-color: transparent;\n",
              "      border-right-color: var(--fill-color);\n",
              "      border-bottom-color: var(--fill-color);\n",
              "    }\n",
              "    90% {\n",
              "      border-color: transparent;\n",
              "      border-bottom-color: var(--fill-color);\n",
              "    }\n",
              "  }\n",
              "</style>\n",
              "\n",
              "      <script>\n",
              "        async function quickchart(key) {\n",
              "          const quickchartButtonEl =\n",
              "            document.querySelector('#' + key + ' button');\n",
              "          quickchartButtonEl.disabled = true;  // To prevent multiple clicks.\n",
              "          quickchartButtonEl.classList.add('colab-df-spinner');\n",
              "          try {\n",
              "            const charts = await google.colab.kernel.invokeFunction(\n",
              "                'suggestCharts', [key], {});\n",
              "          } catch (error) {\n",
              "            console.error('Error during call to suggestCharts:', error);\n",
              "          }\n",
              "          quickchartButtonEl.classList.remove('colab-df-spinner');\n",
              "          quickchartButtonEl.classList.add('colab-df-quickchart-complete');\n",
              "        }\n",
              "        (() => {\n",
              "          let quickchartButtonEl =\n",
              "            document.querySelector('#df-776f3343-1219-4cce-96f9-cc3f437e06be button');\n",
              "          quickchartButtonEl.style.display =\n",
              "            google.colab.kernel.accessAllowed ? 'block' : 'none';\n",
              "        })();\n",
              "      </script>\n",
              "    </div>\n",
              "\n",
              "    </div>\n",
              "  </div>\n"
            ],
            "application/vnd.google.colaboratory.intrinsic+json": {
              "type": "dataframe",
              "summary": "{\n  \"name\": \"tdas\",\n  \"rows\": 5,\n  \"fields\": [\n    {\n      \"column\": \"key_tda\",\n      \"properties\": {\n        \"dtype\": \"string\",\n        \"num_unique_values\": 5,\n        \"samples\": [\n          \"M\\u00e1s Bodega31\",\n          \"M\\u00e1s Bodega169\",\n          \"M\\u00e1s Bodega27\"\n        ],\n        \"semantic_type\": \"\",\n        \"description\": \"\"\n      }\n    }\n  ]\n}"
            }
          },
          "metadata": {},
          "execution_count": 149
        }
      ]
    },
    {
      "cell_type": "markdown",
      "source": [
        "## Productos-BI"
      ],
      "metadata": {
        "id": "dqHh7mEptRzr"
      }
    },
    {
      "cell_type": "markdown",
      "source": [
        "catalogo de productos general (construido con historicos). Solo para cuando me entreguen la información sin relacionar los codigos de material con los codigos del cliente"
      ],
      "metadata": {
        "id": "CGNXJl7GhAZj"
      }
    },
    {
      "cell_type": "code",
      "source": [
        "ab=pd.read_excel(\"/content/drive/Shareddrives/Catalogos_SO/Catalogo_Productos.xlsx\",\n",
        "                 sheet_name=\"Catalogo\",\n",
        "                 engine=\"openpyxl\")\n",
        "ab.info()"
      ],
      "metadata": {
        "colab": {
          "base_uri": "https://localhost:8080/"
        },
        "id": "PxNzWj46hbl4",
        "outputId": "def484c6-3b15-4c71-b2cf-6ee1bb97f3e0"
      },
      "execution_count": 150,
      "outputs": [
        {
          "output_type": "stream",
          "name": "stdout",
          "text": [
            "<class 'pandas.core.frame.DataFrame'>\n",
            "RangeIndex: 2982 entries, 0 to 2981\n",
            "Data columns (total 21 columns):\n",
            " #   Column                  Non-Null Count  Dtype  \n",
            "---  ------                  --------------  -----  \n",
            " 0   Agrupador (C+V)         2982 non-null   object \n",
            " 1   Satus SKU               2912 non-null   object \n",
            " 2   >ATTP5                  2982 non-null   object \n",
            " 3   Madre o hijo            434 non-null    object \n",
            " 4   Largo                   2982 non-null   int64  \n",
            " 5   Inicio (2)              2982 non-null   object \n",
            " 6   Variante (2)            1928 non-null   object \n",
            " 7   Constante(6)            1929 non-null   object \n",
            " 8   >Código Material*       2982 non-null   object \n",
            " 9   >Desc. Código Material  2982 non-null   object \n",
            " 10  >Marca                  2982 non-null   object \n",
            " 11  SUBMARCA                2982 non-null   object \n",
            " 12  Desc_Mayoreo            2982 non-null   object \n",
            " 13  >ATTP4                  2982 non-null   object \n",
            " 14  >Desc. Sector Material  2982 non-null   object \n",
            " 15  Segmentacion            2982 non-null   object \n",
            " 16  >N° Ply / Talla         2982 non-null   object \n",
            " 17  Presentacion            2982 non-null   int64  \n",
            " 18  Empaquetado (Cj/Blt)    2982 non-null   int64  \n",
            " 19  Unidades                2982 non-null   int64  \n",
            " 20  >Kgr_empaq              1953 non-null   float64\n",
            "dtypes: float64(1), int64(4), object(16)\n",
            "memory usage: 489.4+ KB\n"
          ]
        }
      ]
    },
    {
      "cell_type": "code",
      "source": [
        "# selccionar columnas por index\n",
        "ab= ab.iloc[:,[8,18]]\n",
        "\n",
        "# renombrar las columnas\n",
        "ab= ab.rename(columns={'>Código Material*': \"CODIGO\"})\n",
        "\n",
        "ab = ab.replace(r'\\s+', ' ', regex=True)\n",
        "\n",
        "ab.head()"
      ],
      "metadata": {
        "id": "8pgPeFiViJYV",
        "colab": {
          "base_uri": "https://localhost:8080/",
          "height": 206
        },
        "outputId": "5f6d02c8-6593-402e-ff9f-3c7523adc516"
      },
      "execution_count": 151,
      "outputs": [
        {
          "output_type": "execute_result",
          "data": {
            "text/plain": [
              "       CODIGO  Empaquetado (Cj/Blt)\n",
              "0  AB11000855                    24\n",
              "1  AB10335148                    48\n",
              "2  AB10331522                    60\n",
              "3  AB10335179                    48\n",
              "4  AB10335315                    48"
            ],
            "text/html": [
              "\n",
              "  <div id=\"df-8d088899-3a5c-415c-821d-3239787fafe2\" class=\"colab-df-container\">\n",
              "    <div>\n",
              "<style scoped>\n",
              "    .dataframe tbody tr th:only-of-type {\n",
              "        vertical-align: middle;\n",
              "    }\n",
              "\n",
              "    .dataframe tbody tr th {\n",
              "        vertical-align: top;\n",
              "    }\n",
              "\n",
              "    .dataframe thead th {\n",
              "        text-align: right;\n",
              "    }\n",
              "</style>\n",
              "<table border=\"1\" class=\"dataframe\">\n",
              "  <thead>\n",
              "    <tr style=\"text-align: right;\">\n",
              "      <th></th>\n",
              "      <th>CODIGO</th>\n",
              "      <th>Empaquetado (Cj/Blt)</th>\n",
              "    </tr>\n",
              "  </thead>\n",
              "  <tbody>\n",
              "    <tr>\n",
              "      <th>0</th>\n",
              "      <td>AB11000855</td>\n",
              "      <td>24</td>\n",
              "    </tr>\n",
              "    <tr>\n",
              "      <th>1</th>\n",
              "      <td>AB10335148</td>\n",
              "      <td>48</td>\n",
              "    </tr>\n",
              "    <tr>\n",
              "      <th>2</th>\n",
              "      <td>AB10331522</td>\n",
              "      <td>60</td>\n",
              "    </tr>\n",
              "    <tr>\n",
              "      <th>3</th>\n",
              "      <td>AB10335179</td>\n",
              "      <td>48</td>\n",
              "    </tr>\n",
              "    <tr>\n",
              "      <th>4</th>\n",
              "      <td>AB10335315</td>\n",
              "      <td>48</td>\n",
              "    </tr>\n",
              "  </tbody>\n",
              "</table>\n",
              "</div>\n",
              "    <div class=\"colab-df-buttons\">\n",
              "\n",
              "  <div class=\"colab-df-container\">\n",
              "    <button class=\"colab-df-convert\" onclick=\"convertToInteractive('df-8d088899-3a5c-415c-821d-3239787fafe2')\"\n",
              "            title=\"Convert this dataframe to an interactive table.\"\n",
              "            style=\"display:none;\">\n",
              "\n",
              "  <svg xmlns=\"http://www.w3.org/2000/svg\" height=\"24px\" viewBox=\"0 -960 960 960\">\n",
              "    <path d=\"M120-120v-720h720v720H120Zm60-500h600v-160H180v160Zm220 220h160v-160H400v160Zm0 220h160v-160H400v160ZM180-400h160v-160H180v160Zm440 0h160v-160H620v160ZM180-180h160v-160H180v160Zm440 0h160v-160H620v160Z\"/>\n",
              "  </svg>\n",
              "    </button>\n",
              "\n",
              "  <style>\n",
              "    .colab-df-container {\n",
              "      display:flex;\n",
              "      gap: 12px;\n",
              "    }\n",
              "\n",
              "    .colab-df-convert {\n",
              "      background-color: #E8F0FE;\n",
              "      border: none;\n",
              "      border-radius: 50%;\n",
              "      cursor: pointer;\n",
              "      display: none;\n",
              "      fill: #1967D2;\n",
              "      height: 32px;\n",
              "      padding: 0 0 0 0;\n",
              "      width: 32px;\n",
              "    }\n",
              "\n",
              "    .colab-df-convert:hover {\n",
              "      background-color: #E2EBFA;\n",
              "      box-shadow: 0px 1px 2px rgba(60, 64, 67, 0.3), 0px 1px 3px 1px rgba(60, 64, 67, 0.15);\n",
              "      fill: #174EA6;\n",
              "    }\n",
              "\n",
              "    .colab-df-buttons div {\n",
              "      margin-bottom: 4px;\n",
              "    }\n",
              "\n",
              "    [theme=dark] .colab-df-convert {\n",
              "      background-color: #3B4455;\n",
              "      fill: #D2E3FC;\n",
              "    }\n",
              "\n",
              "    [theme=dark] .colab-df-convert:hover {\n",
              "      background-color: #434B5C;\n",
              "      box-shadow: 0px 1px 3px 1px rgba(0, 0, 0, 0.15);\n",
              "      filter: drop-shadow(0px 1px 2px rgba(0, 0, 0, 0.3));\n",
              "      fill: #FFFFFF;\n",
              "    }\n",
              "  </style>\n",
              "\n",
              "    <script>\n",
              "      const buttonEl =\n",
              "        document.querySelector('#df-8d088899-3a5c-415c-821d-3239787fafe2 button.colab-df-convert');\n",
              "      buttonEl.style.display =\n",
              "        google.colab.kernel.accessAllowed ? 'block' : 'none';\n",
              "\n",
              "      async function convertToInteractive(key) {\n",
              "        const element = document.querySelector('#df-8d088899-3a5c-415c-821d-3239787fafe2');\n",
              "        const dataTable =\n",
              "          await google.colab.kernel.invokeFunction('convertToInteractive',\n",
              "                                                    [key], {});\n",
              "        if (!dataTable) return;\n",
              "\n",
              "        const docLinkHtml = 'Like what you see? Visit the ' +\n",
              "          '<a target=\"_blank\" href=https://colab.research.google.com/notebooks/data_table.ipynb>data table notebook</a>'\n",
              "          + ' to learn more about interactive tables.';\n",
              "        element.innerHTML = '';\n",
              "        dataTable['output_type'] = 'display_data';\n",
              "        await google.colab.output.renderOutput(dataTable, element);\n",
              "        const docLink = document.createElement('div');\n",
              "        docLink.innerHTML = docLinkHtml;\n",
              "        element.appendChild(docLink);\n",
              "      }\n",
              "    </script>\n",
              "  </div>\n",
              "\n",
              "\n",
              "    <div id=\"df-23633ef1-f8fb-4e41-aace-028c9157daf1\">\n",
              "      <button class=\"colab-df-quickchart\" onclick=\"quickchart('df-23633ef1-f8fb-4e41-aace-028c9157daf1')\"\n",
              "                title=\"Suggest charts\"\n",
              "                style=\"display:none;\">\n",
              "\n",
              "<svg xmlns=\"http://www.w3.org/2000/svg\" height=\"24px\"viewBox=\"0 0 24 24\"\n",
              "     width=\"24px\">\n",
              "    <g>\n",
              "        <path d=\"M19 3H5c-1.1 0-2 .9-2 2v14c0 1.1.9 2 2 2h14c1.1 0 2-.9 2-2V5c0-1.1-.9-2-2-2zM9 17H7v-7h2v7zm4 0h-2V7h2v10zm4 0h-2v-4h2v4z\"/>\n",
              "    </g>\n",
              "</svg>\n",
              "      </button>\n",
              "\n",
              "<style>\n",
              "  .colab-df-quickchart {\n",
              "      --bg-color: #E8F0FE;\n",
              "      --fill-color: #1967D2;\n",
              "      --hover-bg-color: #E2EBFA;\n",
              "      --hover-fill-color: #174EA6;\n",
              "      --disabled-fill-color: #AAA;\n",
              "      --disabled-bg-color: #DDD;\n",
              "  }\n",
              "\n",
              "  [theme=dark] .colab-df-quickchart {\n",
              "      --bg-color: #3B4455;\n",
              "      --fill-color: #D2E3FC;\n",
              "      --hover-bg-color: #434B5C;\n",
              "      --hover-fill-color: #FFFFFF;\n",
              "      --disabled-bg-color: #3B4455;\n",
              "      --disabled-fill-color: #666;\n",
              "  }\n",
              "\n",
              "  .colab-df-quickchart {\n",
              "    background-color: var(--bg-color);\n",
              "    border: none;\n",
              "    border-radius: 50%;\n",
              "    cursor: pointer;\n",
              "    display: none;\n",
              "    fill: var(--fill-color);\n",
              "    height: 32px;\n",
              "    padding: 0;\n",
              "    width: 32px;\n",
              "  }\n",
              "\n",
              "  .colab-df-quickchart:hover {\n",
              "    background-color: var(--hover-bg-color);\n",
              "    box-shadow: 0 1px 2px rgba(60, 64, 67, 0.3), 0 1px 3px 1px rgba(60, 64, 67, 0.15);\n",
              "    fill: var(--button-hover-fill-color);\n",
              "  }\n",
              "\n",
              "  .colab-df-quickchart-complete:disabled,\n",
              "  .colab-df-quickchart-complete:disabled:hover {\n",
              "    background-color: var(--disabled-bg-color);\n",
              "    fill: var(--disabled-fill-color);\n",
              "    box-shadow: none;\n",
              "  }\n",
              "\n",
              "  .colab-df-spinner {\n",
              "    border: 2px solid var(--fill-color);\n",
              "    border-color: transparent;\n",
              "    border-bottom-color: var(--fill-color);\n",
              "    animation:\n",
              "      spin 1s steps(1) infinite;\n",
              "  }\n",
              "\n",
              "  @keyframes spin {\n",
              "    0% {\n",
              "      border-color: transparent;\n",
              "      border-bottom-color: var(--fill-color);\n",
              "      border-left-color: var(--fill-color);\n",
              "    }\n",
              "    20% {\n",
              "      border-color: transparent;\n",
              "      border-left-color: var(--fill-color);\n",
              "      border-top-color: var(--fill-color);\n",
              "    }\n",
              "    30% {\n",
              "      border-color: transparent;\n",
              "      border-left-color: var(--fill-color);\n",
              "      border-top-color: var(--fill-color);\n",
              "      border-right-color: var(--fill-color);\n",
              "    }\n",
              "    40% {\n",
              "      border-color: transparent;\n",
              "      border-right-color: var(--fill-color);\n",
              "      border-top-color: var(--fill-color);\n",
              "    }\n",
              "    60% {\n",
              "      border-color: transparent;\n",
              "      border-right-color: var(--fill-color);\n",
              "    }\n",
              "    80% {\n",
              "      border-color: transparent;\n",
              "      border-right-color: var(--fill-color);\n",
              "      border-bottom-color: var(--fill-color);\n",
              "    }\n",
              "    90% {\n",
              "      border-color: transparent;\n",
              "      border-bottom-color: var(--fill-color);\n",
              "    }\n",
              "  }\n",
              "</style>\n",
              "\n",
              "      <script>\n",
              "        async function quickchart(key) {\n",
              "          const quickchartButtonEl =\n",
              "            document.querySelector('#' + key + ' button');\n",
              "          quickchartButtonEl.disabled = true;  // To prevent multiple clicks.\n",
              "          quickchartButtonEl.classList.add('colab-df-spinner');\n",
              "          try {\n",
              "            const charts = await google.colab.kernel.invokeFunction(\n",
              "                'suggestCharts', [key], {});\n",
              "          } catch (error) {\n",
              "            console.error('Error during call to suggestCharts:', error);\n",
              "          }\n",
              "          quickchartButtonEl.classList.remove('colab-df-spinner');\n",
              "          quickchartButtonEl.classList.add('colab-df-quickchart-complete');\n",
              "        }\n",
              "        (() => {\n",
              "          let quickchartButtonEl =\n",
              "            document.querySelector('#df-23633ef1-f8fb-4e41-aace-028c9157daf1 button');\n",
              "          quickchartButtonEl.style.display =\n",
              "            google.colab.kernel.accessAllowed ? 'block' : 'none';\n",
              "        })();\n",
              "      </script>\n",
              "    </div>\n",
              "\n",
              "    </div>\n",
              "  </div>\n"
            ],
            "application/vnd.google.colaboratory.intrinsic+json": {
              "type": "dataframe",
              "variable_name": "ab",
              "summary": "{\n  \"name\": \"ab\",\n  \"rows\": 2982,\n  \"fields\": [\n    {\n      \"column\": \"CODIGO\",\n      \"properties\": {\n        \"dtype\": \"string\",\n        \"num_unique_values\": 2982,\n        \"samples\": [\n          132141088,\n          \"AB21080710\",\n          \"AB45109121\"\n        ],\n        \"semantic_type\": \"\",\n        \"description\": \"\"\n      }\n    },\n    {\n      \"column\": \"Empaquetado (Cj/Blt)\",\n      \"properties\": {\n        \"dtype\": \"number\",\n        \"std\": 16,\n        \"min\": 0,\n        \"max\": 216,\n        \"num_unique_values\": 50,\n        \"samples\": [\n          20,\n          30,\n          76\n        ],\n        \"semantic_type\": \"\",\n        \"description\": \"\"\n      }\n    }\n  ]\n}"
            }
          },
          "metadata": {},
          "execution_count": 151
        }
      ]
    },
    {
      "cell_type": "markdown",
      "source": [
        "## Puebla-Materiales"
      ],
      "metadata": {
        "id": "dX0l4YUoNCUK"
      }
    },
    {
      "cell_type": "code",
      "source": [
        "mat_softys=pd.read_excel('/content/drive/Shareddrives/Catalogos_SO/Catalogo_Puebla.xlsx')\n",
        "mat_softys=mat_softys.replace(r'\\s+', ' ', regex=True)"
      ],
      "metadata": {
        "id": "q8BudoUrHgiV"
      },
      "execution_count": 152,
      "outputs": []
    },
    {
      "cell_type": "code",
      "source": [
        "import re\n",
        "mat_softys.Codigo_Barras_Bolsa = mat_softys.Codigo_Barras_Bolsa.astype(str)\n",
        "mat_softys.Codigo_Barras_Caja = mat_softys.Codigo_Barras_Caja.astype(str)\n",
        "\n",
        "mat_softys.Codigo_Barras_Bolsa = [re.sub(\"^0+\", \"\", ele) for ele in mat_softys.Codigo_Barras_Bolsa]\n",
        "mat_softys.Codigo_Barras_Caja = [re.sub(\"^0+\", \"\", ele) for ele in mat_softys.Codigo_Barras_Caja]\n",
        "\n",
        "\n",
        "#mat_softys=mat_softys.iloc[:,[0,1,7,8,12,13]]\n",
        "\n",
        "#mat_softys.columns.values[0] = \"item_softys\"\n",
        "\n",
        "mat_softys = mat_softys.drop_duplicates(subset=\"Codigo_Barras_Caja\", inplace=False)\n",
        "mat_softys = mat_softys.drop_duplicates(subset=\"Codigo_Barras_Bolsa\", inplace=False)"
      ],
      "metadata": {
        "id": "hMP0j3AGH2Sa"
      },
      "execution_count": 153,
      "outputs": []
    },
    {
      "cell_type": "code",
      "source": [
        "# condicion a cumplir\n",
        "condition = (mat_softys['Bolsas_X_Caja'] == \"Material\") | \\\n",
        "            (mat_softys['Piezas_X_Bolsa'] == \"Material\") | \\\n",
        "            (mat_softys['Bolsas_X_Caja'] == 0) | \\\n",
        "            (mat_softys['Piezas_X_Bolsa'] == 0)\n",
        "\n",
        "# Delete rows based on the condition\n",
        "mat_softys = mat_softys[~condition]"
      ],
      "metadata": {
        "id": "uwHxXw30wG2l"
      },
      "execution_count": 154,
      "outputs": []
    },
    {
      "cell_type": "markdown",
      "source": [
        "Separar el dataset y convertir el codigo de barras en un solo atributo"
      ],
      "metadata": {
        "id": "yi4aizG8dh79"
      }
    },
    {
      "cell_type": "code",
      "source": [
        "# bolsa\n",
        "\n",
        "mat_softys_bolsa=mat_softys[[\"Item1\",\"Description\",\"Bolsas_X_Caja\", \"Piezas_X_Bolsa\", \"Codigo_Barras_Bolsa\"]]\n",
        "\n",
        "mat_softys_bolsa[\"KEY_UPC_softys\"] = mat_softys_bolsa[\"Codigo_Barras_Bolsa\"].astype(str) + mat_softys_bolsa[\"Piezas_X_Bolsa\"].astype(str) + mat_softys_bolsa[\"Bolsas_X_Caja\"].astype(str)\n",
        "\n",
        "mat_softys_bolsa=mat_softys_bolsa.drop_duplicates(subset=[\"KEY_UPC_softys\"])\n",
        "\n",
        "mat_softys_bolsa=mat_softys_bolsa.iloc[:,[0,5]]\n",
        "\n",
        "# caja\n",
        "\n",
        "mat_softys_caja=mat_softys[[\"Item1\",\"Description\",\"Bolsas_X_Caja\", \"Piezas_X_Bolsa\", \"Codigo_Barras_Caja\"]]\n",
        "\n",
        "mat_softys_caja[\"KEY_UPC_softys\"] = mat_softys_caja[\"Codigo_Barras_Caja\"].astype(str) + mat_softys_caja[\"Piezas_X_Bolsa\"].astype(str) + mat_softys_caja[\"Bolsas_X_Caja\"].astype(str)\n",
        "\n",
        "mat_softys_caja=mat_softys_caja.drop_duplicates(subset=[\"KEY_UPC_softys\"])\n",
        "\n",
        "mat_softys_caja=mat_softys_caja.iloc[:,[0,5]]"
      ],
      "metadata": {
        "id": "BQHOmnMWdhkG",
        "colab": {
          "base_uri": "https://localhost:8080/"
        },
        "outputId": "8e38fade-c49d-4d2c-d9ea-c110820e286a"
      },
      "execution_count": 155,
      "outputs": [
        {
          "output_type": "stream",
          "name": "stderr",
          "text": [
            "/tmp/ipython-input-1265355574.py:5: SettingWithCopyWarning: \n",
            "A value is trying to be set on a copy of a slice from a DataFrame.\n",
            "Try using .loc[row_indexer,col_indexer] = value instead\n",
            "\n",
            "See the caveats in the documentation: https://pandas.pydata.org/pandas-docs/stable/user_guide/indexing.html#returning-a-view-versus-a-copy\n",
            "  mat_softys_bolsa[\"KEY_UPC_softys\"] = mat_softys_bolsa[\"Codigo_Barras_Bolsa\"].astype(str) + mat_softys_bolsa[\"Piezas_X_Bolsa\"].astype(str) + mat_softys_bolsa[\"Bolsas_X_Caja\"].astype(str)\n",
            "/tmp/ipython-input-1265355574.py:15: SettingWithCopyWarning: \n",
            "A value is trying to be set on a copy of a slice from a DataFrame.\n",
            "Try using .loc[row_indexer,col_indexer] = value instead\n",
            "\n",
            "See the caveats in the documentation: https://pandas.pydata.org/pandas-docs/stable/user_guide/indexing.html#returning-a-view-versus-a-copy\n",
            "  mat_softys_caja[\"KEY_UPC_softys\"] = mat_softys_caja[\"Codigo_Barras_Caja\"].astype(str) + mat_softys_caja[\"Piezas_X_Bolsa\"].astype(str) + mat_softys_caja[\"Bolsas_X_Caja\"].astype(str)\n"
          ]
        }
      ]
    },
    {
      "cell_type": "markdown",
      "source": [
        "Unir los dos dataset en uno mismo"
      ],
      "metadata": {
        "id": "7YIFYUWyf_Hm"
      }
    },
    {
      "cell_type": "code",
      "source": [
        "mat_softys=pd.concat([mat_softys_bolsa,mat_softys_caja],axis=0)\n",
        "\n",
        "mat_softys.tail()"
      ],
      "metadata": {
        "id": "hXbql9nH7koG",
        "colab": {
          "base_uri": "https://localhost:8080/",
          "height": 206
        },
        "outputId": "a0e8b8c9-b1ba-4ccc-abdc-748a1de39342"
      },
      "execution_count": 156,
      "outputs": [
        {
          "output_type": "execute_result",
          "data": {
            "text/plain": [
              "            Item1         KEY_UPC_softys\n",
              "12833  3134141460  1001311703379014.06.0\n",
              "12835  3515553040  1001311703399830.04.0\n",
              "12836  3515553441  1001311703397434.04.0\n",
              "12837  3515563040  1001311703400130.04.0\n",
              "12838  3515563441  1001311703398134.04.0"
            ],
            "text/html": [
              "\n",
              "  <div id=\"df-ec549e37-b158-4976-b294-ea42d6f88691\" class=\"colab-df-container\">\n",
              "    <div>\n",
              "<style scoped>\n",
              "    .dataframe tbody tr th:only-of-type {\n",
              "        vertical-align: middle;\n",
              "    }\n",
              "\n",
              "    .dataframe tbody tr th {\n",
              "        vertical-align: top;\n",
              "    }\n",
              "\n",
              "    .dataframe thead th {\n",
              "        text-align: right;\n",
              "    }\n",
              "</style>\n",
              "<table border=\"1\" class=\"dataframe\">\n",
              "  <thead>\n",
              "    <tr style=\"text-align: right;\">\n",
              "      <th></th>\n",
              "      <th>Item1</th>\n",
              "      <th>KEY_UPC_softys</th>\n",
              "    </tr>\n",
              "  </thead>\n",
              "  <tbody>\n",
              "    <tr>\n",
              "      <th>12833</th>\n",
              "      <td>3134141460</td>\n",
              "      <td>1001311703379014.06.0</td>\n",
              "    </tr>\n",
              "    <tr>\n",
              "      <th>12835</th>\n",
              "      <td>3515553040</td>\n",
              "      <td>1001311703399830.04.0</td>\n",
              "    </tr>\n",
              "    <tr>\n",
              "      <th>12836</th>\n",
              "      <td>3515553441</td>\n",
              "      <td>1001311703397434.04.0</td>\n",
              "    </tr>\n",
              "    <tr>\n",
              "      <th>12837</th>\n",
              "      <td>3515563040</td>\n",
              "      <td>1001311703400130.04.0</td>\n",
              "    </tr>\n",
              "    <tr>\n",
              "      <th>12838</th>\n",
              "      <td>3515563441</td>\n",
              "      <td>1001311703398134.04.0</td>\n",
              "    </tr>\n",
              "  </tbody>\n",
              "</table>\n",
              "</div>\n",
              "    <div class=\"colab-df-buttons\">\n",
              "\n",
              "  <div class=\"colab-df-container\">\n",
              "    <button class=\"colab-df-convert\" onclick=\"convertToInteractive('df-ec549e37-b158-4976-b294-ea42d6f88691')\"\n",
              "            title=\"Convert this dataframe to an interactive table.\"\n",
              "            style=\"display:none;\">\n",
              "\n",
              "  <svg xmlns=\"http://www.w3.org/2000/svg\" height=\"24px\" viewBox=\"0 -960 960 960\">\n",
              "    <path d=\"M120-120v-720h720v720H120Zm60-500h600v-160H180v160Zm220 220h160v-160H400v160Zm0 220h160v-160H400v160ZM180-400h160v-160H180v160Zm440 0h160v-160H620v160ZM180-180h160v-160H180v160Zm440 0h160v-160H620v160Z\"/>\n",
              "  </svg>\n",
              "    </button>\n",
              "\n",
              "  <style>\n",
              "    .colab-df-container {\n",
              "      display:flex;\n",
              "      gap: 12px;\n",
              "    }\n",
              "\n",
              "    .colab-df-convert {\n",
              "      background-color: #E8F0FE;\n",
              "      border: none;\n",
              "      border-radius: 50%;\n",
              "      cursor: pointer;\n",
              "      display: none;\n",
              "      fill: #1967D2;\n",
              "      height: 32px;\n",
              "      padding: 0 0 0 0;\n",
              "      width: 32px;\n",
              "    }\n",
              "\n",
              "    .colab-df-convert:hover {\n",
              "      background-color: #E2EBFA;\n",
              "      box-shadow: 0px 1px 2px rgba(60, 64, 67, 0.3), 0px 1px 3px 1px rgba(60, 64, 67, 0.15);\n",
              "      fill: #174EA6;\n",
              "    }\n",
              "\n",
              "    .colab-df-buttons div {\n",
              "      margin-bottom: 4px;\n",
              "    }\n",
              "\n",
              "    [theme=dark] .colab-df-convert {\n",
              "      background-color: #3B4455;\n",
              "      fill: #D2E3FC;\n",
              "    }\n",
              "\n",
              "    [theme=dark] .colab-df-convert:hover {\n",
              "      background-color: #434B5C;\n",
              "      box-shadow: 0px 1px 3px 1px rgba(0, 0, 0, 0.15);\n",
              "      filter: drop-shadow(0px 1px 2px rgba(0, 0, 0, 0.3));\n",
              "      fill: #FFFFFF;\n",
              "    }\n",
              "  </style>\n",
              "\n",
              "    <script>\n",
              "      const buttonEl =\n",
              "        document.querySelector('#df-ec549e37-b158-4976-b294-ea42d6f88691 button.colab-df-convert');\n",
              "      buttonEl.style.display =\n",
              "        google.colab.kernel.accessAllowed ? 'block' : 'none';\n",
              "\n",
              "      async function convertToInteractive(key) {\n",
              "        const element = document.querySelector('#df-ec549e37-b158-4976-b294-ea42d6f88691');\n",
              "        const dataTable =\n",
              "          await google.colab.kernel.invokeFunction('convertToInteractive',\n",
              "                                                    [key], {});\n",
              "        if (!dataTable) return;\n",
              "\n",
              "        const docLinkHtml = 'Like what you see? Visit the ' +\n",
              "          '<a target=\"_blank\" href=https://colab.research.google.com/notebooks/data_table.ipynb>data table notebook</a>'\n",
              "          + ' to learn more about interactive tables.';\n",
              "        element.innerHTML = '';\n",
              "        dataTable['output_type'] = 'display_data';\n",
              "        await google.colab.output.renderOutput(dataTable, element);\n",
              "        const docLink = document.createElement('div');\n",
              "        docLink.innerHTML = docLinkHtml;\n",
              "        element.appendChild(docLink);\n",
              "      }\n",
              "    </script>\n",
              "  </div>\n",
              "\n",
              "\n",
              "    <div id=\"df-dc3a12a2-a201-4595-a4e8-9389917ab64e\">\n",
              "      <button class=\"colab-df-quickchart\" onclick=\"quickchart('df-dc3a12a2-a201-4595-a4e8-9389917ab64e')\"\n",
              "                title=\"Suggest charts\"\n",
              "                style=\"display:none;\">\n",
              "\n",
              "<svg xmlns=\"http://www.w3.org/2000/svg\" height=\"24px\"viewBox=\"0 0 24 24\"\n",
              "     width=\"24px\">\n",
              "    <g>\n",
              "        <path d=\"M19 3H5c-1.1 0-2 .9-2 2v14c0 1.1.9 2 2 2h14c1.1 0 2-.9 2-2V5c0-1.1-.9-2-2-2zM9 17H7v-7h2v7zm4 0h-2V7h2v10zm4 0h-2v-4h2v4z\"/>\n",
              "    </g>\n",
              "</svg>\n",
              "      </button>\n",
              "\n",
              "<style>\n",
              "  .colab-df-quickchart {\n",
              "      --bg-color: #E8F0FE;\n",
              "      --fill-color: #1967D2;\n",
              "      --hover-bg-color: #E2EBFA;\n",
              "      --hover-fill-color: #174EA6;\n",
              "      --disabled-fill-color: #AAA;\n",
              "      --disabled-bg-color: #DDD;\n",
              "  }\n",
              "\n",
              "  [theme=dark] .colab-df-quickchart {\n",
              "      --bg-color: #3B4455;\n",
              "      --fill-color: #D2E3FC;\n",
              "      --hover-bg-color: #434B5C;\n",
              "      --hover-fill-color: #FFFFFF;\n",
              "      --disabled-bg-color: #3B4455;\n",
              "      --disabled-fill-color: #666;\n",
              "  }\n",
              "\n",
              "  .colab-df-quickchart {\n",
              "    background-color: var(--bg-color);\n",
              "    border: none;\n",
              "    border-radius: 50%;\n",
              "    cursor: pointer;\n",
              "    display: none;\n",
              "    fill: var(--fill-color);\n",
              "    height: 32px;\n",
              "    padding: 0;\n",
              "    width: 32px;\n",
              "  }\n",
              "\n",
              "  .colab-df-quickchart:hover {\n",
              "    background-color: var(--hover-bg-color);\n",
              "    box-shadow: 0 1px 2px rgba(60, 64, 67, 0.3), 0 1px 3px 1px rgba(60, 64, 67, 0.15);\n",
              "    fill: var(--button-hover-fill-color);\n",
              "  }\n",
              "\n",
              "  .colab-df-quickchart-complete:disabled,\n",
              "  .colab-df-quickchart-complete:disabled:hover {\n",
              "    background-color: var(--disabled-bg-color);\n",
              "    fill: var(--disabled-fill-color);\n",
              "    box-shadow: none;\n",
              "  }\n",
              "\n",
              "  .colab-df-spinner {\n",
              "    border: 2px solid var(--fill-color);\n",
              "    border-color: transparent;\n",
              "    border-bottom-color: var(--fill-color);\n",
              "    animation:\n",
              "      spin 1s steps(1) infinite;\n",
              "  }\n",
              "\n",
              "  @keyframes spin {\n",
              "    0% {\n",
              "      border-color: transparent;\n",
              "      border-bottom-color: var(--fill-color);\n",
              "      border-left-color: var(--fill-color);\n",
              "    }\n",
              "    20% {\n",
              "      border-color: transparent;\n",
              "      border-left-color: var(--fill-color);\n",
              "      border-top-color: var(--fill-color);\n",
              "    }\n",
              "    30% {\n",
              "      border-color: transparent;\n",
              "      border-left-color: var(--fill-color);\n",
              "      border-top-color: var(--fill-color);\n",
              "      border-right-color: var(--fill-color);\n",
              "    }\n",
              "    40% {\n",
              "      border-color: transparent;\n",
              "      border-right-color: var(--fill-color);\n",
              "      border-top-color: var(--fill-color);\n",
              "    }\n",
              "    60% {\n",
              "      border-color: transparent;\n",
              "      border-right-color: var(--fill-color);\n",
              "    }\n",
              "    80% {\n",
              "      border-color: transparent;\n",
              "      border-right-color: var(--fill-color);\n",
              "      border-bottom-color: var(--fill-color);\n",
              "    }\n",
              "    90% {\n",
              "      border-color: transparent;\n",
              "      border-bottom-color: var(--fill-color);\n",
              "    }\n",
              "  }\n",
              "</style>\n",
              "\n",
              "      <script>\n",
              "        async function quickchart(key) {\n",
              "          const quickchartButtonEl =\n",
              "            document.querySelector('#' + key + ' button');\n",
              "          quickchartButtonEl.disabled = true;  // To prevent multiple clicks.\n",
              "          quickchartButtonEl.classList.add('colab-df-spinner');\n",
              "          try {\n",
              "            const charts = await google.colab.kernel.invokeFunction(\n",
              "                'suggestCharts', [key], {});\n",
              "          } catch (error) {\n",
              "            console.error('Error during call to suggestCharts:', error);\n",
              "          }\n",
              "          quickchartButtonEl.classList.remove('colab-df-spinner');\n",
              "          quickchartButtonEl.classList.add('colab-df-quickchart-complete');\n",
              "        }\n",
              "        (() => {\n",
              "          let quickchartButtonEl =\n",
              "            document.querySelector('#df-dc3a12a2-a201-4595-a4e8-9389917ab64e button');\n",
              "          quickchartButtonEl.style.display =\n",
              "            google.colab.kernel.accessAllowed ? 'block' : 'none';\n",
              "        })();\n",
              "      </script>\n",
              "    </div>\n",
              "\n",
              "    </div>\n",
              "  </div>\n"
            ],
            "application/vnd.google.colaboratory.intrinsic+json": {
              "type": "dataframe",
              "repr_error": "0"
            }
          },
          "metadata": {},
          "execution_count": 156
        }
      ]
    },
    {
      "cell_type": "markdown",
      "source": [
        "#Historico"
      ],
      "metadata": {
        "id": "OYf917FLhpmH"
      }
    },
    {
      "cell_type": "markdown",
      "source": [
        "Los reportes estan en tabla de contigencia, por lo que solo se procede a realizar el proceso de seleccion de columnas para su carga\n",
        "1.   Citerios de venta: sin valores faltantes\n",
        "2.   AB: sin valores faltantes (yo actualizo el catalogo de productos previamente)\n",
        "3.   **Locales:** revisar qué tipo de locales me hacen falta en mi catalogo general\n",
        "\n",
        "\n"
      ],
      "metadata": {
        "id": "4WG_-hO4lGdq"
      }
    },
    {
      "cell_type": "code",
      "source": [
        "# TS & PC: casa vargas, coma, duero, la soledad, mini abastos,\n",
        "df=pd.read_excel(\"/content/drive/MyDrive/Sell Out/Dbyte_cubos/Softys Sell Out_Mensual2.xlsx\",\n",
        "                 engine=\"openpyxl\")\n",
        "\n",
        "# quitar espacios en blanco\n",
        "df = df.replace(r'\\s+', ' ', regex=True)\n",
        "\n",
        "# eliminar las primeras 7 filas (espacios de filtros y encabezados)\n",
        "df = df.iloc[8:].copy()\n",
        "\n",
        "# rename columns\n",
        "df.columns.values[0] = \"fecha\"\n",
        "df.columns.values[1] = \"Cadena\"\n",
        "df.columns.values[2] = \"ID_Local\"\n",
        "df.columns.values[3] = \"nom_tienda\"\n",
        "df.columns.values[4] = \"item_cadena\"\n",
        "df.columns.values[5] = \"sku_softys\"\n",
        "df.columns.values[6] = \"material\"\n",
        "df.columns.values[7] = \"Cjas_Blts\"\n",
        "df.columns.values[8] = \"Inv_cjas\"\n",
        "df.columns.values[9] = \"importe_c/iva\"\n",
        "\n",
        "\n",
        "# quitar los zeros de izquierda en identificadores de tienda\n",
        "df['ID_Local'] = df['ID_Local'].astype(str).str.lstrip('0')\n",
        "\n",
        "\n",
        "# quitar ultima columna\n",
        "df.drop(df.columns[-1], axis=1, inplace=True)\n",
        "\n",
        "df.tail(5)"
      ],
      "metadata": {
        "id": "2iIWPh173NV6",
        "colab": {
          "base_uri": "https://localhost:8080/",
          "height": 467
        },
        "outputId": "079ddcb8-3b28-46b3-9863-05fab00b1e41"
      },
      "execution_count": 157,
      "outputs": [
        {
          "output_type": "execute_result",
          "data": {
            "text/plain": [
              "        fecha         Cadena ID_Local   nom_tienda item_cadena  sku_softys  \\\n",
              "28558  12 Dic  Vigil Toscano   317139  DIVITSA III    PAPE0009  AB15090074   \n",
              "28559  12 Dic  Vigil Toscano   317139  DIVITSA III    PAPE0042  AB14335678   \n",
              "28560  12 Dic  Vigil Toscano   317139  DIVITSA III    PAPE0043  AB12335445   \n",
              "28561  12 Dic  Vigil Toscano   317139  DIVITSA III    PAPE0054  AB12332659   \n",
              "28562  12 Dic  Vigil Toscano   317139  DIVITSA III    PAPE0060  AB10331560   \n",
              "\n",
              "                                      material Cjas_Blts Inv_cjas  \\\n",
              "28558   Papel Premier Megaroll 400 Hj 4 Rollos        64       52   \n",
              "28559        Papel Elite Color 287 Hj 4 Rollos         7        5   \n",
              "28560       Papel Elite Color 200 Hj 32 Rollos        13     12.5   \n",
              "28561  Papel Premier Rendiplus 500 Hj 6 Rollos        13   17.167   \n",
              "28562            Papel Premier 500 Hj 4 Rollos         2        3   \n",
              "\n",
              "      importe_c/iva  \n",
              "28558      16728.45  \n",
              "28559        1268.1  \n",
              "28560       3355.17  \n",
              "28561       3667.24  \n",
              "28562        620.69  "
            ],
            "text/html": [
              "\n",
              "  <div id=\"df-946744f5-b9a1-4fbd-96d9-3893fedd9603\" class=\"colab-df-container\">\n",
              "    <div>\n",
              "<style scoped>\n",
              "    .dataframe tbody tr th:only-of-type {\n",
              "        vertical-align: middle;\n",
              "    }\n",
              "\n",
              "    .dataframe tbody tr th {\n",
              "        vertical-align: top;\n",
              "    }\n",
              "\n",
              "    .dataframe thead th {\n",
              "        text-align: right;\n",
              "    }\n",
              "</style>\n",
              "<table border=\"1\" class=\"dataframe\">\n",
              "  <thead>\n",
              "    <tr style=\"text-align: right;\">\n",
              "      <th></th>\n",
              "      <th>fecha</th>\n",
              "      <th>Cadena</th>\n",
              "      <th>ID_Local</th>\n",
              "      <th>nom_tienda</th>\n",
              "      <th>item_cadena</th>\n",
              "      <th>sku_softys</th>\n",
              "      <th>material</th>\n",
              "      <th>Cjas_Blts</th>\n",
              "      <th>Inv_cjas</th>\n",
              "      <th>importe_c/iva</th>\n",
              "    </tr>\n",
              "  </thead>\n",
              "  <tbody>\n",
              "    <tr>\n",
              "      <th>28558</th>\n",
              "      <td>12 Dic</td>\n",
              "      <td>Vigil Toscano</td>\n",
              "      <td>317139</td>\n",
              "      <td>DIVITSA III</td>\n",
              "      <td>PAPE0009</td>\n",
              "      <td>AB15090074</td>\n",
              "      <td>Papel Premier Megaroll 400 Hj 4 Rollos</td>\n",
              "      <td>64</td>\n",
              "      <td>52</td>\n",
              "      <td>16728.45</td>\n",
              "    </tr>\n",
              "    <tr>\n",
              "      <th>28559</th>\n",
              "      <td>12 Dic</td>\n",
              "      <td>Vigil Toscano</td>\n",
              "      <td>317139</td>\n",
              "      <td>DIVITSA III</td>\n",
              "      <td>PAPE0042</td>\n",
              "      <td>AB14335678</td>\n",
              "      <td>Papel Elite Color 287 Hj 4 Rollos</td>\n",
              "      <td>7</td>\n",
              "      <td>5</td>\n",
              "      <td>1268.1</td>\n",
              "    </tr>\n",
              "    <tr>\n",
              "      <th>28560</th>\n",
              "      <td>12 Dic</td>\n",
              "      <td>Vigil Toscano</td>\n",
              "      <td>317139</td>\n",
              "      <td>DIVITSA III</td>\n",
              "      <td>PAPE0043</td>\n",
              "      <td>AB12335445</td>\n",
              "      <td>Papel Elite Color 200 Hj 32 Rollos</td>\n",
              "      <td>13</td>\n",
              "      <td>12.5</td>\n",
              "      <td>3355.17</td>\n",
              "    </tr>\n",
              "    <tr>\n",
              "      <th>28561</th>\n",
              "      <td>12 Dic</td>\n",
              "      <td>Vigil Toscano</td>\n",
              "      <td>317139</td>\n",
              "      <td>DIVITSA III</td>\n",
              "      <td>PAPE0054</td>\n",
              "      <td>AB12332659</td>\n",
              "      <td>Papel Premier Rendiplus 500 Hj 6 Rollos</td>\n",
              "      <td>13</td>\n",
              "      <td>17.167</td>\n",
              "      <td>3667.24</td>\n",
              "    </tr>\n",
              "    <tr>\n",
              "      <th>28562</th>\n",
              "      <td>12 Dic</td>\n",
              "      <td>Vigil Toscano</td>\n",
              "      <td>317139</td>\n",
              "      <td>DIVITSA III</td>\n",
              "      <td>PAPE0060</td>\n",
              "      <td>AB10331560</td>\n",
              "      <td>Papel Premier 500 Hj 4 Rollos</td>\n",
              "      <td>2</td>\n",
              "      <td>3</td>\n",
              "      <td>620.69</td>\n",
              "    </tr>\n",
              "  </tbody>\n",
              "</table>\n",
              "</div>\n",
              "    <div class=\"colab-df-buttons\">\n",
              "\n",
              "  <div class=\"colab-df-container\">\n",
              "    <button class=\"colab-df-convert\" onclick=\"convertToInteractive('df-946744f5-b9a1-4fbd-96d9-3893fedd9603')\"\n",
              "            title=\"Convert this dataframe to an interactive table.\"\n",
              "            style=\"display:none;\">\n",
              "\n",
              "  <svg xmlns=\"http://www.w3.org/2000/svg\" height=\"24px\" viewBox=\"0 -960 960 960\">\n",
              "    <path d=\"M120-120v-720h720v720H120Zm60-500h600v-160H180v160Zm220 220h160v-160H400v160Zm0 220h160v-160H400v160ZM180-400h160v-160H180v160Zm440 0h160v-160H620v160ZM180-180h160v-160H180v160Zm440 0h160v-160H620v160Z\"/>\n",
              "  </svg>\n",
              "    </button>\n",
              "\n",
              "  <style>\n",
              "    .colab-df-container {\n",
              "      display:flex;\n",
              "      gap: 12px;\n",
              "    }\n",
              "\n",
              "    .colab-df-convert {\n",
              "      background-color: #E8F0FE;\n",
              "      border: none;\n",
              "      border-radius: 50%;\n",
              "      cursor: pointer;\n",
              "      display: none;\n",
              "      fill: #1967D2;\n",
              "      height: 32px;\n",
              "      padding: 0 0 0 0;\n",
              "      width: 32px;\n",
              "    }\n",
              "\n",
              "    .colab-df-convert:hover {\n",
              "      background-color: #E2EBFA;\n",
              "      box-shadow: 0px 1px 2px rgba(60, 64, 67, 0.3), 0px 1px 3px 1px rgba(60, 64, 67, 0.15);\n",
              "      fill: #174EA6;\n",
              "    }\n",
              "\n",
              "    .colab-df-buttons div {\n",
              "      margin-bottom: 4px;\n",
              "    }\n",
              "\n",
              "    [theme=dark] .colab-df-convert {\n",
              "      background-color: #3B4455;\n",
              "      fill: #D2E3FC;\n",
              "    }\n",
              "\n",
              "    [theme=dark] .colab-df-convert:hover {\n",
              "      background-color: #434B5C;\n",
              "      box-shadow: 0px 1px 3px 1px rgba(0, 0, 0, 0.15);\n",
              "      filter: drop-shadow(0px 1px 2px rgba(0, 0, 0, 0.3));\n",
              "      fill: #FFFFFF;\n",
              "    }\n",
              "  </style>\n",
              "\n",
              "    <script>\n",
              "      const buttonEl =\n",
              "        document.querySelector('#df-946744f5-b9a1-4fbd-96d9-3893fedd9603 button.colab-df-convert');\n",
              "      buttonEl.style.display =\n",
              "        google.colab.kernel.accessAllowed ? 'block' : 'none';\n",
              "\n",
              "      async function convertToInteractive(key) {\n",
              "        const element = document.querySelector('#df-946744f5-b9a1-4fbd-96d9-3893fedd9603');\n",
              "        const dataTable =\n",
              "          await google.colab.kernel.invokeFunction('convertToInteractive',\n",
              "                                                    [key], {});\n",
              "        if (!dataTable) return;\n",
              "\n",
              "        const docLinkHtml = 'Like what you see? Visit the ' +\n",
              "          '<a target=\"_blank\" href=https://colab.research.google.com/notebooks/data_table.ipynb>data table notebook</a>'\n",
              "          + ' to learn more about interactive tables.';\n",
              "        element.innerHTML = '';\n",
              "        dataTable['output_type'] = 'display_data';\n",
              "        await google.colab.output.renderOutput(dataTable, element);\n",
              "        const docLink = document.createElement('div');\n",
              "        docLink.innerHTML = docLinkHtml;\n",
              "        element.appendChild(docLink);\n",
              "      }\n",
              "    </script>\n",
              "  </div>\n",
              "\n",
              "\n",
              "    <div id=\"df-0ccfd3ea-77dd-4853-86e7-eda97e4e48a4\">\n",
              "      <button class=\"colab-df-quickchart\" onclick=\"quickchart('df-0ccfd3ea-77dd-4853-86e7-eda97e4e48a4')\"\n",
              "                title=\"Suggest charts\"\n",
              "                style=\"display:none;\">\n",
              "\n",
              "<svg xmlns=\"http://www.w3.org/2000/svg\" height=\"24px\"viewBox=\"0 0 24 24\"\n",
              "     width=\"24px\">\n",
              "    <g>\n",
              "        <path d=\"M19 3H5c-1.1 0-2 .9-2 2v14c0 1.1.9 2 2 2h14c1.1 0 2-.9 2-2V5c0-1.1-.9-2-2-2zM9 17H7v-7h2v7zm4 0h-2V7h2v10zm4 0h-2v-4h2v4z\"/>\n",
              "    </g>\n",
              "</svg>\n",
              "      </button>\n",
              "\n",
              "<style>\n",
              "  .colab-df-quickchart {\n",
              "      --bg-color: #E8F0FE;\n",
              "      --fill-color: #1967D2;\n",
              "      --hover-bg-color: #E2EBFA;\n",
              "      --hover-fill-color: #174EA6;\n",
              "      --disabled-fill-color: #AAA;\n",
              "      --disabled-bg-color: #DDD;\n",
              "  }\n",
              "\n",
              "  [theme=dark] .colab-df-quickchart {\n",
              "      --bg-color: #3B4455;\n",
              "      --fill-color: #D2E3FC;\n",
              "      --hover-bg-color: #434B5C;\n",
              "      --hover-fill-color: #FFFFFF;\n",
              "      --disabled-bg-color: #3B4455;\n",
              "      --disabled-fill-color: #666;\n",
              "  }\n",
              "\n",
              "  .colab-df-quickchart {\n",
              "    background-color: var(--bg-color);\n",
              "    border: none;\n",
              "    border-radius: 50%;\n",
              "    cursor: pointer;\n",
              "    display: none;\n",
              "    fill: var(--fill-color);\n",
              "    height: 32px;\n",
              "    padding: 0;\n",
              "    width: 32px;\n",
              "  }\n",
              "\n",
              "  .colab-df-quickchart:hover {\n",
              "    background-color: var(--hover-bg-color);\n",
              "    box-shadow: 0 1px 2px rgba(60, 64, 67, 0.3), 0 1px 3px 1px rgba(60, 64, 67, 0.15);\n",
              "    fill: var(--button-hover-fill-color);\n",
              "  }\n",
              "\n",
              "  .colab-df-quickchart-complete:disabled,\n",
              "  .colab-df-quickchart-complete:disabled:hover {\n",
              "    background-color: var(--disabled-bg-color);\n",
              "    fill: var(--disabled-fill-color);\n",
              "    box-shadow: none;\n",
              "  }\n",
              "\n",
              "  .colab-df-spinner {\n",
              "    border: 2px solid var(--fill-color);\n",
              "    border-color: transparent;\n",
              "    border-bottom-color: var(--fill-color);\n",
              "    animation:\n",
              "      spin 1s steps(1) infinite;\n",
              "  }\n",
              "\n",
              "  @keyframes spin {\n",
              "    0% {\n",
              "      border-color: transparent;\n",
              "      border-bottom-color: var(--fill-color);\n",
              "      border-left-color: var(--fill-color);\n",
              "    }\n",
              "    20% {\n",
              "      border-color: transparent;\n",
              "      border-left-color: var(--fill-color);\n",
              "      border-top-color: var(--fill-color);\n",
              "    }\n",
              "    30% {\n",
              "      border-color: transparent;\n",
              "      border-left-color: var(--fill-color);\n",
              "      border-top-color: var(--fill-color);\n",
              "      border-right-color: var(--fill-color);\n",
              "    }\n",
              "    40% {\n",
              "      border-color: transparent;\n",
              "      border-right-color: var(--fill-color);\n",
              "      border-top-color: var(--fill-color);\n",
              "    }\n",
              "    60% {\n",
              "      border-color: transparent;\n",
              "      border-right-color: var(--fill-color);\n",
              "    }\n",
              "    80% {\n",
              "      border-color: transparent;\n",
              "      border-right-color: var(--fill-color);\n",
              "      border-bottom-color: var(--fill-color);\n",
              "    }\n",
              "    90% {\n",
              "      border-color: transparent;\n",
              "      border-bottom-color: var(--fill-color);\n",
              "    }\n",
              "  }\n",
              "</style>\n",
              "\n",
              "      <script>\n",
              "        async function quickchart(key) {\n",
              "          const quickchartButtonEl =\n",
              "            document.querySelector('#' + key + ' button');\n",
              "          quickchartButtonEl.disabled = true;  // To prevent multiple clicks.\n",
              "          quickchartButtonEl.classList.add('colab-df-spinner');\n",
              "          try {\n",
              "            const charts = await google.colab.kernel.invokeFunction(\n",
              "                'suggestCharts', [key], {});\n",
              "          } catch (error) {\n",
              "            console.error('Error during call to suggestCharts:', error);\n",
              "          }\n",
              "          quickchartButtonEl.classList.remove('colab-df-spinner');\n",
              "          quickchartButtonEl.classList.add('colab-df-quickchart-complete');\n",
              "        }\n",
              "        (() => {\n",
              "          let quickchartButtonEl =\n",
              "            document.querySelector('#df-0ccfd3ea-77dd-4853-86e7-eda97e4e48a4 button');\n",
              "          quickchartButtonEl.style.display =\n",
              "            google.colab.kernel.accessAllowed ? 'block' : 'none';\n",
              "        })();\n",
              "      </script>\n",
              "    </div>\n",
              "\n",
              "    </div>\n",
              "  </div>\n"
            ],
            "application/vnd.google.colaboratory.intrinsic+json": {
              "type": "dataframe",
              "repr_error": "0"
            }
          },
          "metadata": {},
          "execution_count": 157
        }
      ]
    },
    {
      "cell_type": "markdown",
      "source": [
        "# Arreglos"
      ],
      "metadata": {
        "id": "T8udAi30mrO8"
      }
    },
    {
      "cell_type": "markdown",
      "source": [
        "**Cambiar tipo de valores**"
      ],
      "metadata": {
        "id": "7Y76bPlvXsjZ"
      }
    },
    {
      "cell_type": "code",
      "source": [
        "so = df.copy()\n",
        "so.info()"
      ],
      "metadata": {
        "id": "w988-7swuwPF",
        "colab": {
          "base_uri": "https://localhost:8080/"
        },
        "outputId": "49cd940c-f0f2-45c7-fa1a-9dc0cab98d6d"
      },
      "execution_count": 158,
      "outputs": [
        {
          "output_type": "stream",
          "name": "stdout",
          "text": [
            "<class 'pandas.core.frame.DataFrame'>\n",
            "RangeIndex: 28555 entries, 8 to 28562\n",
            "Data columns (total 10 columns):\n",
            " #   Column         Non-Null Count  Dtype \n",
            "---  ------         --------------  ----- \n",
            " 0   fecha          28555 non-null  object\n",
            " 1   Cadena         28555 non-null  object\n",
            " 2   ID_Local       28555 non-null  object\n",
            " 3   nom_tienda     28555 non-null  object\n",
            " 4   item_cadena    28555 non-null  object\n",
            " 5   sku_softys     28555 non-null  object\n",
            " 6   material       28453 non-null  object\n",
            " 7   Cjas_Blts      28555 non-null  object\n",
            " 8   Inv_cjas       28555 non-null  object\n",
            " 9   importe_c/iva  28555 non-null  object\n",
            "dtypes: object(10)\n",
            "memory usage: 2.2+ MB\n"
          ]
        }
      ]
    },
    {
      "cell_type": "code",
      "source": [
        "# identificadores\n",
        "so['ID_Local']=so['ID_Local'].astype(object)\n",
        "\n",
        "so['sku_softys']=so['sku_softys'].astype(object)\n",
        "\n",
        "# cuando es .CSV, es necesario quitar caracteres especiales antes de declarar el valor en decimales\n",
        "so['Cjas_Blts'] = so['Cjas_Blts'].astype(str)\n",
        "#so['Cjas_Blts'] = so['Cjas_Blts'].str.replace(' - ', '0.0', regex=False)\n",
        "#so['Cjas_Blts'] = so['Cjas_Blts'].str.replace(',', '', regex=False)\n",
        "so['Cjas_Blts']=so['Cjas_Blts'].astype(np.float64)\n",
        "\n",
        "so['Inv_cjas'] = so['Inv_cjas'].astype(str)\n",
        "#so['Inv_cjas'] = so['Inv_cjas'].str.replace(' - ', '0.0', regex=False)\n",
        "#so['Inv_cjas'] = so['Inv_cjas'].str.replace(',', '', regex=False)\n",
        "so[\"Inv_cjas\"]=so['Inv_cjas'].astype(np.float64)\n",
        "\n",
        "so['importe_c/iva'] = so['importe_c/iva'].astype(str)\n",
        "#so['importe_c/iva'] = so['importe_c/iva'].str.replace(' - ', '0.0', regex=False)\n",
        "#so['importe_c/iva'] = so['importe_c/iva'].str.replace(',', '', regex=False)\n",
        "so['importe_c/iva']=so['importe_c/iva'].astype(np.float64)"
      ],
      "metadata": {
        "id": "FWZ7mlzfmq1Y",
        "collapsed": true
      },
      "execution_count": 159,
      "outputs": []
    },
    {
      "cell_type": "markdown",
      "source": [
        "**Fecha**"
      ],
      "metadata": {
        "id": "jyC-n8pg5xcU"
      }
    },
    {
      "cell_type": "markdown",
      "source": [
        "1. Fecha a nivel semanal con formato calendario"
      ],
      "metadata": {
        "id": "bybXennBuDj7"
      }
    },
    {
      "cell_type": "markdown",
      "source": [
        "formato de la columna fecha cuando se encuentra en su forma estandar (dada por default)"
      ],
      "metadata": {
        "id": "1t7SOoIfW2Nc"
      }
    },
    {
      "cell_type": "code",
      "source": [
        "so['fecha'] = pd.to_datetime(so['fecha'], format='mixed', dayfirst=True)"
      ],
      "metadata": {
        "id": "l0l53asZtqBx"
      },
      "execution_count": 41,
      "outputs": []
    },
    {
      "cell_type": "markdown",
      "source": [
        "Agrupar registros diaios conforme al ultimo dia de semana (ISO), para asi obtener el corte de venta a nivel semana"
      ],
      "metadata": {
        "id": "Mnvd6xuRWpAn"
      }
    },
    {
      "cell_type": "code",
      "source": [
        "# tabla calendario\n",
        "#calendario = pd.read_excel(\"/content/drive/Shareddrives/Catalogos_SO/Calender_Softy_SO.xlsx\",\n",
        "#                 sheet_name=\"Calendario\",\n",
        "#                 engine=\"openpyxl\")\n",
        "\n",
        "#calendario= calendario.iloc[:,[2,6]]\n",
        "\n",
        "#calendario.columns.values[0]= \"fecha\"\n",
        "#calendario.columns.values[1]= \"fecha BI\""
      ],
      "metadata": {
        "id": "1vzmQq0i6aeF"
      },
      "execution_count": 42,
      "outputs": []
    },
    {
      "cell_type": "code",
      "source": [
        "# merge al ultimo dia de semana\n",
        "#so = so.merge(calendario, left_on=\"fecha\", right_on=\"fecha\", how=\"left\")\n",
        "#so.head(2)"
      ],
      "metadata": {
        "id": "fvDym1gv620-"
      },
      "execution_count": 43,
      "outputs": []
    },
    {
      "cell_type": "code",
      "source": [
        "#rango de fechas\n",
        "#start_date = datetime.strptime('04/28/2025', '%m/%d/%Y')\n",
        "#end_date = datetime.strptime('05/04/2025', '%m/%d/%Y')\n",
        "\n",
        "#filtrar el rango de fechas dadas\n",
        "#so = so[(so['fecha'] >= start_date) & (so['fecha'] <=end_date)]"
      ],
      "metadata": {
        "id": "35rdwF_yWoYg"
      },
      "execution_count": 44,
      "outputs": []
    },
    {
      "cell_type": "markdown",
      "source": [
        "2. Fecha a nivel mes, que necesita ser trasnformado a formato calendario"
      ],
      "metadata": {
        "id": "py4RKk5uuHQ2"
      }
    },
    {
      "cell_type": "code",
      "source": [
        "so['fecha'].unique()"
      ],
      "metadata": {
        "colab": {
          "base_uri": "https://localhost:8080/"
        },
        "id": "mBs-htwCuMSb",
        "outputId": "1c1a4d0c-31cc-4a37-9585-b1c80628d40b"
      },
      "execution_count": 160,
      "outputs": [
        {
          "output_type": "execute_result",
          "data": {
            "text/plain": [
              "array(['12 Dic'], dtype=object)"
            ]
          },
          "metadata": {},
          "execution_count": 160
        }
      ]
    },
    {
      "cell_type": "code",
      "source": [
        "# caracter de fecha a fecha cardinal\n",
        "so['fecha'] = so['fecha'].replace({\n",
        "    '01 Ene': '1/1/2025',\n",
        "    '02 Feb': '1/2/2025',\n",
        "    '03 Mar': '1/3/2025',\n",
        "    '04 Abr': '1/4/2025',\n",
        "    '05 May': '1/5/2025',\n",
        "    '06 Jun': '1/6/2025'\n",
        "})\n",
        "\n",
        "# formato de la columna fecha cuando se encuentra en su forma estandar (dada por default)\n",
        "so['fecha'] = pd.to_datetime(so['fecha'], format='mixed', dayfirst=True)"
      ],
      "metadata": {
        "id": "Gu_aoX6UxuVK"
      },
      "execution_count": 88,
      "outputs": []
    },
    {
      "cell_type": "markdown",
      "source": [
        "**Homologar nombre de cadenas**"
      ],
      "metadata": {
        "id": "BClgkcfN5cUP"
      }
    },
    {
      "cell_type": "code",
      "source": [
        "so['Cadena'].unique()"
      ],
      "metadata": {
        "id": "7QkW3u8vf98n",
        "colab": {
          "base_uri": "https://localhost:8080/"
        },
        "outputId": "5a2cd380-da73-4ad4-c090-51bffadacbf7"
      },
      "execution_count": 161,
      "outputs": [
        {
          "output_type": "execute_result",
          "data": {
            "text/plain": [
              "array(['Abarrotera Del Norte', 'Abarrotera Duero', 'Abarrotes Soledad',\n",
              "       'Casa Vargas', 'Coma', 'Consumo Z', 'Decasa', 'Mini Abastos',\n",
              "       'Parral', 'Vigil Toscano'], dtype=object)"
            ]
          },
          "metadata": {},
          "execution_count": 161
        }
      ]
    },
    {
      "source": [
        "# rename varios objetos en la columna\n",
        "so['Cadena'] = so['Cadena'].replace({\n",
        "    \"Abarrotes Rivera\":'Gran Bodega',\n",
        "    \"Consumo Z\":'PCZ',\n",
        "    'Mas Bodega':'Más Bodega',\n",
        "    \"Parral\":'Abastecedora Parral',\n",
        "    \"Abarrotera Duero\": \"Duero\",\n",
        "    \"Sanchez\": \"Grupo Sanchez\",\n",
        "    \"Decasa\": \"DECASA\",\n",
        "    \"Abarrotera Del Norte\": \"Promotora Abarrotera del Norte\",\n",
        "    \"Coma\": \"COMA\",\n",
        "    \"Abarrotes Soledad\": \"La Soledad\",\n",
        "    \"San Francisco de Asis\": \"Super Aki\"\n",
        "    })"
      ],
      "cell_type": "code",
      "metadata": {
        "id": "kzjM7cA5iDie"
      },
      "execution_count": 162,
      "outputs": []
    },
    {
      "cell_type": "code",
      "source": [
        "so[\"sku_softys\"].unique()"
      ],
      "metadata": {
        "id": "UaPHVRTv5RWm",
        "colab": {
          "base_uri": "https://localhost:8080/"
        },
        "collapsed": true,
        "outputId": "0ef3bd6b-55cb-4890-cba6-8483483ca2e1"
      },
      "execution_count": 163,
      "outputs": [
        {
          "output_type": "execute_result",
          "data": {
            "text/plain": [
              "array(['AB11335223', 'AB10332659', 'AB15090074', 'AB17335636',\n",
              "       'AB10332987', 'AB14101664', 'AB16000852', 'AB49109121',\n",
              "       'AB29109138', 'AB49109145', 'AB49333892', 'AB49333885',\n",
              "       'AB49333878', 'AB53333861', 'AB14335678', 'AB15335117',\n",
              "       'AB1138699', 'AB49334615', 'AB49334608', 'AB49334592',\n",
              "       'AB10331560', 'AB20332512', 'AB12332659', 'AB11332826',\n",
              "       'AB10332861', 'AB18335636', 'AB21109114', 'AB19330471',\n",
              "       'AB14101668', 'AB11335612', 'AB41102337', 'AB41330075',\n",
              "       'AB41102320', 'AB23102313', 'AB12101521', 'AB12335469',\n",
              "       'AB12336951', 'AB33330013', 'AB49339382', 'AB10332635',\n",
              "       'AB15101453', 'AB11331478', 'AB11331461', 'AB10331454',\n",
              "       'AB40090849', 'AB40102283', 'AB41090825', 'AB13335124',\n",
              "       'AB11332666', 'AB16335100', 'AB13000102', 'AB70332925',\n",
              "       'AB41102207', 'AB10338118', 'AB30332239', 'AB70332918',\n",
              "       'AB13101668', 'AB43090012', 'AB40333373', 'AB20080710',\n",
              "       'AB20102191', 'AB20080727', 'AB40333366', 'AB28109046',\n",
              "       'AB28109022', 'AB40333359', 'AB24109015', 'AB28109039',\n",
              "       'AB70334844', 'AB10337906', 'AB22090003', 'AB40102450',\n",
              "       'AB20080741', 'AB16090074', 'AB13101664', 'AB33330020',\n",
              "       'AB33330037', 'AB11332086', 'AB19330563', 'AB25331242',\n",
              "       'AB20334134', 'AB17335100', 'AB12335124', 'AB19335445',\n",
              "       'AB13335678', 'AB13700228', 'AB15101682', 'AB46102016',\n",
              "       'AB20332499', 'AB10332826', 'AB21333922', 'AB20333939',\n",
              "       'AB23090012', 'AB10332666', 'AB22090012', 'AB10000852',\n",
              "       'AB13101521', 'AB20102009', 'AB24102016', '13117029253',\n",
              "       '13117029895', '13117015997', '13117630053', '13117016222',\n",
              "       '13117054149', '13117012682', '13117019926', '13117019971',\n",
              "       '13117630046', '13117630039', '13117630060', '13117010503',\n",
              "       '13117010510', '13117001006', '13117001013', '13117028799',\n",
              "       '13117012194', '13117011173', '13117011180', '13117011753',\n",
              "       '13117012354', '13117012262', '13117031157', '13117031164',\n",
              "       '13117016338', '13117040920', '13117000696', '13117000702',\n",
              "       '13117001341', '13117050035', '13117023138', '13117029178',\n",
              "       '13117000719', '13117030754', '13117030761', '13117018219',\n",
              "       '13117029284', '13117022858', '13117011531', '13117028669',\n",
              "       '13117028676', '13117000894', '13117023121', '13117000689',\n",
              "       '13117040814', '13117031539', '13117031522', '13117022643',\n",
              "       '13117031812', '13117031836', '13117031843', '13117029789',\n",
              "       '13117032512', '13117014495', '13117011197', '13117017830',\n",
              "       '13117017823', '13117018035', '13117023404', '13117029383',\n",
              "       '13117050509', '13117017854', '13117017847', '13117023008',\n",
              "       '13117016444', '13117016451', '13117028805', '13117028768',\n",
              "       '13117028775', '13117028782', '13117031805', '13117031829',\n",
              "       '13117031850', '13117029000', '13117022650', '13117022667',\n",
              "       '13117031355', '13117001662', 'AB10330471', 'AB49109138',\n",
              "       'AB12335445', 'AB11700006', 'AB17101675', 'AB11332468',\n",
              "       'AB12338484', 'AB13700778', 'AB13330549', 'AB20332482',\n",
              "       'AB11332475', 'AB20332574', 'AB20332505', 'AB11332680',\n",
              "       'AB41102313', 'AB46102009', '13117020557', '13117020571',\n",
              "       '13117030006', '13117050103', '13117020564', '13117010879',\n",
              "       '13117053142', '13117028812', '13117023299', '13117023305',\n",
              "       '13117011746', '13117023312', '13117016260', '13117016314',\n",
              "       '13117013641', '13117031607'], dtype=object)"
            ]
          },
          "metadata": {},
          "execution_count": 163
        }
      ]
    },
    {
      "cell_type": "markdown",
      "source": [
        "Crear una key de mi dataset"
      ],
      "metadata": {
        "id": "WWmqNPQc6Mrn"
      }
    },
    {
      "cell_type": "code",
      "source": [
        "so['keytda'] =so['Cadena'].astype(str) + so['ID_Local'].astype(str)"
      ],
      "metadata": {
        "id": "IpG_7ANUwU0t"
      },
      "execution_count": 164,
      "outputs": []
    },
    {
      "cell_type": "markdown",
      "source": [
        "Espacios y negativos: valores con 0"
      ],
      "metadata": {
        "id": "VdVT7CiJCGPI"
      }
    },
    {
      "cell_type": "code",
      "source": [
        "# iterar sobre toda las columnas numericas\n",
        "cols = so.select_dtypes(include='number').columns\n",
        "so[cols] = so[cols].mask(so[cols] < 0)\n",
        "\n",
        "# rellenar con 0 los espacios en blanco en todo el dataset\n",
        "so = so.fillna(0)\n",
        "\n",
        "# conteo de espacios en blanco\n",
        "total_nan_count = so.isna().sum().sum()\n",
        "print(\"Total NaN count in DataFrame:\", total_nan_count)"
      ],
      "metadata": {
        "id": "kgfC4BHSlyU4",
        "colab": {
          "base_uri": "https://localhost:8080/"
        },
        "outputId": "a9d2c9ea-7b11-488c-fa3f-0b1c0e613ee6"
      },
      "execution_count": 165,
      "outputs": [
        {
          "output_type": "stream",
          "name": "stdout",
          "text": [
            "Total NaN count in DataFrame: 0\n"
          ]
        }
      ]
    },
    {
      "cell_type": "code",
      "source": [
        "# seleccionar solo la cadena faltante\n",
        "\n",
        "so = so[so['Cadena']== \"Abastecedora Parral\"]"
      ],
      "metadata": {
        "id": "6unUwXLnNKKa"
      },
      "execution_count": 166,
      "outputs": []
    },
    {
      "cell_type": "markdown",
      "source": [
        "Valores vinculantes: pesos y cajas (Pendiente, porque no me sale, y ya no puedo con esto)"
      ],
      "metadata": {
        "id": "GjS6X5puY4yK"
      }
    },
    {
      "cell_type": "markdown",
      "source": [
        "# Calidad de los Datos"
      ],
      "metadata": {
        "id": "V-6-hl73DzvD"
      }
    },
    {
      "cell_type": "markdown",
      "source": [
        "Realizar una variable que permita identificar la anomalias de los datos"
      ],
      "metadata": {
        "id": "wGQi1RckKJwI"
      }
    },
    {
      "cell_type": "code",
      "source": [
        "so.head(2)"
      ],
      "metadata": {
        "id": "JAWLIkHd67jM",
        "colab": {
          "base_uri": "https://localhost:8080/"
        },
        "outputId": "de4ebef0-6d5c-469f-d9e4-3f295c9cd760"
      },
      "execution_count": null,
      "outputs": [
        {
          "output_type": "execute_result",
          "data": {
            "text/plain": [
              "       fecha                          Cadena ID_Local nom_tienda  \\\n",
              "8 2025-04-01  Promotora Abarrotera del Norte   317275        H02   \n",
              "9 2025-04-01  Promotora Abarrotera del Norte   317275        H02   \n",
              "\n",
              "          item_cadena  sku_softys                              material  \\\n",
              "8  ADN-00000000000002  AB12332659  Ph Premier Rendiplus 6R De 500Hd 6/6   \n",
              "9  ADN-00000000000003  AB40006741          Ph Premier 400 Hd 34M 12/4 B   \n",
              "\n",
              "   Cjas_Blts  Inv_cjas  importe_c/iva                                keytda  \n",
              "8       42.0       0.0            0.0  Promotora Abarrotera del Norte317275  \n",
              "9       10.0       0.0            0.0  Promotora Abarrotera del Norte317275  "
            ],
            "text/html": [
              "\n",
              "  <div id=\"df-eb07289d-4c85-401d-911c-ef1619c0e7c1\" class=\"colab-df-container\">\n",
              "    <div>\n",
              "<style scoped>\n",
              "    .dataframe tbody tr th:only-of-type {\n",
              "        vertical-align: middle;\n",
              "    }\n",
              "\n",
              "    .dataframe tbody tr th {\n",
              "        vertical-align: top;\n",
              "    }\n",
              "\n",
              "    .dataframe thead th {\n",
              "        text-align: right;\n",
              "    }\n",
              "</style>\n",
              "<table border=\"1\" class=\"dataframe\">\n",
              "  <thead>\n",
              "    <tr style=\"text-align: right;\">\n",
              "      <th></th>\n",
              "      <th>fecha</th>\n",
              "      <th>Cadena</th>\n",
              "      <th>ID_Local</th>\n",
              "      <th>nom_tienda</th>\n",
              "      <th>item_cadena</th>\n",
              "      <th>sku_softys</th>\n",
              "      <th>material</th>\n",
              "      <th>Cjas_Blts</th>\n",
              "      <th>Inv_cjas</th>\n",
              "      <th>importe_c/iva</th>\n",
              "      <th>keytda</th>\n",
              "    </tr>\n",
              "  </thead>\n",
              "  <tbody>\n",
              "    <tr>\n",
              "      <th>8</th>\n",
              "      <td>2025-04-01</td>\n",
              "      <td>Promotora Abarrotera del Norte</td>\n",
              "      <td>317275</td>\n",
              "      <td>H02</td>\n",
              "      <td>ADN-00000000000002</td>\n",
              "      <td>AB12332659</td>\n",
              "      <td>Ph Premier Rendiplus 6R De 500Hd 6/6</td>\n",
              "      <td>42.0</td>\n",
              "      <td>0.0</td>\n",
              "      <td>0.0</td>\n",
              "      <td>Promotora Abarrotera del Norte317275</td>\n",
              "    </tr>\n",
              "    <tr>\n",
              "      <th>9</th>\n",
              "      <td>2025-04-01</td>\n",
              "      <td>Promotora Abarrotera del Norte</td>\n",
              "      <td>317275</td>\n",
              "      <td>H02</td>\n",
              "      <td>ADN-00000000000003</td>\n",
              "      <td>AB40006741</td>\n",
              "      <td>Ph Premier 400 Hd 34M 12/4 B</td>\n",
              "      <td>10.0</td>\n",
              "      <td>0.0</td>\n",
              "      <td>0.0</td>\n",
              "      <td>Promotora Abarrotera del Norte317275</td>\n",
              "    </tr>\n",
              "  </tbody>\n",
              "</table>\n",
              "</div>\n",
              "    <div class=\"colab-df-buttons\">\n",
              "\n",
              "  <div class=\"colab-df-container\">\n",
              "    <button class=\"colab-df-convert\" onclick=\"convertToInteractive('df-eb07289d-4c85-401d-911c-ef1619c0e7c1')\"\n",
              "            title=\"Convert this dataframe to an interactive table.\"\n",
              "            style=\"display:none;\">\n",
              "\n",
              "  <svg xmlns=\"http://www.w3.org/2000/svg\" height=\"24px\" viewBox=\"0 -960 960 960\">\n",
              "    <path d=\"M120-120v-720h720v720H120Zm60-500h600v-160H180v160Zm220 220h160v-160H400v160Zm0 220h160v-160H400v160ZM180-400h160v-160H180v160Zm440 0h160v-160H620v160ZM180-180h160v-160H180v160Zm440 0h160v-160H620v160Z\"/>\n",
              "  </svg>\n",
              "    </button>\n",
              "\n",
              "  <style>\n",
              "    .colab-df-container {\n",
              "      display:flex;\n",
              "      gap: 12px;\n",
              "    }\n",
              "\n",
              "    .colab-df-convert {\n",
              "      background-color: #E8F0FE;\n",
              "      border: none;\n",
              "      border-radius: 50%;\n",
              "      cursor: pointer;\n",
              "      display: none;\n",
              "      fill: #1967D2;\n",
              "      height: 32px;\n",
              "      padding: 0 0 0 0;\n",
              "      width: 32px;\n",
              "    }\n",
              "\n",
              "    .colab-df-convert:hover {\n",
              "      background-color: #E2EBFA;\n",
              "      box-shadow: 0px 1px 2px rgba(60, 64, 67, 0.3), 0px 1px 3px 1px rgba(60, 64, 67, 0.15);\n",
              "      fill: #174EA6;\n",
              "    }\n",
              "\n",
              "    .colab-df-buttons div {\n",
              "      margin-bottom: 4px;\n",
              "    }\n",
              "\n",
              "    [theme=dark] .colab-df-convert {\n",
              "      background-color: #3B4455;\n",
              "      fill: #D2E3FC;\n",
              "    }\n",
              "\n",
              "    [theme=dark] .colab-df-convert:hover {\n",
              "      background-color: #434B5C;\n",
              "      box-shadow: 0px 1px 3px 1px rgba(0, 0, 0, 0.15);\n",
              "      filter: drop-shadow(0px 1px 2px rgba(0, 0, 0, 0.3));\n",
              "      fill: #FFFFFF;\n",
              "    }\n",
              "  </style>\n",
              "\n",
              "    <script>\n",
              "      const buttonEl =\n",
              "        document.querySelector('#df-eb07289d-4c85-401d-911c-ef1619c0e7c1 button.colab-df-convert');\n",
              "      buttonEl.style.display =\n",
              "        google.colab.kernel.accessAllowed ? 'block' : 'none';\n",
              "\n",
              "      async function convertToInteractive(key) {\n",
              "        const element = document.querySelector('#df-eb07289d-4c85-401d-911c-ef1619c0e7c1');\n",
              "        const dataTable =\n",
              "          await google.colab.kernel.invokeFunction('convertToInteractive',\n",
              "                                                    [key], {});\n",
              "        if (!dataTable) return;\n",
              "\n",
              "        const docLinkHtml = 'Like what you see? Visit the ' +\n",
              "          '<a target=\"_blank\" href=https://colab.research.google.com/notebooks/data_table.ipynb>data table notebook</a>'\n",
              "          + ' to learn more about interactive tables.';\n",
              "        element.innerHTML = '';\n",
              "        dataTable['output_type'] = 'display_data';\n",
              "        await google.colab.output.renderOutput(dataTable, element);\n",
              "        const docLink = document.createElement('div');\n",
              "        docLink.innerHTML = docLinkHtml;\n",
              "        element.appendChild(docLink);\n",
              "      }\n",
              "    </script>\n",
              "  </div>\n",
              "\n",
              "\n",
              "    <div id=\"df-8050bf1e-ce11-4e4c-b366-0f4df520f22c\">\n",
              "      <button class=\"colab-df-quickchart\" onclick=\"quickchart('df-8050bf1e-ce11-4e4c-b366-0f4df520f22c')\"\n",
              "                title=\"Suggest charts\"\n",
              "                style=\"display:none;\">\n",
              "\n",
              "<svg xmlns=\"http://www.w3.org/2000/svg\" height=\"24px\"viewBox=\"0 0 24 24\"\n",
              "     width=\"24px\">\n",
              "    <g>\n",
              "        <path d=\"M19 3H5c-1.1 0-2 .9-2 2v14c0 1.1.9 2 2 2h14c1.1 0 2-.9 2-2V5c0-1.1-.9-2-2-2zM9 17H7v-7h2v7zm4 0h-2V7h2v10zm4 0h-2v-4h2v4z\"/>\n",
              "    </g>\n",
              "</svg>\n",
              "      </button>\n",
              "\n",
              "<style>\n",
              "  .colab-df-quickchart {\n",
              "      --bg-color: #E8F0FE;\n",
              "      --fill-color: #1967D2;\n",
              "      --hover-bg-color: #E2EBFA;\n",
              "      --hover-fill-color: #174EA6;\n",
              "      --disabled-fill-color: #AAA;\n",
              "      --disabled-bg-color: #DDD;\n",
              "  }\n",
              "\n",
              "  [theme=dark] .colab-df-quickchart {\n",
              "      --bg-color: #3B4455;\n",
              "      --fill-color: #D2E3FC;\n",
              "      --hover-bg-color: #434B5C;\n",
              "      --hover-fill-color: #FFFFFF;\n",
              "      --disabled-bg-color: #3B4455;\n",
              "      --disabled-fill-color: #666;\n",
              "  }\n",
              "\n",
              "  .colab-df-quickchart {\n",
              "    background-color: var(--bg-color);\n",
              "    border: none;\n",
              "    border-radius: 50%;\n",
              "    cursor: pointer;\n",
              "    display: none;\n",
              "    fill: var(--fill-color);\n",
              "    height: 32px;\n",
              "    padding: 0;\n",
              "    width: 32px;\n",
              "  }\n",
              "\n",
              "  .colab-df-quickchart:hover {\n",
              "    background-color: var(--hover-bg-color);\n",
              "    box-shadow: 0 1px 2px rgba(60, 64, 67, 0.3), 0 1px 3px 1px rgba(60, 64, 67, 0.15);\n",
              "    fill: var(--button-hover-fill-color);\n",
              "  }\n",
              "\n",
              "  .colab-df-quickchart-complete:disabled,\n",
              "  .colab-df-quickchart-complete:disabled:hover {\n",
              "    background-color: var(--disabled-bg-color);\n",
              "    fill: var(--disabled-fill-color);\n",
              "    box-shadow: none;\n",
              "  }\n",
              "\n",
              "  .colab-df-spinner {\n",
              "    border: 2px solid var(--fill-color);\n",
              "    border-color: transparent;\n",
              "    border-bottom-color: var(--fill-color);\n",
              "    animation:\n",
              "      spin 1s steps(1) infinite;\n",
              "  }\n",
              "\n",
              "  @keyframes spin {\n",
              "    0% {\n",
              "      border-color: transparent;\n",
              "      border-bottom-color: var(--fill-color);\n",
              "      border-left-color: var(--fill-color);\n",
              "    }\n",
              "    20% {\n",
              "      border-color: transparent;\n",
              "      border-left-color: var(--fill-color);\n",
              "      border-top-color: var(--fill-color);\n",
              "    }\n",
              "    30% {\n",
              "      border-color: transparent;\n",
              "      border-left-color: var(--fill-color);\n",
              "      border-top-color: var(--fill-color);\n",
              "      border-right-color: var(--fill-color);\n",
              "    }\n",
              "    40% {\n",
              "      border-color: transparent;\n",
              "      border-right-color: var(--fill-color);\n",
              "      border-top-color: var(--fill-color);\n",
              "    }\n",
              "    60% {\n",
              "      border-color: transparent;\n",
              "      border-right-color: var(--fill-color);\n",
              "    }\n",
              "    80% {\n",
              "      border-color: transparent;\n",
              "      border-right-color: var(--fill-color);\n",
              "      border-bottom-color: var(--fill-color);\n",
              "    }\n",
              "    90% {\n",
              "      border-color: transparent;\n",
              "      border-bottom-color: var(--fill-color);\n",
              "    }\n",
              "  }\n",
              "</style>\n",
              "\n",
              "      <script>\n",
              "        async function quickchart(key) {\n",
              "          const quickchartButtonEl =\n",
              "            document.querySelector('#' + key + ' button');\n",
              "          quickchartButtonEl.disabled = true;  // To prevent multiple clicks.\n",
              "          quickchartButtonEl.classList.add('colab-df-spinner');\n",
              "          try {\n",
              "            const charts = await google.colab.kernel.invokeFunction(\n",
              "                'suggestCharts', [key], {});\n",
              "          } catch (error) {\n",
              "            console.error('Error during call to suggestCharts:', error);\n",
              "          }\n",
              "          quickchartButtonEl.classList.remove('colab-df-spinner');\n",
              "          quickchartButtonEl.classList.add('colab-df-quickchart-complete');\n",
              "        }\n",
              "        (() => {\n",
              "          let quickchartButtonEl =\n",
              "            document.querySelector('#df-8050bf1e-ce11-4e4c-b366-0f4df520f22c button');\n",
              "          quickchartButtonEl.style.display =\n",
              "            google.colab.kernel.accessAllowed ? 'block' : 'none';\n",
              "        })();\n",
              "      </script>\n",
              "    </div>\n",
              "\n",
              "    </div>\n",
              "  </div>\n"
            ],
            "application/vnd.google.colaboratory.intrinsic+json": {
              "type": "dataframe",
              "variable_name": "so",
              "summary": "{\n  \"name\": \"so\",\n  \"rows\": 84196,\n  \"fields\": [\n    {\n      \"column\": \"fecha\",\n      \"properties\": {\n        \"dtype\": \"date\",\n        \"min\": \"2025-04-01 00:00:00\",\n        \"max\": \"2025-06-01 00:00:00\",\n        \"num_unique_values\": 3,\n        \"samples\": [\n          \"2025-04-01 00:00:00\",\n          \"2025-05-01 00:00:00\",\n          \"2025-06-01 00:00:00\"\n        ],\n        \"semantic_type\": \"\",\n        \"description\": \"\"\n      }\n    },\n    {\n      \"column\": \"Cadena\",\n      \"properties\": {\n        \"dtype\": \"category\",\n        \"num_unique_values\": 9,\n        \"samples\": [\n          \"Abastecedora Parral\",\n          \"Duero\",\n          \"DECASA\"\n        ],\n        \"semantic_type\": \"\",\n        \"description\": \"\"\n      }\n    },\n    {\n      \"column\": \"ID_Local\",\n      \"properties\": {\n        \"dtype\": \"category\",\n        \"num_unique_values\": 1502,\n        \"samples\": [\n          \"587\",\n          \"10-657\",\n          \"3-223\"\n        ],\n        \"semantic_type\": \"\",\n        \"description\": \"\"\n      }\n    },\n    {\n      \"column\": \"nom_tienda\",\n      \"properties\": {\n        \"dtype\": \"category\",\n        \"num_unique_values\": 1491,\n        \"samples\": [\n          \"Abmty Huimanguillo 6\",\n          \"MERZA YURECUARO\",\n          \"MERZA LA CIMA\"\n        ],\n        \"semantic_type\": \"\",\n        \"description\": \"\"\n      }\n    },\n    {\n      \"column\": \"item_cadena\",\n      \"properties\": {\n        \"dtype\": \"category\",\n        \"num_unique_values\": 418,\n        \"samples\": [\n          \"Parral-04902751\",\n          \"Parral-04902928\",\n          \"Decasa-03464\"\n        ],\n        \"semantic_type\": \"\",\n        \"description\": \"\"\n      }\n    },\n    {\n      \"column\": \"sku_softys\",\n      \"properties\": {\n        \"dtype\": \"category\",\n        \"num_unique_values\": 219,\n        \"samples\": [\n          \"13117017830\",\n          \"AB16335636\",\n          \"AB11332475\"\n        ],\n        \"semantic_type\": \"\",\n        \"description\": \"\"\n      }\n    },\n    {\n      \"column\": \"material\",\n      \"properties\": {\n        \"dtype\": \"category\",\n        \"num_unique_values\": 410,\n        \"samples\": [\n          \"Panal Bbtips T-7 Xxx Grande 4 /40 Pz\",\n          \"Panal Classic T/Tela Mediano 6 /14 Pz\",\n          \"Toallitas Chicolastic Classic 12 /120 Ud\"\n        ],\n        \"semantic_type\": \"\",\n        \"description\": \"\"\n      }\n    },\n    {\n      \"column\": \"Cjas_Blts\",\n      \"properties\": {\n        \"dtype\": \"number\",\n        \"std\": 308.39208703376073,\n        \"min\": 0.0,\n        \"max\": 47949.0,\n        \"num_unique_values\": 3760,\n        \"samples\": [\n          13.998999999999999,\n          46.33,\n          19.25\n        ],\n        \"semantic_type\": \"\",\n        \"description\": \"\"\n      }\n    },\n    {\n      \"column\": \"Inv_cjas\",\n      \"properties\": {\n        \"dtype\": \"number\",\n        \"std\": 85.5800172484065,\n        \"min\": 0.0,\n        \"max\": 6274.0,\n        \"num_unique_values\": 1864,\n        \"samples\": [\n          3.33,\n          71.0,\n          199.63\n        ],\n        \"semantic_type\": \"\",\n        \"description\": \"\"\n      }\n    },\n    {\n      \"column\": \"importe_c/iva\",\n      \"properties\": {\n        \"dtype\": \"number\",\n        \"std\": 71624.96682618787,\n        \"min\": 0.0,\n        \"max\": 10858010.35,\n        \"num_unique_values\": 19891,\n        \"samples\": [\n          805.69,\n          2768.59,\n          68719.42\n        ],\n        \"semantic_type\": \"\",\n        \"description\": \"\"\n      }\n    },\n    {\n      \"column\": \"keytda\",\n      \"properties\": {\n        \"dtype\": \"category\",\n        \"num_unique_values\": 1523,\n        \"samples\": [\n          \"PCZ9-129\",\n          \"PCZ570\",\n          \"Vigil Toscano317108\"\n        ],\n        \"semantic_type\": \"\",\n        \"description\": \"\"\n      }\n    }\n  ]\n}"
            }
          },
          "metadata": {},
          "execution_count": 30
        }
      ]
    },
    {
      "cell_type": "code",
      "source": [
        "# columnas seleccionadas por index\n",
        "out=so.iloc[:,[1,7,9]]\n",
        "\n",
        "# solo seleccionar valores con registros mayores que cero en ambos atributos\n",
        "out = out[(out['Cjas_Blts']>0) & (out['importe_c/iva']>0)]"
      ],
      "metadata": {
        "id": "W1g2x9KcshSF"
      },
      "execution_count": null,
      "outputs": []
    },
    {
      "cell_type": "code",
      "source": [
        "out[\"precio_unidad\"]= out['importe_c/iva'] / out[\"Cjas_Blts\"]"
      ],
      "metadata": {
        "id": "8GIOoi4dKJNJ"
      },
      "execution_count": null,
      "outputs": []
    },
    {
      "cell_type": "markdown",
      "source": [
        "IQR"
      ],
      "metadata": {
        "id": "YFFrpXFyKPRJ"
      }
    },
    {
      "cell_type": "code",
      "source": [
        "# Perentiles\n",
        "seventy_fifth = out[\"precio_unidad\"].quantile(0.75)\n",
        "twenty_fifth = out[\"precio_unidad\"].quantile(0.25)\n",
        "\n",
        "# Obtener IQR\n",
        "iqr = seventy_fifth - twenty_fifth\n",
        "\n",
        "# Upper and lower thresholds\n",
        "upper = seventy_fifth + (0.5 * iqr)\n",
        "lower = twenty_fifth - (0.5 * iqr)\n",
        "\n",
        "# Subset the dataset\n",
        "outliers = out[(out[\"precio_unidad\"] < lower) | (out[\"precio_unidad\"] > upper)]\n",
        "outliers.head()\n",
        "\n",
        "# Obtain number of outliers\n",
        "print(f'Number of outliers: {len(outliers)}')\n"
      ],
      "metadata": {
        "id": "qSC9n0C-IXjw",
        "colab": {
          "base_uri": "https://localhost:8080/"
        },
        "outputId": "131151fe-23a2-4c46-f680-5eb267422020"
      },
      "execution_count": null,
      "outputs": [
        {
          "output_type": "stream",
          "name": "stdout",
          "text": [
            "Number of outliers: 5303\n"
          ]
        }
      ]
    },
    {
      "cell_type": "code",
      "source": [
        "round(out['precio_unidad'].groupby(out['Cadena']).\n",
        "      describe(),3)"
      ],
      "metadata": {
        "id": "ZH5QpVko6naK",
        "colab": {
          "base_uri": "https://localhost:8080/"
        },
        "outputId": "3aa346e1-864f-4442-d11f-ee67f04ca236"
      },
      "execution_count": null,
      "outputs": [
        {
          "output_type": "execute_result",
          "data": {
            "text/plain": [
              "                       count     mean       std      min      25%      50%  \\\n",
              "Cadena                                                                       \n",
              "Abastecedora Parral   2064.0  446.963   226.872   47.598  322.579  448.280   \n",
              "COMA                   201.0  254.536    80.995  155.172  181.059  239.692   \n",
              "DECASA                 249.0  392.559   154.135  167.093  277.586  362.000   \n",
              "Duero                 4887.0  342.017   113.087   66.826  260.129  315.880   \n",
              "La Soledad             600.0  369.052   177.047  164.715  239.417  334.138   \n",
              "Mini Abastos          3361.0  369.785   149.913   89.566  253.085  358.500   \n",
              "PCZ                  15534.0  946.684  1293.524  124.800  271.600  363.751   \n",
              "Vigil Toscano          746.0  342.697    96.637  170.648  265.517  336.205   \n",
              "\n",
              "                          75%        max  \n",
              "Cadena                                    \n",
              "Abastecedora Parral   558.067   4393.560  \n",
              "COMA                  320.322    431.183  \n",
              "DECASA                510.345    769.566  \n",
              "Duero                 374.560    665.360  \n",
              "La Soledad            461.430   1050.778  \n",
              "Mini Abastos          458.345    835.065  \n",
              "PCZ                  1176.016  10690.000  \n",
              "Vigil Toscano         445.500    598.802  "
            ],
            "text/html": [
              "\n",
              "  <div id=\"df-03708663-189a-4a4e-9507-10c8cef6842f\" class=\"colab-df-container\">\n",
              "    <div>\n",
              "<style scoped>\n",
              "    .dataframe tbody tr th:only-of-type {\n",
              "        vertical-align: middle;\n",
              "    }\n",
              "\n",
              "    .dataframe tbody tr th {\n",
              "        vertical-align: top;\n",
              "    }\n",
              "\n",
              "    .dataframe thead th {\n",
              "        text-align: right;\n",
              "    }\n",
              "</style>\n",
              "<table border=\"1\" class=\"dataframe\">\n",
              "  <thead>\n",
              "    <tr style=\"text-align: right;\">\n",
              "      <th></th>\n",
              "      <th>count</th>\n",
              "      <th>mean</th>\n",
              "      <th>std</th>\n",
              "      <th>min</th>\n",
              "      <th>25%</th>\n",
              "      <th>50%</th>\n",
              "      <th>75%</th>\n",
              "      <th>max</th>\n",
              "    </tr>\n",
              "    <tr>\n",
              "      <th>Cadena</th>\n",
              "      <th></th>\n",
              "      <th></th>\n",
              "      <th></th>\n",
              "      <th></th>\n",
              "      <th></th>\n",
              "      <th></th>\n",
              "      <th></th>\n",
              "      <th></th>\n",
              "    </tr>\n",
              "  </thead>\n",
              "  <tbody>\n",
              "    <tr>\n",
              "      <th>Abastecedora Parral</th>\n",
              "      <td>2064.0</td>\n",
              "      <td>446.963</td>\n",
              "      <td>226.872</td>\n",
              "      <td>47.598</td>\n",
              "      <td>322.579</td>\n",
              "      <td>448.280</td>\n",
              "      <td>558.067</td>\n",
              "      <td>4393.560</td>\n",
              "    </tr>\n",
              "    <tr>\n",
              "      <th>COMA</th>\n",
              "      <td>201.0</td>\n",
              "      <td>254.536</td>\n",
              "      <td>80.995</td>\n",
              "      <td>155.172</td>\n",
              "      <td>181.059</td>\n",
              "      <td>239.692</td>\n",
              "      <td>320.322</td>\n",
              "      <td>431.183</td>\n",
              "    </tr>\n",
              "    <tr>\n",
              "      <th>DECASA</th>\n",
              "      <td>249.0</td>\n",
              "      <td>392.559</td>\n",
              "      <td>154.135</td>\n",
              "      <td>167.093</td>\n",
              "      <td>277.586</td>\n",
              "      <td>362.000</td>\n",
              "      <td>510.345</td>\n",
              "      <td>769.566</td>\n",
              "    </tr>\n",
              "    <tr>\n",
              "      <th>Duero</th>\n",
              "      <td>4887.0</td>\n",
              "      <td>342.017</td>\n",
              "      <td>113.087</td>\n",
              "      <td>66.826</td>\n",
              "      <td>260.129</td>\n",
              "      <td>315.880</td>\n",
              "      <td>374.560</td>\n",
              "      <td>665.360</td>\n",
              "    </tr>\n",
              "    <tr>\n",
              "      <th>La Soledad</th>\n",
              "      <td>600.0</td>\n",
              "      <td>369.052</td>\n",
              "      <td>177.047</td>\n",
              "      <td>164.715</td>\n",
              "      <td>239.417</td>\n",
              "      <td>334.138</td>\n",
              "      <td>461.430</td>\n",
              "      <td>1050.778</td>\n",
              "    </tr>\n",
              "    <tr>\n",
              "      <th>Mini Abastos</th>\n",
              "      <td>3361.0</td>\n",
              "      <td>369.785</td>\n",
              "      <td>149.913</td>\n",
              "      <td>89.566</td>\n",
              "      <td>253.085</td>\n",
              "      <td>358.500</td>\n",
              "      <td>458.345</td>\n",
              "      <td>835.065</td>\n",
              "    </tr>\n",
              "    <tr>\n",
              "      <th>PCZ</th>\n",
              "      <td>15534.0</td>\n",
              "      <td>946.684</td>\n",
              "      <td>1293.524</td>\n",
              "      <td>124.800</td>\n",
              "      <td>271.600</td>\n",
              "      <td>363.751</td>\n",
              "      <td>1176.016</td>\n",
              "      <td>10690.000</td>\n",
              "    </tr>\n",
              "    <tr>\n",
              "      <th>Vigil Toscano</th>\n",
              "      <td>746.0</td>\n",
              "      <td>342.697</td>\n",
              "      <td>96.637</td>\n",
              "      <td>170.648</td>\n",
              "      <td>265.517</td>\n",
              "      <td>336.205</td>\n",
              "      <td>445.500</td>\n",
              "      <td>598.802</td>\n",
              "    </tr>\n",
              "  </tbody>\n",
              "</table>\n",
              "</div>\n",
              "    <div class=\"colab-df-buttons\">\n",
              "\n",
              "  <div class=\"colab-df-container\">\n",
              "    <button class=\"colab-df-convert\" onclick=\"convertToInteractive('df-03708663-189a-4a4e-9507-10c8cef6842f')\"\n",
              "            title=\"Convert this dataframe to an interactive table.\"\n",
              "            style=\"display:none;\">\n",
              "\n",
              "  <svg xmlns=\"http://www.w3.org/2000/svg\" height=\"24px\" viewBox=\"0 -960 960 960\">\n",
              "    <path d=\"M120-120v-720h720v720H120Zm60-500h600v-160H180v160Zm220 220h160v-160H400v160Zm0 220h160v-160H400v160ZM180-400h160v-160H180v160Zm440 0h160v-160H620v160ZM180-180h160v-160H180v160Zm440 0h160v-160H620v160Z\"/>\n",
              "  </svg>\n",
              "    </button>\n",
              "\n",
              "  <style>\n",
              "    .colab-df-container {\n",
              "      display:flex;\n",
              "      gap: 12px;\n",
              "    }\n",
              "\n",
              "    .colab-df-convert {\n",
              "      background-color: #E8F0FE;\n",
              "      border: none;\n",
              "      border-radius: 50%;\n",
              "      cursor: pointer;\n",
              "      display: none;\n",
              "      fill: #1967D2;\n",
              "      height: 32px;\n",
              "      padding: 0 0 0 0;\n",
              "      width: 32px;\n",
              "    }\n",
              "\n",
              "    .colab-df-convert:hover {\n",
              "      background-color: #E2EBFA;\n",
              "      box-shadow: 0px 1px 2px rgba(60, 64, 67, 0.3), 0px 1px 3px 1px rgba(60, 64, 67, 0.15);\n",
              "      fill: #174EA6;\n",
              "    }\n",
              "\n",
              "    .colab-df-buttons div {\n",
              "      margin-bottom: 4px;\n",
              "    }\n",
              "\n",
              "    [theme=dark] .colab-df-convert {\n",
              "      background-color: #3B4455;\n",
              "      fill: #D2E3FC;\n",
              "    }\n",
              "\n",
              "    [theme=dark] .colab-df-convert:hover {\n",
              "      background-color: #434B5C;\n",
              "      box-shadow: 0px 1px 3px 1px rgba(0, 0, 0, 0.15);\n",
              "      filter: drop-shadow(0px 1px 2px rgba(0, 0, 0, 0.3));\n",
              "      fill: #FFFFFF;\n",
              "    }\n",
              "  </style>\n",
              "\n",
              "    <script>\n",
              "      const buttonEl =\n",
              "        document.querySelector('#df-03708663-189a-4a4e-9507-10c8cef6842f button.colab-df-convert');\n",
              "      buttonEl.style.display =\n",
              "        google.colab.kernel.accessAllowed ? 'block' : 'none';\n",
              "\n",
              "      async function convertToInteractive(key) {\n",
              "        const element = document.querySelector('#df-03708663-189a-4a4e-9507-10c8cef6842f');\n",
              "        const dataTable =\n",
              "          await google.colab.kernel.invokeFunction('convertToInteractive',\n",
              "                                                    [key], {});\n",
              "        if (!dataTable) return;\n",
              "\n",
              "        const docLinkHtml = 'Like what you see? Visit the ' +\n",
              "          '<a target=\"_blank\" href=https://colab.research.google.com/notebooks/data_table.ipynb>data table notebook</a>'\n",
              "          + ' to learn more about interactive tables.';\n",
              "        element.innerHTML = '';\n",
              "        dataTable['output_type'] = 'display_data';\n",
              "        await google.colab.output.renderOutput(dataTable, element);\n",
              "        const docLink = document.createElement('div');\n",
              "        docLink.innerHTML = docLinkHtml;\n",
              "        element.appendChild(docLink);\n",
              "      }\n",
              "    </script>\n",
              "  </div>\n",
              "\n",
              "\n",
              "    <div id=\"df-f0a76b4d-9d7f-49a3-b13c-06e25cb8b815\">\n",
              "      <button class=\"colab-df-quickchart\" onclick=\"quickchart('df-f0a76b4d-9d7f-49a3-b13c-06e25cb8b815')\"\n",
              "                title=\"Suggest charts\"\n",
              "                style=\"display:none;\">\n",
              "\n",
              "<svg xmlns=\"http://www.w3.org/2000/svg\" height=\"24px\"viewBox=\"0 0 24 24\"\n",
              "     width=\"24px\">\n",
              "    <g>\n",
              "        <path d=\"M19 3H5c-1.1 0-2 .9-2 2v14c0 1.1.9 2 2 2h14c1.1 0 2-.9 2-2V5c0-1.1-.9-2-2-2zM9 17H7v-7h2v7zm4 0h-2V7h2v10zm4 0h-2v-4h2v4z\"/>\n",
              "    </g>\n",
              "</svg>\n",
              "      </button>\n",
              "\n",
              "<style>\n",
              "  .colab-df-quickchart {\n",
              "      --bg-color: #E8F0FE;\n",
              "      --fill-color: #1967D2;\n",
              "      --hover-bg-color: #E2EBFA;\n",
              "      --hover-fill-color: #174EA6;\n",
              "      --disabled-fill-color: #AAA;\n",
              "      --disabled-bg-color: #DDD;\n",
              "  }\n",
              "\n",
              "  [theme=dark] .colab-df-quickchart {\n",
              "      --bg-color: #3B4455;\n",
              "      --fill-color: #D2E3FC;\n",
              "      --hover-bg-color: #434B5C;\n",
              "      --hover-fill-color: #FFFFFF;\n",
              "      --disabled-bg-color: #3B4455;\n",
              "      --disabled-fill-color: #666;\n",
              "  }\n",
              "\n",
              "  .colab-df-quickchart {\n",
              "    background-color: var(--bg-color);\n",
              "    border: none;\n",
              "    border-radius: 50%;\n",
              "    cursor: pointer;\n",
              "    display: none;\n",
              "    fill: var(--fill-color);\n",
              "    height: 32px;\n",
              "    padding: 0;\n",
              "    width: 32px;\n",
              "  }\n",
              "\n",
              "  .colab-df-quickchart:hover {\n",
              "    background-color: var(--hover-bg-color);\n",
              "    box-shadow: 0 1px 2px rgba(60, 64, 67, 0.3), 0 1px 3px 1px rgba(60, 64, 67, 0.15);\n",
              "    fill: var(--button-hover-fill-color);\n",
              "  }\n",
              "\n",
              "  .colab-df-quickchart-complete:disabled,\n",
              "  .colab-df-quickchart-complete:disabled:hover {\n",
              "    background-color: var(--disabled-bg-color);\n",
              "    fill: var(--disabled-fill-color);\n",
              "    box-shadow: none;\n",
              "  }\n",
              "\n",
              "  .colab-df-spinner {\n",
              "    border: 2px solid var(--fill-color);\n",
              "    border-color: transparent;\n",
              "    border-bottom-color: var(--fill-color);\n",
              "    animation:\n",
              "      spin 1s steps(1) infinite;\n",
              "  }\n",
              "\n",
              "  @keyframes spin {\n",
              "    0% {\n",
              "      border-color: transparent;\n",
              "      border-bottom-color: var(--fill-color);\n",
              "      border-left-color: var(--fill-color);\n",
              "    }\n",
              "    20% {\n",
              "      border-color: transparent;\n",
              "      border-left-color: var(--fill-color);\n",
              "      border-top-color: var(--fill-color);\n",
              "    }\n",
              "    30% {\n",
              "      border-color: transparent;\n",
              "      border-left-color: var(--fill-color);\n",
              "      border-top-color: var(--fill-color);\n",
              "      border-right-color: var(--fill-color);\n",
              "    }\n",
              "    40% {\n",
              "      border-color: transparent;\n",
              "      border-right-color: var(--fill-color);\n",
              "      border-top-color: var(--fill-color);\n",
              "    }\n",
              "    60% {\n",
              "      border-color: transparent;\n",
              "      border-right-color: var(--fill-color);\n",
              "    }\n",
              "    80% {\n",
              "      border-color: transparent;\n",
              "      border-right-color: var(--fill-color);\n",
              "      border-bottom-color: var(--fill-color);\n",
              "    }\n",
              "    90% {\n",
              "      border-color: transparent;\n",
              "      border-bottom-color: var(--fill-color);\n",
              "    }\n",
              "  }\n",
              "</style>\n",
              "\n",
              "      <script>\n",
              "        async function quickchart(key) {\n",
              "          const quickchartButtonEl =\n",
              "            document.querySelector('#' + key + ' button');\n",
              "          quickchartButtonEl.disabled = true;  // To prevent multiple clicks.\n",
              "          quickchartButtonEl.classList.add('colab-df-spinner');\n",
              "          try {\n",
              "            const charts = await google.colab.kernel.invokeFunction(\n",
              "                'suggestCharts', [key], {});\n",
              "          } catch (error) {\n",
              "            console.error('Error during call to suggestCharts:', error);\n",
              "          }\n",
              "          quickchartButtonEl.classList.remove('colab-df-spinner');\n",
              "          quickchartButtonEl.classList.add('colab-df-quickchart-complete');\n",
              "        }\n",
              "        (() => {\n",
              "          let quickchartButtonEl =\n",
              "            document.querySelector('#df-f0a76b4d-9d7f-49a3-b13c-06e25cb8b815 button');\n",
              "          quickchartButtonEl.style.display =\n",
              "            google.colab.kernel.accessAllowed ? 'block' : 'none';\n",
              "        })();\n",
              "      </script>\n",
              "    </div>\n",
              "\n",
              "    </div>\n",
              "  </div>\n"
            ],
            "application/vnd.google.colaboratory.intrinsic+json": {
              "type": "dataframe",
              "summary": "{\n  \"name\": \"      describe(),3)\",\n  \"rows\": 8,\n  \"fields\": [\n    {\n      \"column\": \"Cadena\",\n      \"properties\": {\n        \"dtype\": \"string\",\n        \"num_unique_values\": 8,\n        \"samples\": [\n          \"COMA\",\n          \"Mini Abastos\",\n          \"Abastecedora Parral\"\n        ],\n        \"semantic_type\": \"\",\n        \"description\": \"\"\n      }\n    },\n    {\n      \"column\": \"count\",\n      \"properties\": {\n        \"dtype\": \"number\",\n        \"std\": 5158.256066041811,\n        \"min\": 201.0,\n        \"max\": 15534.0,\n        \"num_unique_values\": 8,\n        \"samples\": [\n          201.0,\n          3361.0,\n          2064.0\n        ],\n        \"semantic_type\": \"\",\n        \"description\": \"\"\n      }\n    },\n    {\n      \"column\": \"mean\",\n      \"properties\": {\n        \"dtype\": \"number\",\n        \"std\": 214.49911797949693,\n        \"min\": 254.536,\n        \"max\": 946.684,\n        \"num_unique_values\": 8,\n        \"samples\": [\n          254.536,\n          369.785,\n          446.963\n        ],\n        \"semantic_type\": \"\",\n        \"description\": \"\"\n      }\n    },\n    {\n      \"column\": \"std\",\n      \"properties\": {\n        \"dtype\": \"number\",\n        \"std\": 409.55753525926343,\n        \"min\": 80.995,\n        \"max\": 1293.524,\n        \"num_unique_values\": 8,\n        \"samples\": [\n          80.995,\n          149.913,\n          226.872\n        ],\n        \"semantic_type\": \"\",\n        \"description\": \"\"\n      }\n    },\n    {\n      \"column\": \"min\",\n      \"properties\": {\n        \"dtype\": \"number\",\n        \"std\": 49.20950076313661,\n        \"min\": 47.598,\n        \"max\": 170.648,\n        \"num_unique_values\": 8,\n        \"samples\": [\n          155.172,\n          89.566,\n          47.598\n        ],\n        \"semantic_type\": \"\",\n        \"description\": \"\"\n      }\n    },\n    {\n      \"column\": \"25%\",\n      \"properties\": {\n        \"dtype\": \"number\",\n        \"std\": 39.79121055854278,\n        \"min\": 181.059,\n        \"max\": 322.579,\n        \"num_unique_values\": 8,\n        \"samples\": [\n          181.059,\n          253.085,\n          322.579\n        ],\n        \"semantic_type\": \"\",\n        \"description\": \"\"\n      }\n    },\n    {\n      \"column\": \"50%\",\n      \"properties\": {\n        \"dtype\": \"number\",\n        \"std\": 58.091542130257025,\n        \"min\": 239.692,\n        \"max\": 448.28,\n        \"num_unique_values\": 8,\n        \"samples\": [\n          239.692,\n          358.5,\n          448.28\n        ],\n        \"semantic_type\": \"\",\n        \"description\": \"\"\n      }\n    },\n    {\n      \"column\": \"75%\",\n      \"properties\": {\n        \"dtype\": \"number\",\n        \"std\": 268.08642961362693,\n        \"min\": 320.322,\n        \"max\": 1176.016,\n        \"num_unique_values\": 8,\n        \"samples\": [\n          320.322,\n          458.345,\n          558.067\n        ],\n        \"semantic_type\": \"\",\n        \"description\": \"\"\n      }\n    },\n    {\n      \"column\": \"max\",\n      \"properties\": {\n        \"dtype\": \"number\",\n        \"std\": 3580.678022873671,\n        \"min\": 431.183,\n        \"max\": 10690.0,\n        \"num_unique_values\": 8,\n        \"samples\": [\n          431.183,\n          835.065,\n          4393.56\n        ],\n        \"semantic_type\": \"\",\n        \"description\": \"\"\n      }\n    }\n  ]\n}"
            }
          },
          "metadata": {},
          "execution_count": 34
        }
      ]
    },
    {
      "cell_type": "code",
      "source": [
        "# Histograma rapido, pero no estetico\n",
        "#histogramas = out['precio_unidad'].hist(by=out['Cadena'])"
      ],
      "metadata": {
        "id": "sAda8Jt9tnY9"
      },
      "execution_count": null,
      "outputs": []
    },
    {
      "cell_type": "code",
      "source": [
        "# exportar los outliers\n",
        "outliers.to_excel('out.xlsx',sheet_name = 'Sheet1',index=False)"
      ],
      "metadata": {
        "id": "LhnZ90LBr3zR"
      },
      "execution_count": null,
      "outputs": []
    },
    {
      "source": [
        "import matplotlib.pyplot as plt\n",
        "import numpy as np\n",
        "\n",
        "# Replace infinite values with NaN\n",
        "out.replace([np.inf, -np.inf], np.nan, inplace=True)\n",
        "\n",
        "# Drop rows with NaN values in 'precio_unidad' column\n",
        "out.dropna(subset=['precio_unidad'], inplace=True)\n",
        "\n",
        "# Calculate the number of unique 'Cadena' values\n",
        "num_cadenas = len(out['Cadena'].unique())\n",
        "\n",
        "# Calculate the number of rows and columns for subplots\n",
        "# Adjust nrows and ncols as needed to accommodate all 'Cadena' values\n",
        "nrows = int(np.ceil(num_cadenas / 3))  # Example: 3 columns\n",
        "ncols = 3\n",
        "\n",
        "# Create the figure and axes with enough subplots\n",
        "fig, axes = plt.subplots(nrows=nrows, ncols=ncols, figsize=(12, 4*nrows))\n",
        "\n",
        "# Flatten the axes array if necessary\n",
        "axes = axes.flatten()\n",
        "\n",
        "# Loop through unique 'Cadena' values and create histograms\n",
        "for i, cadena in enumerate(out['Cadena'].unique()):\n",
        "    # Select data for the current 'Cadena'\n",
        "    cadena_data = out[out['Cadena'] == cadena]['precio_unidad']\n",
        "\n",
        "    # Plot histogram on the corresponding axes\n",
        "    axes[i].hist(cadena_data)\n",
        "    axes[i].set_title(cadena)  # Set title for each subplot\n",
        "\n",
        "# Hide any empty subplots if num_cadenas is not a multiple of nrows*ncols\n",
        "for i in range(num_cadenas, nrows * ncols):\n",
        "    axes[i].set_visible(False)\n",
        "\n",
        "plt.tight_layout()\n",
        "plt.show()"
      ],
      "cell_type": "code",
      "metadata": {
        "id": "sKtqVXNSscqu",
        "colab": {
          "base_uri": "https://localhost:8080/"
        },
        "outputId": "437d644c-4ce0-4d12-9374-2c754d636733"
      },
      "execution_count": null,
      "outputs": [
        {
          "output_type": "display_data",
          "data": {
            "text/plain": [
              "<Figure size 1200x1200 with 9 Axes>"
            ],
            "image/png": "[encoded data removed]"
          },
          "metadata": {}
        }
      ]
    },
    {
      "cell_type": "markdown",
      "source": [
        "# Merge"
      ],
      "metadata": {
        "id": "W1CldyaagRkO"
      }
    },
    {
      "cell_type": "markdown",
      "source": [
        "**Espacios en blanco**"
      ],
      "metadata": {
        "id": "NErIwXbZ0oFK"
      }
    },
    {
      "cell_type": "code",
      "source": [
        "# espacios en blanco para todo los archivos a trabajar\n",
        "\n",
        "so = so.replace(r'\\s+', ' ', regex=True)\n",
        "\n",
        "tdas = tdas.replace(r'\\s+', ' ', regex=True)\n",
        "\n",
        "ab = ab.replace(r'\\s+', ' ', regex=True)"
      ],
      "metadata": {
        "id": "o8lZ8sTcohp7",
        "collapsed": true
      },
      "execution_count": 167,
      "outputs": []
    },
    {
      "cell_type": "markdown",
      "source": [
        "## Merge 1: Tiendas"
      ],
      "metadata": {
        "id": "gihVYbmjKRMq"
      }
    },
    {
      "cell_type": "markdown",
      "source": [
        "**ELIMINAR tiendas o REMPLAZAR el registro de Tiendas**"
      ],
      "metadata": {
        "id": "kJobcS-I8Tlp"
      }
    },
    {
      "cell_type": "code",
      "source": [
        "# Duero\n",
        "so[\"ID_Local\"] = so[\"ID_Local\"].replace([\"C004\"], \"C354\")\n",
        "\n",
        "##########################\n",
        "# Garis\n",
        "condition =(so[\"ID_Local\"] == \"E3\") & (so[\"Cadena\"] == \"Garis\") | \\\n",
        "           (so[\"ID_Local\"] == \"E5\") & (so[\"Cadena\"] == \"Garis\") | \\\n",
        "           (so[\"ID_Local\"] == \"F2\") & (so[\"Cadena\"] == \"Garis\") | \\\n",
        "           (so[\"ID_Local\"] == \"GB\") & (so[\"Cadena\"] == \"Garis\") | \\\n",
        "           (so[\"ID_Local\"] == \"BOD\") & (so[\"Cadena\"] == \"Garis\") | \\\n",
        "           (so[\"ID_Local\"] == \"CUM\") & (so[\"Cadena\"] == \"Garis\") | \\\n",
        "           (so[\"ID_Local\"] == \"LOT\") & (so[\"Cadena\"] == \"Garis\") | \\\n",
        "           (so[\"ID_Local\"] == \"MER\") & (so[\"Cadena\"] == \"Garis\") | \\\n",
        "           (so[\"ID_Local\"] == \"PAB\") & (so[\"Cadena\"] == \"Garis\") | \\\n",
        "           (so[\"ID_Local\"] == \"CUL\") & (so[\"Cadena\"] == \"Garis\")\n",
        "#Delete rows based on the condition\n",
        "so = so[~condition]\n",
        "\n",
        "#############################\n",
        "# Zorro\n",
        "condition =(so[\"ID_Local\"] == \"CED\") & (so[\"Cadena\"] == \"Zorro\") | \\\n",
        "           (so[\"ID_Local\"] == \"DLS\") & (so[\"Cadena\"] == \"Zorro\") | \\\n",
        "           (so[\"ID_Local\"] == \"CPI\") & (so[\"Cadena\"] == \"Zorro\")\n",
        "so = so[~condition]\n",
        "\n",
        "################################\n",
        "# Sanchez\n",
        "condition =(so[\"ID_Local\"] == \"VENTA EXPO\") & (so[\"Cadena\"] == \"Grupo Sanchez\")\n",
        "condition =(so[\"ID_Local\"] == \"BODEGA LOGISTICA INVERSA\") & (so[\"Cadena\"] == \"Grupo Sanchez\")\n",
        "\n",
        "so = so[~condition]\n",
        "\n",
        "##############################\n",
        "# Aki\n",
        "condition =(so[\"ID_Local\"] == \"31\") & (so[\"Cadena\"] == \"Super Aki\")\n",
        "so = so[~condition]\n",
        "\n",
        "so.loc[(so[\"ID_Local\"] == \"127\") & (so[\"Cadena\"] == \"Super Aki\"), \"ID_Local\"] = \"127\"\n",
        "\n",
        "####################################\n",
        "# Gran Bodega\n",
        "so.loc[(so[\"ID_Local\"] == \"83\") & (so[\"Cadena\"] == \"Gran Bodega\"), \"ID_Local\"] = \"83 IZUCAR\"\n",
        "\n",
        "#################################\n",
        "# PCZ\n",
        "#eliminar los siguientes puntos de venta\n",
        "condition =(so[\"ID_Local\"] == 603) & (so[\"Cadena\"] == \"PCZ\") | \\\n",
        "           (so[\"ID_Local\"] == 251) & (so[\"Cadena\"] == \"PCZ\") | \\\n",
        "           (so[\"ID_Local\"] == 902) & (so[\"Cadena\"] == \"PCZ\") | \\\n",
        "           (so[\"ID_Local\"] == 602) & (so[\"Cadena\"] == \"PCZ\") | \\\n",
        "           (so[\"ID_Local\"] == 500) & (so[\"Cadena\"] == \"PCZ\") | \\\n",
        "           (so[\"ID_Local\"] == 284) & (so[\"Cadena\"] == \"PCZ\") | \\\n",
        "           (so[\"ID_Local\"] == 862) & (so[\"Cadena\"] == \"PCZ\") | \\\n",
        "           (so[\"ID_Local\"] == 2) & (so[\"Cadena\"] == \"PCZ\")   | \\\n",
        "           (so[\"ID_Local\"] == 922) & (so[\"Cadena\"] == \"PCZ\") | \\\n",
        "           (so[\"ID_Local\"] == 792) & (so[\"Cadena\"] == \"PCZ\") | \\\n",
        "           (so[\"ID_Local\"] == 942) & (so[\"Cadena\"] == \"PCZ\") | \\\n",
        "           (so[\"ID_Local\"] == 842) & (so[\"Cadena\"] == \"PCZ\") | \\\n",
        "           (so[\"ID_Local\"] == \"200-Id\") & (so[\"Cadena\"] == \"PCZ\") | \\\n",
        "           (so[\"ID_Local\"] == 822) & (so[\"Cadena\"] == \"PCZ\")\n",
        "# Delete rows based on the condition\n",
        "so = so[~condition]\n",
        "\n",
        "# sustitucion de tienda\n",
        "so.loc[(so[\"ID_Local\"] == \"827\") & (so[\"Cadena\"] == \"PCZ\"), \"ID_Local\"] = \"487\"\n",
        "so.loc[(so[\"ID_Local\"] == \"832\") & (so[\"Cadena\"] == \"PCZ\"), \"ID_Local\"] = \"831\"\n",
        "\n",
        "######################################\n",
        "# Sahuayo\n",
        "so.loc[(so[\"ID_Local\"] == \"12\") & (so[\"Cadena\"] == \"Sahuayo\"), \"ID_Local\"] = \"11\"\n",
        "so.loc[(so[\"ID_Local\"] == \"12603\") & (so[\"Cadena\"] == \"Sahuayo\"), \"ID_Local\"] = \"49\"\n",
        "so.loc[(so[\"ID_Local\"] == \"13\") & (so[\"Cadena\"] == \"Sahuayo\"), \"ID_Local\"] = \"9\"\n",
        "so.loc[(so[\"ID_Local\"] == \"16\") & (so[\"Cadena\"] == \"Sahuayo\"), \"ID_Local\"] = \"102\"\n",
        "so.loc[(so[\"ID_Local\"] == \"17\") & (so[\"Cadena\"] == \"Sahuayo\"), \"ID_Local\"] = \"63\"\n",
        "so.loc[(so[\"ID_Local\"] == \"21\") & (so[\"Cadena\"] == \"Sahuayo\"), \"ID_Local\"] = \"18\"\n",
        "so.loc[(so[\"ID_Local\"] == \"22\") & (so[\"Cadena\"] == \"Sahuayo\"), \"ID_Local\"] = \"19\"\n",
        "so.loc[(so[\"ID_Local\"] == \"23\") & (so[\"Cadena\"] == \"Sahuayo\"), \"ID_Local\"] = \"84\"\n",
        "so.loc[(so[\"ID_Local\"] == \"25\") & (so[\"Cadena\"] == \"Sahuayo\"), \"ID_Local\"] = \"51\"\n",
        "so.loc[(so[\"ID_Local\"] == \"27\") & (so[\"Cadena\"] == \"Sahuayo\"), \"ID_Local\"] = \"24\"\n",
        "so.loc[(so[\"ID_Local\"] == \"31\") & (so[\"Cadena\"] == \"Sahuayo\"), \"ID_Local\"] = \"15\"\n",
        "so.loc[(so[\"ID_Local\"] == \"32\") & (so[\"Cadena\"] == \"Sahuayo\"), \"ID_Local\"] = \"69\"\n",
        "so.loc[(so[\"ID_Local\"] == \"34\") & (so[\"Cadena\"] == \"Sahuayo\"), \"ID_Local\"] = \"33\"\n",
        "so.loc[(so[\"ID_Local\"] == \"38\") & (so[\"Cadena\"] == \"Sahuayo\"), \"ID_Local\"] = \"36\"\n",
        "so.loc[(so[\"ID_Local\"] == \"41\") & (so[\"Cadena\"] == \"Sahuayo\"), \"ID_Local\"] = \"42\"\n",
        "so.loc[(so[\"ID_Local\"] == \"5\") & (so[\"Cadena\"] == \"Sahuayo\"), \"ID_Local\"] = \"26\"\n",
        "so.loc[(so[\"ID_Local\"] == \"7\") & (so[\"Cadena\"] == \"Sahuayo\"), \"ID_Local\"] = \"58\"\n",
        "\n",
        "###########################\n",
        "#CAGSA\n",
        "condition =(so[\"ID_Local\"] == 285827) & (so[\"Cadena\"] == \"CAGSA\")\n",
        "so = so[~condition]\n",
        "\n",
        "###########################\n",
        "# Parral\n",
        "so.loc[(so[\"ID_Local\"] == \"\") & (so[\"nom_tienda\"] == \"ACP CHH CEDIS\"), \"ID_Local\"] = \"1\"\n"
      ],
      "metadata": {
        "id": "m3c-w_7s8YBp"
      },
      "execution_count": 168,
      "outputs": []
    },
    {
      "cell_type": "markdown",
      "source": [
        "**Tiendas Dbyte >> Tiendas relacionadas**"
      ],
      "metadata": {
        "id": "Km-hHVTVvT4P"
      }
    },
    {
      "cell_type": "code",
      "source": [
        "# catalogo de tiendas relacionadas\n",
        "tdas_dbyte=pd.read_excel(\"/content/drive/MyDrive/Sell Out/Dbyte_cubos/RelTdas_Dbyte.xlsx\")\n",
        "tdas_dbyte = tdas_dbyte.replace(r'\\s+', ' ', regex=True)"
      ],
      "metadata": {
        "id": "ZJX5r-SltARx"
      },
      "execution_count": 169,
      "outputs": []
    },
    {
      "cell_type": "code",
      "source": [
        "# renombrar columnas en catalogo de tiendas dbyte\n",
        "tdas_dbyte= tdas_dbyte.rename(columns={'Cadena': \"Holding\"})\n",
        "tdas_dbyte= tdas_dbyte.rename(columns={'ID_Original': \"Código Punto de Venta Cadena\"})\n",
        "tdas_dbyte= tdas_dbyte.rename(columns={'nombre_local': \"Nombre de Tienda\"})\n",
        "\n",
        "# Key Tda\n",
        "tdas_dbyte['key_tda'] =tdas_dbyte['Holding'].astype(str) + tdas_dbyte['ID_local'].astype(str)\n",
        "\n",
        "# seleccionar columnas\n",
        "tdas_dbyte= tdas_dbyte.iloc[:,[3,4]]\n",
        "\n",
        "# reacomodar columnas\n",
        "tdas_dbyte = tdas_dbyte.iloc[:, [1,0]]"
      ],
      "metadata": {
        "id": "rU128kjQtKDX"
      },
      "execution_count": 170,
      "outputs": []
    },
    {
      "cell_type": "markdown",
      "source": [
        "*Diccionario de cambios:*\n",
        "1.   Tiendas relacionadas para Dbyte\n",
        "2.   Tiendas relacionadas deben de aparejarse con las tiendas reportadas en sell out\n",
        "3.  Una vez aparejadas, se debe retomar el codigo de punto original que reporta la cadena\n",
        "\n"
      ],
      "metadata": {
        "id": "RUR4BNDmaNdt"
      }
    },
    {
      "source": [
        "# Ensure 'ID_Local'->'so' AND 'key_tda'->'tdas_dbyte' are of the same type (e.g., string)\n",
        "so['ID_Local'] = so['ID_Local'].astype(str)\n",
        "tdas_dbyte['key_tda'] = tdas_dbyte['key_tda'].astype(str)\n",
        "\n",
        "# Create a dictionary mapping 'key_tda' (tdas_dbyte) to 'Código Punto de Venta Cadena' (so)\n",
        "replacement_dict = dict(zip(tdas_dbyte['key_tda'], tdas_dbyte['Código Punto de Venta Cadena']))\n",
        "\n",
        "# Use the dictionary to replace values in 'so'\n",
        "so['ID_Local'] = so['keytda'].map(replacement_dict).fillna(so['ID_Local'])"
      ],
      "cell_type": "code",
      "metadata": {
        "id": "dWWKBA-p7tmL"
      },
      "execution_count": 171,
      "outputs": []
    },
    {
      "cell_type": "markdown",
      "source": [
        "**Tiendas relacionadas >> Catalogo de tiendas BI**"
      ],
      "metadata": {
        "id": "RnYNb2Pl7w9R"
      }
    },
    {
      "cell_type": "code",
      "source": [
        "# reformar de nuevo la columna key_tda (referenciar a catalogos de tienda) sobre la ya realizada\n",
        "so['keytda'] =so['Cadena'].astype(str) + so['ID_Local'].astype(str)\n",
        "\n",
        "# merge\n",
        "so = so.merge(tdas, left_on=\"keytda\", right_on=\"key_tda\", how=\"left\")\n",
        "\n",
        "# eliminar descripciones \"eliminar\"\n",
        "so = so[so['ID_Local'] != 'eliminar']"
      ],
      "metadata": {
        "collapsed": true,
        "id": "g-7j0W4MG7g2"
      },
      "execution_count": 172,
      "outputs": []
    },
    {
      "cell_type": "markdown",
      "source": [
        "*Resultado = Tiendas no relacionadas*"
      ],
      "metadata": {
        "id": "1n2UqXUM1o_5"
      }
    },
    {
      "cell_type": "code",
      "source": [
        "tdas_nas= so[so.isna().any(axis=1)]  #revisar registros con datos faltantes\n",
        "tdas_nas.to_excel('tdas_nas.xlsx',sheet_name = 'Sheet1',index=False)\n",
        "\n",
        "tdas_nas.tail()\n",
        "\n",
        "#so.dropna(inplace=True) #eliminar registros con datos faltantes"
      ],
      "metadata": {
        "id": "KW3_1ylAglyD",
        "colab": {
          "base_uri": "https://localhost:8080/",
          "height": 0
        },
        "outputId": "81dd342a-772d-4345-ec75-16a67b658b95"
      },
      "execution_count": 173,
      "outputs": [
        {
          "output_type": "execute_result",
          "data": {
            "text/plain": [
              "Empty DataFrame\n",
              "Columns: [fecha, Cadena, ID_Local, nom_tienda, item_cadena, sku_softys, material, Cjas_Blts, Inv_cjas, importe_c/iva, keytda, key_tda]\n",
              "Index: []"
            ],
            "text/html": [
              "\n",
              "  <div id=\"df-38ed52e7-4878-44a1-b61a-9eab113834d9\" class=\"colab-df-container\">\n",
              "    <div>\n",
              "<style scoped>\n",
              "    .dataframe tbody tr th:only-of-type {\n",
              "        vertical-align: middle;\n",
              "    }\n",
              "\n",
              "    .dataframe tbody tr th {\n",
              "        vertical-align: top;\n",
              "    }\n",
              "\n",
              "    .dataframe thead th {\n",
              "        text-align: right;\n",
              "    }\n",
              "</style>\n",
              "<table border=\"1\" class=\"dataframe\">\n",
              "  <thead>\n",
              "    <tr style=\"text-align: right;\">\n",
              "      <th></th>\n",
              "      <th>fecha</th>\n",
              "      <th>Cadena</th>\n",
              "      <th>ID_Local</th>\n",
              "      <th>nom_tienda</th>\n",
              "      <th>item_cadena</th>\n",
              "      <th>sku_softys</th>\n",
              "      <th>material</th>\n",
              "      <th>Cjas_Blts</th>\n",
              "      <th>Inv_cjas</th>\n",
              "      <th>importe_c/iva</th>\n",
              "      <th>keytda</th>\n",
              "      <th>key_tda</th>\n",
              "    </tr>\n",
              "  </thead>\n",
              "  <tbody>\n",
              "  </tbody>\n",
              "</table>\n",
              "</div>\n",
              "    <div class=\"colab-df-buttons\">\n",
              "\n",
              "  <div class=\"colab-df-container\">\n",
              "    <button class=\"colab-df-convert\" onclick=\"convertToInteractive('df-38ed52e7-4878-44a1-b61a-9eab113834d9')\"\n",
              "            title=\"Convert this dataframe to an interactive table.\"\n",
              "            style=\"display:none;\">\n",
              "\n",
              "  <svg xmlns=\"http://www.w3.org/2000/svg\" height=\"24px\" viewBox=\"0 -960 960 960\">\n",
              "    <path d=\"M120-120v-720h720v720H120Zm60-500h600v-160H180v160Zm220 220h160v-160H400v160Zm0 220h160v-160H400v160ZM180-400h160v-160H180v160Zm440 0h160v-160H620v160ZM180-180h160v-160H180v160Zm440 0h160v-160H620v160Z\"/>\n",
              "  </svg>\n",
              "    </button>\n",
              "\n",
              "  <style>\n",
              "    .colab-df-container {\n",
              "      display:flex;\n",
              "      gap: 12px;\n",
              "    }\n",
              "\n",
              "    .colab-df-convert {\n",
              "      background-color: #E8F0FE;\n",
              "      border: none;\n",
              "      border-radius: 50%;\n",
              "      cursor: pointer;\n",
              "      display: none;\n",
              "      fill: #1967D2;\n",
              "      height: 32px;\n",
              "      padding: 0 0 0 0;\n",
              "      width: 32px;\n",
              "    }\n",
              "\n",
              "    .colab-df-convert:hover {\n",
              "      background-color: #E2EBFA;\n",
              "      box-shadow: 0px 1px 2px rgba(60, 64, 67, 0.3), 0px 1px 3px 1px rgba(60, 64, 67, 0.15);\n",
              "      fill: #174EA6;\n",
              "    }\n",
              "\n",
              "    .colab-df-buttons div {\n",
              "      margin-bottom: 4px;\n",
              "    }\n",
              "\n",
              "    [theme=dark] .colab-df-convert {\n",
              "      background-color: #3B4455;\n",
              "      fill: #D2E3FC;\n",
              "    }\n",
              "\n",
              "    [theme=dark] .colab-df-convert:hover {\n",
              "      background-color: #434B5C;\n",
              "      box-shadow: 0px 1px 3px 1px rgba(0, 0, 0, 0.15);\n",
              "      filter: drop-shadow(0px 1px 2px rgba(0, 0, 0, 0.3));\n",
              "      fill: #FFFFFF;\n",
              "    }\n",
              "  </style>\n",
              "\n",
              "    <script>\n",
              "      const buttonEl =\n",
              "        document.querySelector('#df-38ed52e7-4878-44a1-b61a-9eab113834d9 button.colab-df-convert');\n",
              "      buttonEl.style.display =\n",
              "        google.colab.kernel.accessAllowed ? 'block' : 'none';\n",
              "\n",
              "      async function convertToInteractive(key) {\n",
              "        const element = document.querySelector('#df-38ed52e7-4878-44a1-b61a-9eab113834d9');\n",
              "        const dataTable =\n",
              "          await google.colab.kernel.invokeFunction('convertToInteractive',\n",
              "                                                    [key], {});\n",
              "        if (!dataTable) return;\n",
              "\n",
              "        const docLinkHtml = 'Like what you see? Visit the ' +\n",
              "          '<a target=\"_blank\" href=https://colab.research.google.com/notebooks/data_table.ipynb>data table notebook</a>'\n",
              "          + ' to learn more about interactive tables.';\n",
              "        element.innerHTML = '';\n",
              "        dataTable['output_type'] = 'display_data';\n",
              "        await google.colab.output.renderOutput(dataTable, element);\n",
              "        const docLink = document.createElement('div');\n",
              "        docLink.innerHTML = docLinkHtml;\n",
              "        element.appendChild(docLink);\n",
              "      }\n",
              "    </script>\n",
              "  </div>\n",
              "\n",
              "\n",
              "    </div>\n",
              "  </div>\n"
            ],
            "application/vnd.google.colaboratory.intrinsic+json": {
              "type": "dataframe",
              "repr_error": "Out of range float values are not JSON compliant: nan"
            }
          },
          "metadata": {},
          "execution_count": 173
        }
      ]
    },
    {
      "cell_type": "markdown",
      "source": [
        "## Merge 2: Productos"
      ],
      "metadata": {
        "id": "UlV7aPupcPBN"
      }
    },
    {
      "cell_type": "markdown",
      "source": [
        "**Codigo cadena >> AB relacionado**"
      ],
      "metadata": {
        "id": "hATT6kfQFX5T"
      }
    },
    {
      "cell_type": "code",
      "source": [
        "prod_holding=pd.read_excel(\"/content/drive/Shareddrives/Catalogos_SO/Prod_Holding.xlsx\",\n",
        "                 engine=\"openpyxl\")\n",
        "\n",
        "prod_holding= prod_holding.iloc[:,[3,5]]\n",
        "\n",
        "prod_holding = prod_holding.drop_duplicates()\n",
        "prod_holding = prod_holding.dropna()\n",
        "\n",
        "prod_holding = prod_holding.replace(r'\\s+', ' ', regex=True)\n",
        "\n",
        "prod_holding.info()"
      ],
      "metadata": {
        "id": "e9qt9kWoc3V0",
        "colab": {
          "base_uri": "https://localhost:8080/"
        },
        "outputId": "73007806-38ea-4b03-f778-865fb14b9e6d"
      },
      "execution_count": 174,
      "outputs": [
        {
          "output_type": "stream",
          "name": "stdout",
          "text": [
            "<class 'pandas.core.frame.DataFrame'>\n",
            "Index: 2637 entries, 0 to 3255\n",
            "Data columns (total 2 columns):\n",
            " #   Column         Non-Null Count  Dtype \n",
            "---  ------         --------------  ----- \n",
            " 0   identificador  2637 non-null   object\n",
            " 1   CODIGO         2637 non-null   object\n",
            "dtypes: object(2)\n",
            "memory usage: 61.8+ KB\n"
          ]
        }
      ]
    },
    {
      "cell_type": "code",
      "source": [
        "# igualar los tipos de atributos en tipo de datos para el Merge\n",
        "\n",
        "prod_holding['identificador']=prod_holding['identificador'].astype(str)\n",
        "so['item_cadena']=so['item_cadena'].astype(str)"
      ],
      "metadata": {
        "id": "elsulMFkrMkb"
      },
      "execution_count": 175,
      "outputs": []
    },
    {
      "cell_type": "code",
      "source": [
        "so = so.merge(prod_holding, left_on=\"item_cadena\", right_on=\"identificador\", how=\"left\")"
      ],
      "metadata": {
        "id": "KgOkqDFQY_Fg"
      },
      "execution_count": 176,
      "outputs": []
    },
    {
      "cell_type": "code",
      "source": [
        "prod_nas= so[so.isna().any(axis=1)]  #revisar registros con datos faltantes\n",
        "prod_nas.to_excel('prod_nas.xlsx',sheet_name = 'Sheet1',index=False)\n",
        "\n",
        "prod_nas.tail()\n",
        "#so.dropna(inplace=True) #eliminar registros con datos faltantes"
      ],
      "metadata": {
        "id": "bCoC9ZBGgdnP",
        "colab": {
          "base_uri": "https://localhost:8080/",
          "height": 73
        },
        "outputId": "e1ba9b82-0d8a-4e34-a96d-505dfc3dde47"
      },
      "execution_count": 177,
      "outputs": [
        {
          "output_type": "execute_result",
          "data": {
            "text/plain": [
              "Empty DataFrame\n",
              "Columns: [fecha, Cadena, ID_Local, nom_tienda, item_cadena, sku_softys, material, Cjas_Blts, Inv_cjas, importe_c/iva, keytda, key_tda, identificador, CODIGO]\n",
              "Index: []"
            ],
            "text/html": [
              "\n",
              "  <div id=\"df-379a8d8a-6ecc-4f45-b026-af2d4d81e7d3\" class=\"colab-df-container\">\n",
              "    <div>\n",
              "<style scoped>\n",
              "    .dataframe tbody tr th:only-of-type {\n",
              "        vertical-align: middle;\n",
              "    }\n",
              "\n",
              "    .dataframe tbody tr th {\n",
              "        vertical-align: top;\n",
              "    }\n",
              "\n",
              "    .dataframe thead th {\n",
              "        text-align: right;\n",
              "    }\n",
              "</style>\n",
              "<table border=\"1\" class=\"dataframe\">\n",
              "  <thead>\n",
              "    <tr style=\"text-align: right;\">\n",
              "      <th></th>\n",
              "      <th>fecha</th>\n",
              "      <th>Cadena</th>\n",
              "      <th>ID_Local</th>\n",
              "      <th>nom_tienda</th>\n",
              "      <th>item_cadena</th>\n",
              "      <th>sku_softys</th>\n",
              "      <th>material</th>\n",
              "      <th>Cjas_Blts</th>\n",
              "      <th>Inv_cjas</th>\n",
              "      <th>importe_c/iva</th>\n",
              "      <th>keytda</th>\n",
              "      <th>key_tda</th>\n",
              "      <th>identificador</th>\n",
              "      <th>CODIGO</th>\n",
              "    </tr>\n",
              "  </thead>\n",
              "  <tbody>\n",
              "  </tbody>\n",
              "</table>\n",
              "</div>\n",
              "    <div class=\"colab-df-buttons\">\n",
              "\n",
              "  <div class=\"colab-df-container\">\n",
              "    <button class=\"colab-df-convert\" onclick=\"convertToInteractive('df-379a8d8a-6ecc-4f45-b026-af2d4d81e7d3')\"\n",
              "            title=\"Convert this dataframe to an interactive table.\"\n",
              "            style=\"display:none;\">\n",
              "\n",
              "  <svg xmlns=\"http://www.w3.org/2000/svg\" height=\"24px\" viewBox=\"0 -960 960 960\">\n",
              "    <path d=\"M120-120v-720h720v720H120Zm60-500h600v-160H180v160Zm220 220h160v-160H400v160Zm0 220h160v-160H400v160ZM180-400h160v-160H180v160Zm440 0h160v-160H620v160ZM180-180h160v-160H180v160Zm440 0h160v-160H620v160Z\"/>\n",
              "  </svg>\n",
              "    </button>\n",
              "\n",
              "  <style>\n",
              "    .colab-df-container {\n",
              "      display:flex;\n",
              "      gap: 12px;\n",
              "    }\n",
              "\n",
              "    .colab-df-convert {\n",
              "      background-color: #E8F0FE;\n",
              "      border: none;\n",
              "      border-radius: 50%;\n",
              "      cursor: pointer;\n",
              "      display: none;\n",
              "      fill: #1967D2;\n",
              "      height: 32px;\n",
              "      padding: 0 0 0 0;\n",
              "      width: 32px;\n",
              "    }\n",
              "\n",
              "    .colab-df-convert:hover {\n",
              "      background-color: #E2EBFA;\n",
              "      box-shadow: 0px 1px 2px rgba(60, 64, 67, 0.3), 0px 1px 3px 1px rgba(60, 64, 67, 0.15);\n",
              "      fill: #174EA6;\n",
              "    }\n",
              "\n",
              "    .colab-df-buttons div {\n",
              "      margin-bottom: 4px;\n",
              "    }\n",
              "\n",
              "    [theme=dark] .colab-df-convert {\n",
              "      background-color: #3B4455;\n",
              "      fill: #D2E3FC;\n",
              "    }\n",
              "\n",
              "    [theme=dark] .colab-df-convert:hover {\n",
              "      background-color: #434B5C;\n",
              "      box-shadow: 0px 1px 3px 1px rgba(0, 0, 0, 0.15);\n",
              "      filter: drop-shadow(0px 1px 2px rgba(0, 0, 0, 0.3));\n",
              "      fill: #FFFFFF;\n",
              "    }\n",
              "  </style>\n",
              "\n",
              "    <script>\n",
              "      const buttonEl =\n",
              "        document.querySelector('#df-379a8d8a-6ecc-4f45-b026-af2d4d81e7d3 button.colab-df-convert');\n",
              "      buttonEl.style.display =\n",
              "        google.colab.kernel.accessAllowed ? 'block' : 'none';\n",
              "\n",
              "      async function convertToInteractive(key) {\n",
              "        const element = document.querySelector('#df-379a8d8a-6ecc-4f45-b026-af2d4d81e7d3');\n",
              "        const dataTable =\n",
              "          await google.colab.kernel.invokeFunction('convertToInteractive',\n",
              "                                                    [key], {});\n",
              "        if (!dataTable) return;\n",
              "\n",
              "        const docLinkHtml = 'Like what you see? Visit the ' +\n",
              "          '<a target=\"_blank\" href=https://colab.research.google.com/notebooks/data_table.ipynb>data table notebook</a>'\n",
              "          + ' to learn more about interactive tables.';\n",
              "        element.innerHTML = '';\n",
              "        dataTable['output_type'] = 'display_data';\n",
              "        await google.colab.output.renderOutput(dataTable, element);\n",
              "        const docLink = document.createElement('div');\n",
              "        docLink.innerHTML = docLinkHtml;\n",
              "        element.appendChild(docLink);\n",
              "      }\n",
              "    </script>\n",
              "  </div>\n",
              "\n",
              "\n",
              "    </div>\n",
              "  </div>\n"
            ],
            "application/vnd.google.colaboratory.intrinsic+json": {
              "type": "dataframe",
              "repr_error": "Out of range float values are not JSON compliant: nan"
            }
          },
          "metadata": {},
          "execution_count": 177
        }
      ]
    },
    {
      "cell_type": "markdown",
      "source": [
        "**AB relacionado >> Catalogo de materiales AB**"
      ],
      "metadata": {
        "id": "k2yyZopsFlvq"
      }
    },
    {
      "cell_type": "markdown",
      "source": [
        "Realizar las transformaciones de paquetes a cajas, es decir, multiplicar la variable por el factor de paquetes-cajas"
      ],
      "metadata": {
        "id": "N-O9rn9Tx9aj"
      }
    },
    {
      "cell_type": "code",
      "source": [
        "so.info()"
      ],
      "metadata": {
        "colab": {
          "base_uri": "https://localhost:8080/"
        },
        "id": "SFOnFJEkw51j",
        "outputId": "8337cc67-2036-461c-a786-3d1ef0f92a73"
      },
      "execution_count": 178,
      "outputs": [
        {
          "output_type": "stream",
          "name": "stdout",
          "text": [
            "<class 'pandas.core.frame.DataFrame'>\n",
            "RangeIndex: 735 entries, 0 to 734\n",
            "Data columns (total 14 columns):\n",
            " #   Column         Non-Null Count  Dtype  \n",
            "---  ------         --------------  -----  \n",
            " 0   fecha          735 non-null    object \n",
            " 1   Cadena         735 non-null    object \n",
            " 2   ID_Local       735 non-null    object \n",
            " 3   nom_tienda     735 non-null    object \n",
            " 4   item_cadena    735 non-null    object \n",
            " 5   sku_softys     735 non-null    object \n",
            " 6   material       735 non-null    object \n",
            " 7   Cjas_Blts      735 non-null    float64\n",
            " 8   Inv_cjas       735 non-null    float64\n",
            " 9   importe_c/iva  735 non-null    float64\n",
            " 10  keytda         735 non-null    object \n",
            " 11  key_tda        735 non-null    object \n",
            " 12  identificador  735 non-null    object \n",
            " 13  CODIGO         735 non-null    object \n",
            "dtypes: float64(3), object(11)\n",
            "memory usage: 80.5+ KB\n"
          ]
        }
      ]
    },
    {
      "cell_type": "code",
      "source": [
        "# conservar columnas de trabajo\n",
        "#so = so.iloc[:,[1,2,7,8,9,10,14]]\n",
        "so = so.iloc[:,[0,1,2,7,8,9,13]]\n",
        "\n",
        "# eliminar codigos sin regitros de prod_holding\n",
        "so = so[so['CODIGO'] !='eliminar']\n",
        "\n",
        "#######\n",
        "# {factor cajas}\n",
        "#so = so.merge(ab, left_on=\"CODIGO\", right_on=\"CODIGO\", how=\"left\")\n",
        "\n",
        "# Trasnformar piezas e inventarios (dbyte) a cajas\n",
        "#so[\"Cjas_Blts\"]= so['Cjas_Blts']/so['Empaquetado (Cj/Blt)']\n",
        "#so[\"Inv_cjas\"]= so['Inv_cjas']/so['Empaquetado (Cj/Blt)']\n",
        "########\n",
        "\n",
        "# importe sin iva\n",
        "so[\"importe_s/iva\"] = so['importe_c/iva']/1.16\n",
        "\n",
        "so.head(1)"
      ],
      "metadata": {
        "id": "AI1hy4eGsSjg",
        "collapsed": true,
        "colab": {
          "base_uri": "https://localhost:8080/",
          "height": 81
        },
        "outputId": "a29a25d9-ca5a-4a8b-d779-4ed49168072f"
      },
      "execution_count": 179,
      "outputs": [
        {
          "output_type": "execute_result",
          "data": {
            "text/plain": [
              "    fecha               Cadena ID_Local  Cjas_Blts  Inv_cjas  importe_c/iva  \\\n",
              "0  12 Dic  Abastecedora Parral        1      54.25       0.0       29656.39   \n",
              "\n",
              "       CODIGO  importe_s/iva  \n",
              "0  3911564040   25565.853448  "
            ],
            "text/html": [
              "\n",
              "  <div id=\"df-15854379-3248-42c1-9e37-fa320e83df4f\" class=\"colab-df-container\">\n",
              "    <div>\n",
              "<style scoped>\n",
              "    .dataframe tbody tr th:only-of-type {\n",
              "        vertical-align: middle;\n",
              "    }\n",
              "\n",
              "    .dataframe tbody tr th {\n",
              "        vertical-align: top;\n",
              "    }\n",
              "\n",
              "    .dataframe thead th {\n",
              "        text-align: right;\n",
              "    }\n",
              "</style>\n",
              "<table border=\"1\" class=\"dataframe\">\n",
              "  <thead>\n",
              "    <tr style=\"text-align: right;\">\n",
              "      <th></th>\n",
              "      <th>fecha</th>\n",
              "      <th>Cadena</th>\n",
              "      <th>ID_Local</th>\n",
              "      <th>Cjas_Blts</th>\n",
              "      <th>Inv_cjas</th>\n",
              "      <th>importe_c/iva</th>\n",
              "      <th>CODIGO</th>\n",
              "      <th>importe_s/iva</th>\n",
              "    </tr>\n",
              "  </thead>\n",
              "  <tbody>\n",
              "    <tr>\n",
              "      <th>0</th>\n",
              "      <td>12 Dic</td>\n",
              "      <td>Abastecedora Parral</td>\n",
              "      <td>1</td>\n",
              "      <td>54.25</td>\n",
              "      <td>0.0</td>\n",
              "      <td>29656.39</td>\n",
              "      <td>3911564040</td>\n",
              "      <td>25565.853448</td>\n",
              "    </tr>\n",
              "  </tbody>\n",
              "</table>\n",
              "</div>\n",
              "    <div class=\"colab-df-buttons\">\n",
              "\n",
              "  <div class=\"colab-df-container\">\n",
              "    <button class=\"colab-df-convert\" onclick=\"convertToInteractive('df-15854379-3248-42c1-9e37-fa320e83df4f')\"\n",
              "            title=\"Convert this dataframe to an interactive table.\"\n",
              "            style=\"display:none;\">\n",
              "\n",
              "  <svg xmlns=\"http://www.w3.org/2000/svg\" height=\"24px\" viewBox=\"0 -960 960 960\">\n",
              "    <path d=\"M120-120v-720h720v720H120Zm60-500h600v-160H180v160Zm220 220h160v-160H400v160Zm0 220h160v-160H400v160ZM180-400h160v-160H180v160Zm440 0h160v-160H620v160ZM180-180h160v-160H180v160Zm440 0h160v-160H620v160Z\"/>\n",
              "  </svg>\n",
              "    </button>\n",
              "\n",
              "  <style>\n",
              "    .colab-df-container {\n",
              "      display:flex;\n",
              "      gap: 12px;\n",
              "    }\n",
              "\n",
              "    .colab-df-convert {\n",
              "      background-color: #E8F0FE;\n",
              "      border: none;\n",
              "      border-radius: 50%;\n",
              "      cursor: pointer;\n",
              "      display: none;\n",
              "      fill: #1967D2;\n",
              "      height: 32px;\n",
              "      padding: 0 0 0 0;\n",
              "      width: 32px;\n",
              "    }\n",
              "\n",
              "    .colab-df-convert:hover {\n",
              "      background-color: #E2EBFA;\n",
              "      box-shadow: 0px 1px 2px rgba(60, 64, 67, 0.3), 0px 1px 3px 1px rgba(60, 64, 67, 0.15);\n",
              "      fill: #174EA6;\n",
              "    }\n",
              "\n",
              "    .colab-df-buttons div {\n",
              "      margin-bottom: 4px;\n",
              "    }\n",
              "\n",
              "    [theme=dark] .colab-df-convert {\n",
              "      background-color: #3B4455;\n",
              "      fill: #D2E3FC;\n",
              "    }\n",
              "\n",
              "    [theme=dark] .colab-df-convert:hover {\n",
              "      background-color: #434B5C;\n",
              "      box-shadow: 0px 1px 3px 1px rgba(0, 0, 0, 0.15);\n",
              "      filter: drop-shadow(0px 1px 2px rgba(0, 0, 0, 0.3));\n",
              "      fill: #FFFFFF;\n",
              "    }\n",
              "  </style>\n",
              "\n",
              "    <script>\n",
              "      const buttonEl =\n",
              "        document.querySelector('#df-15854379-3248-42c1-9e37-fa320e83df4f button.colab-df-convert');\n",
              "      buttonEl.style.display =\n",
              "        google.colab.kernel.accessAllowed ? 'block' : 'none';\n",
              "\n",
              "      async function convertToInteractive(key) {\n",
              "        const element = document.querySelector('#df-15854379-3248-42c1-9e37-fa320e83df4f');\n",
              "        const dataTable =\n",
              "          await google.colab.kernel.invokeFunction('convertToInteractive',\n",
              "                                                    [key], {});\n",
              "        if (!dataTable) return;\n",
              "\n",
              "        const docLinkHtml = 'Like what you see? Visit the ' +\n",
              "          '<a target=\"_blank\" href=https://colab.research.google.com/notebooks/data_table.ipynb>data table notebook</a>'\n",
              "          + ' to learn more about interactive tables.';\n",
              "        element.innerHTML = '';\n",
              "        dataTable['output_type'] = 'display_data';\n",
              "        await google.colab.output.renderOutput(dataTable, element);\n",
              "        const docLink = document.createElement('div');\n",
              "        docLink.innerHTML = docLinkHtml;\n",
              "        element.appendChild(docLink);\n",
              "      }\n",
              "    </script>\n",
              "  </div>\n",
              "\n",
              "\n",
              "    </div>\n",
              "  </div>\n"
            ],
            "application/vnd.google.colaboratory.intrinsic+json": {
              "type": "dataframe",
              "variable_name": "so",
              "summary": "{\n  \"name\": \"so\",\n  \"rows\": 735,\n  \"fields\": [\n    {\n      \"column\": \"fecha\",\n      \"properties\": {\n        \"dtype\": \"category\",\n        \"num_unique_values\": 1,\n        \"samples\": [\n          \"12 Dic\"\n        ],\n        \"semantic_type\": \"\",\n        \"description\": \"\"\n      }\n    },\n    {\n      \"column\": \"Cadena\",\n      \"properties\": {\n        \"dtype\": \"category\",\n        \"num_unique_values\": 1,\n        \"samples\": [\n          \"Abastecedora Parral\"\n        ],\n        \"semantic_type\": \"\",\n        \"description\": \"\"\n      }\n    },\n    {\n      \"column\": \"ID_Local\",\n      \"properties\": {\n        \"dtype\": \"category\",\n        \"num_unique_values\": 19,\n        \"samples\": [\n          \"1\"\n        ],\n        \"semantic_type\": \"\",\n        \"description\": \"\"\n      }\n    },\n    {\n      \"column\": \"Cjas_Blts\",\n      \"properties\": {\n        \"dtype\": \"number\",\n        \"std\": 21.023040992290692,\n        \"min\": 0.0,\n        \"max\": 224.429,\n        \"num_unique_values\": 211,\n        \"samples\": [\n          7.0\n        ],\n        \"semantic_type\": \"\",\n        \"description\": \"\"\n      }\n    },\n    {\n      \"column\": \"Inv_cjas\",\n      \"properties\": {\n        \"dtype\": \"number\",\n        \"std\": 0.0,\n        \"min\": 0.0,\n        \"max\": 0.0,\n        \"num_unique_values\": 1,\n        \"samples\": [\n          0.0\n        ],\n        \"semantic_type\": \"\",\n        \"description\": \"\"\n      }\n    },\n    {\n      \"column\": \"importe_c/iva\",\n      \"properties\": {\n        \"dtype\": \"number\",\n        \"std\": 8148.241771087363,\n        \"min\": 0.0,\n        \"max\": 88591.47,\n        \"num_unique_values\": 690,\n        \"samples\": [\n          240.92\n        ],\n        \"semantic_type\": \"\",\n        \"description\": \"\"\n      }\n    },\n    {\n      \"column\": \"CODIGO\",\n      \"properties\": {\n        \"dtype\": \"category\",\n        \"num_unique_values\": 46,\n        \"samples\": [\n          \"C3133131081\"\n        ],\n        \"semantic_type\": \"\",\n        \"description\": \"\"\n      }\n    },\n    {\n      \"column\": \"importe_s/iva\",\n      \"properties\": {\n        \"dtype\": \"number\",\n        \"std\": 7024.346354385661,\n        \"min\": 0.0,\n        \"max\": 76371.95689655172,\n        \"num_unique_values\": 690,\n        \"samples\": [\n          207.6896551724138\n        ],\n        \"semantic_type\": \"\",\n        \"description\": \"\"\n      }\n    }\n  ]\n}"
            }
          },
          "metadata": {},
          "execution_count": 179
        }
      ]
    },
    {
      "cell_type": "markdown",
      "source": [
        "# Layout BI"
      ],
      "metadata": {
        "id": "j9rJUW7UyJJl"
      }
    },
    {
      "cell_type": "markdown",
      "source": [
        "Renombras columnas en función del layout original"
      ],
      "metadata": {
        "id": "CAiKR-l07IIZ"
      }
    },
    {
      "cell_type": "code",
      "source": [
        "# tabla de contigencia\n",
        "pivot_table = pd.pivot_table(data= so,\n",
        "                              index= [ \"fecha\",\"Cadena\", \"ID_Local\", \"CODIGO\"], # fecha BI\n",
        "                              values= [\"Cjas_Blts\", \"Inv_cjas\", \"importe_c/iva\", \"importe_s/iva\"],\n",
        "                              aggfunc= np.sum,\n",
        "                              fill_value=0,)\n",
        "\n",
        "# drop observations when we have at least 0 in other attributes\n",
        "pivot_table = pivot_table[~(pivot_table == 0).all(axis=1)]\n",
        "\n",
        "# Assuming you want the current column order\n",
        "column_order = [\"fecha\",\"Cadena\", \"ID_Local\", \"CODIGO\",\"Cjas_Blts\", \"importe_s/iva\", \"Inv_cjas\", \"importe_c/iva\"] # fecha BI\n",
        "\n",
        "# exportar tabla contigencia\n",
        "pivot_table.reset_index().to_excel('sell out.xlsx',sheet_name = 'Sheet1',index=False, columns= column_order)"
      ],
      "metadata": {
        "id": "jsR6hoAxpt9X",
        "colab": {
          "base_uri": "https://localhost:8080/"
        },
        "outputId": "fdae74d6-dac7-430e-fd2f-6b4677655b34"
      },
      "execution_count": 180,
      "outputs": [
        {
          "output_type": "stream",
          "name": "stderr",
          "text": [
            "/tmp/ipython-input-1220339849.py:2: FutureWarning: The provided callable <function sum at 0x7a3213711620> is currently using DataFrameGroupBy.sum. In a future version of pandas, the provided callable will be used directly. To keep current behavior pass the string \"sum\" instead.\n",
            "  pivot_table = pd.pivot_table(data= so,\n"
          ]
        }
      ]
    }
  ]
}